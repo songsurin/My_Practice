{
 "cells": [
  {
   "cell_type": "code",
   "execution_count": 13,
   "metadata": {},
   "outputs": [],
   "source": [
    "from keras.datasets import reuters\n",
    "#로이터 뉴스 데이터 로딩, num_words 사용할 상위 단어수, maxlen 상위 1000개 단어\n",
    "(X_train, y_train), (X_test, y_test) = reuters.load_data( num_words=1000,test_split=0.2)"
   ]
  },
  {
   "cell_type": "code",
   "execution_count": 14,
   "metadata": {},
   "outputs": [],
   "source": [
    "from tensorflow.keras.preprocessing import sequence\n",
    "# 제로패딩\n",
    "X_train = sequence.pad_sequences(X_train, maxlen=50)\n",
    "X_test = sequence.pad_sequences(X_test, maxlen=50)"
   ]
  },
  {
   "cell_type": "code",
   "execution_count": 15,
   "metadata": {},
   "outputs": [
    {
     "data": {
      "text/plain": [
       "array([ 49,   8, 864,  39, 209, 154,   6, 151,   6,  83,  11,  15,  22,\n",
       "       155,  11,  15,   7,  48,   9,   2,   2, 504,   6, 258,   6, 272,\n",
       "        11,  15,  22, 134,  44,  11,  15,  16,   8, 197,   2,  90,  67,\n",
       "        52,  29, 209,  30,  32, 132,   6, 109,  15,  17,  12])"
      ]
     },
     "execution_count": 15,
     "metadata": {},
     "output_type": "execute_result"
    }
   ],
   "source": [
    "X_train[0]"
   ]
  },
  {
   "cell_type": "code",
   "execution_count": 16,
   "metadata": {},
   "outputs": [
    {
     "data": {
      "text/plain": [
       "array([3, 4, 3, 4, 4], dtype=int64)"
      ]
     },
     "execution_count": 16,
     "metadata": {},
     "output_type": "execute_result"
    }
   ],
   "source": [
    "y_train[:5]"
   ]
  },
  {
   "cell_type": "code",
   "execution_count": 17,
   "metadata": {},
   "outputs": [],
   "source": [
    "from keras.utils import np_utils\n",
    "#원핫인코딩\n",
    "y_train = np_utils.to_categorical(y_train)\n",
    "y_test = np_utils.to_categorical(y_test)"
   ]
  },
  {
   "cell_type": "code",
   "execution_count": 18,
   "metadata": {},
   "outputs": [
    {
     "data": {
      "text/plain": [
       "array([[0., 0., 0., 1., 0., 0., 0., 0., 0., 0., 0., 0., 0., 0., 0., 0.,\n",
       "        0., 0., 0., 0., 0., 0., 0., 0., 0., 0., 0., 0., 0., 0., 0., 0.,\n",
       "        0., 0., 0., 0., 0., 0., 0., 0., 0., 0., 0., 0., 0., 0.],\n",
       "       [0., 0., 0., 0., 1., 0., 0., 0., 0., 0., 0., 0., 0., 0., 0., 0.,\n",
       "        0., 0., 0., 0., 0., 0., 0., 0., 0., 0., 0., 0., 0., 0., 0., 0.,\n",
       "        0., 0., 0., 0., 0., 0., 0., 0., 0., 0., 0., 0., 0., 0.],\n",
       "       [0., 0., 0., 1., 0., 0., 0., 0., 0., 0., 0., 0., 0., 0., 0., 0.,\n",
       "        0., 0., 0., 0., 0., 0., 0., 0., 0., 0., 0., 0., 0., 0., 0., 0.,\n",
       "        0., 0., 0., 0., 0., 0., 0., 0., 0., 0., 0., 0., 0., 0.],\n",
       "       [0., 0., 0., 0., 1., 0., 0., 0., 0., 0., 0., 0., 0., 0., 0., 0.,\n",
       "        0., 0., 0., 0., 0., 0., 0., 0., 0., 0., 0., 0., 0., 0., 0., 0.,\n",
       "        0., 0., 0., 0., 0., 0., 0., 0., 0., 0., 0., 0., 0., 0.],\n",
       "       [0., 0., 0., 0., 1., 0., 0., 0., 0., 0., 0., 0., 0., 0., 0., 0.,\n",
       "        0., 0., 0., 0., 0., 0., 0., 0., 0., 0., 0., 0., 0., 0., 0., 0.,\n",
       "        0., 0., 0., 0., 0., 0., 0., 0., 0., 0., 0., 0., 0., 0.]],\n",
       "      dtype=float32)"
      ]
     },
     "execution_count": 18,
     "metadata": {},
     "output_type": "execute_result"
    }
   ],
   "source": [
    "y_train[:5]"
   ]
  },
  {
   "cell_type": "code",
   "execution_count": 5,
   "metadata": {},
   "outputs": [],
   "source": [
    "from keras.models import Sequential\n",
    "from keras.layers import Dense, LSTM, Embedding\n",
    "model = Sequential()\n",
    "#임베딩 레이어 Embedding(단어의개수, 벡터크기, 입력사이즈)\n",
    "model.add(Embedding(1000,100)) #1000개의 단어가 입력되어 100차원으로 출력\n",
    "#문장을 단어들의 시퀀스로 간주하고 순환 레이어의 입력으로, 출력노드수 100\n",
    "model.add(LSTM(100)) # 타임스텝 100\n",
    "model.add(Dense(46, activation='softmax')) #46개의 뉴스 카테고리\n",
    "model.compile(loss='categorical_crossentropy', optimizer='adam', metrics=['accuracy'])\n",
    "# softmax - categorical_crossentropy"
   ]
  },
  {
   "cell_type": "code",
   "execution_count": 6,
   "metadata": {},
   "outputs": [
    {
     "name": "stdout",
     "output_type": "stream",
     "text": [
      "Epoch 1/100\n",
      "57/57 [==============================] - 3s 19ms/step - loss: 2.7131 - accuracy: 0.3493 - val_loss: 2.4099 - val_accuracy: 0.3450\n",
      "Epoch 2/100\n",
      "57/57 [==============================] - 1s 13ms/step - loss: 2.3462 - accuracy: 0.4021 - val_loss: 2.2518 - val_accuracy: 0.4786\n",
      "Epoch 3/100\n",
      "57/57 [==============================] - 1s 12ms/step - loss: 2.3458 - accuracy: 0.4051 - val_loss: 2.1626 - val_accuracy: 0.4903\n",
      "Epoch 4/100\n",
      "57/57 [==============================] - 1s 11ms/step - loss: 2.0783 - accuracy: 0.4966 - val_loss: 2.0311 - val_accuracy: 0.4947\n",
      "Epoch 5/100\n",
      "57/57 [==============================] - 1s 11ms/step - loss: 1.9444 - accuracy: 0.5054 - val_loss: 1.9003 - val_accuracy: 0.5426\n",
      "Epoch 6/100\n",
      "57/57 [==============================] - 1s 12ms/step - loss: 1.7530 - accuracy: 0.5411 - val_loss: 1.7161 - val_accuracy: 0.5509\n",
      "Epoch 7/100\n",
      "57/57 [==============================] - 1s 12ms/step - loss: 1.6509 - accuracy: 0.5633 - val_loss: 1.6888 - val_accuracy: 0.5648\n",
      "Epoch 8/100\n",
      "57/57 [==============================] - 1s 11ms/step - loss: 1.5878 - accuracy: 0.5907 - val_loss: 1.6284 - val_accuracy: 0.5871\n",
      "Epoch 9/100\n",
      "57/57 [==============================] - 1s 12ms/step - loss: 1.5022 - accuracy: 0.6102 - val_loss: 1.6006 - val_accuracy: 0.5876\n",
      "Epoch 10/100\n",
      "57/57 [==============================] - 1s 12ms/step - loss: 1.4136 - accuracy: 0.6367 - val_loss: 1.7186 - val_accuracy: 0.5943\n",
      "Epoch 11/100\n",
      "57/57 [==============================] - 1s 11ms/step - loss: 1.3686 - accuracy: 0.6494 - val_loss: 1.4905 - val_accuracy: 0.6199\n",
      "Epoch 12/100\n",
      "57/57 [==============================] - 1s 12ms/step - loss: 1.2603 - accuracy: 0.6701 - val_loss: 1.4603 - val_accuracy: 0.6361\n",
      "Epoch 13/100\n",
      "57/57 [==============================] - 1s 12ms/step - loss: 1.2173 - accuracy: 0.6845 - val_loss: 1.4499 - val_accuracy: 0.6400\n",
      "Epoch 14/100\n",
      "57/57 [==============================] - 1s 11ms/step - loss: 1.1544 - accuracy: 0.7047 - val_loss: 1.5157 - val_accuracy: 0.6299\n",
      "Epoch 15/100\n",
      "57/57 [==============================] - 1s 11ms/step - loss: 1.1348 - accuracy: 0.7136 - val_loss: 1.4808 - val_accuracy: 0.6355\n",
      "Epoch 16/100\n",
      "57/57 [==============================] - 1s 11ms/step - loss: 1.0587 - accuracy: 0.7324 - val_loss: 1.4216 - val_accuracy: 0.6522\n",
      "Epoch 17/100\n",
      "57/57 [==============================] - 1s 11ms/step - loss: 1.0053 - accuracy: 0.7461 - val_loss: 1.4541 - val_accuracy: 0.6500\n",
      "Epoch 18/100\n",
      "57/57 [==============================] - 1s 12ms/step - loss: 0.9605 - accuracy: 0.7555 - val_loss: 1.4417 - val_accuracy: 0.6572\n",
      "Epoch 19/100\n",
      "57/57 [==============================] - 1s 12ms/step - loss: 0.9317 - accuracy: 0.7646 - val_loss: 1.4222 - val_accuracy: 0.6683\n"
     ]
    }
   ],
   "source": [
    "# train:validation:test = 6:2:2\n",
    "from keras.callbacks import EarlyStopping\n",
    "early_stopping=EarlyStopping(patience=3)\n",
    "hist=model.fit(X_train,y_train,batch_size=128,epochs=100,validation_split=0.2,callbacks=[early_stopping])"
   ]
  },
  {
   "cell_type": "code",
   "execution_count": 7,
   "metadata": {},
   "outputs": [
    {
     "name": "stdout",
     "output_type": "stream",
     "text": [
      "71/71 [==============================] - 0s 3ms/step - loss: 1.4558 - accuracy: 0.6523\n",
      "\n",
      " 정확도 : 0.6523\n"
     ]
    }
   ],
   "source": [
    "print(\"\\n 정확도 : %.4f\" % (model.evaluate(X_test, y_test)[1]))"
   ]
  },
  {
   "cell_type": "code",
   "execution_count": 8,
   "metadata": {},
   "outputs": [
    {
     "data": {
      "image/png": "[encoded data removed]",
      "text/plain": [
       "<Figure size 640x480 with 1 Axes>"
      ]
     },
     "metadata": {},
     "output_type": "display_data"
    }
   ],
   "source": [
    "import matplotlib.pyplot as plt\n",
    "plt.plot(hist.history['loss'])\n",
    "plt.plot(hist.history['val_loss'])\n",
    "plt.plot(hist.history['accuracy'])\n",
    "plt.plot(hist.history['val_accuracy'])\n",
    "plt.legend(['loss','val_loss','accuracy','val_accuracy'])\n",
    "plt.grid()\n",
    "plt.show()"
   ]
  },
  {
   "cell_type": "code",
   "execution_count": 19,
   "metadata": {},
   "outputs": [
    {
     "name": "stdout",
     "output_type": "stream",
     "text": [
      "71/71 [==============================] - 0s 6ms/step\n",
      "[1.2785369e-03 8.7719840e-01 1.1301944e-02 3.0182004e-03 2.4654282e-02\n",
      " 7.9079531e-03 3.1458470e-04 6.4935271e-06 7.3419069e-05 4.0499782e-03\n",
      " 5.7378518e-03 4.8126271e-03 1.7788050e-05 1.8533582e-02 5.1107322e-04\n",
      " 3.2996882e-03 1.0820848e-03 5.3860713e-04 3.8104175e-05 1.2040543e-03\n",
      " 9.1777605e-05 6.6823523e-05 4.4896617e-04 1.5567599e-03 1.1337120e-02\n",
      " 6.8489439e-04 5.8005459e-04 9.9272467e-04 1.2555488e-02 2.3202867e-05\n",
      " 3.8142894e-05 1.7937183e-03 1.1528895e-03 7.9494530e-06 8.6399727e-05\n",
      " 9.8269056e-06 4.3427364e-05 1.6679415e-04 8.1326900e-04 1.7276824e-04\n",
      " 1.2100558e-04 1.3937037e-03 1.9234999e-04 2.9921616e-06 1.0628661e-05\n",
      " 7.7063189e-05]\n"
     ]
    },
    {
     "data": {
      "text/plain": [
       "1"
      ]
     },
     "execution_count": 19,
     "metadata": {},
     "output_type": "execute_result"
    }
   ],
   "source": [
    "import numpy as np\n",
    "pred=model.predict(X_test)\n",
    "print(pred[12])\n",
    "np.argmax(pred[12]) # 제일 큰 값의 인덱스"
   ]
  },
  {
   "cell_type": "code",
   "execution_count": 20,
   "metadata": {},
   "outputs": [
    {
     "name": "stdout",
     "output_type": "stream",
     "text": [
      "[0. 1. 0. 0. 0. 0. 0. 0. 0. 0. 0. 0. 0. 0. 0. 0. 0. 0. 0. 0. 0. 0. 0. 0.\n",
      " 0. 0. 0. 0. 0. 0. 0. 0. 0. 0. 0. 0. 0. 0. 0. 0. 0. 0. 0. 0. 0. 0.]\n"
     ]
    },
    {
     "data": {
      "text/plain": [
       "1"
      ]
     },
     "execution_count": 20,
     "metadata": {},
     "output_type": "execute_result"
    }
   ],
   "source": [
    "print(y_test[12])\n",
    "np.argmax(y_test[12])"
   ]
  }
 ],
 "metadata": {
  "kernelspec": {
   "display_name": "base",
   "language": "python",
   "name": "python3"
  },
  "language_info": {
   "codemirror_mode": {
    "name": "ipython",
    "version": 3
   },
   "file_extension": ".py",
   "mimetype": "text/x-python",
   "name": "python",
   "nbconvert_exporter": "python",
   "pygments_lexer": "ipython3",
   "version": "3.9.13"
  },
  "orig_nbformat": 4
 },
 "nbformat": 4,
 "nbformat_minor": 2
}
