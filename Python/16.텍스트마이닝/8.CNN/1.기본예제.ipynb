{
 "cells": [
  {
   "cell_type": "code",
   "execution_count": 1,
   "metadata": {},
   "outputs": [
    {
     "name": "stdout",
     "output_type": "stream",
     "text": [
      "[3 5 1 2]\n",
      "63\n",
      "48\n",
      "49\n",
      "28\n",
      "21\n",
      "20\n"
     ]
    }
   ],
   "source": [
    "#합성곱\n",
    "import numpy as np\n",
    "w = np.array([2, 1, 5, 3]) #가중치\n",
    "x = np.array([2, 8, 3, 7, 1, 2, 0, 4, 5])\n",
    "#w 배열을 뒤집어서 출력\n",
    "w_r = np.flip(w)\n",
    "print(w_r)\n",
    "#합성곱 계산\n",
    "# w_r을 x의 왼쪽 자리에 맞추고 각 인덱스마다 곱한 후 더함\n",
    "# 2x3 + 8x5 + 3x1 + 7x2 = 63\n",
    "# w_r을 오른쪽으로 한자리 shift하여 곱셈\n",
    "for i in range(6):\n",
    "    print(np.dot(x[i:i+4], w_r))"
   ]
  },
  {
   "cell_type": "code",
   "execution_count": 2,
   "metadata": {},
   "outputs": [
    {
     "data": {
      "text/plain": [
       "array([63, 48, 49, 28, 21, 20])"
      ]
     },
     "execution_count": 2,
     "metadata": {},
     "output_type": "execute_result"
    }
   ],
   "source": [
    "#사이파이에서 제공하는 합성곱 함수\n",
    "#w를 뒤집어서 곱하는 방식\n",
    "from scipy.signal import convolve\n",
    "# valid - 원본 배열에 패딩을 추가하지 않는 방식\n",
    "# 원본 이미지가 4x4인 경우 결과물이 3x3으로 줄어드는 방식\n",
    "convolve(x, w, mode='valid')"
   ]
  },
  {
   "cell_type": "code",
   "execution_count": 3,
   "metadata": {},
   "outputs": [
    {
     "data": {
      "text/plain": [
       "array([48, 57, 24, 25, 16, 39])"
      ]
     },
     "execution_count": 3,
     "metadata": {},
     "output_type": "execute_result"
    }
   ],
   "source": [
    "#합성곱 신경망에서는 w를 뒤집지 않고 그대로 곱하는 교차상관 방식을 사용함\n",
    "#초기 가중치값은 랜덤으로 만들어지므로 뒤집어서 곱하는 것과 뒤집지 않고 곱하는 것이 큰 의미가 없음\n",
    "#정확히 표현하면 교차상관이지만 합성곱 신경망이라는 이름을 관례적으로 사용하고 있음\n",
    "#교차상관 - w를 뒤집지 않고 곱하는 방식\n",
    "from scipy.signal import correlate\n",
    "correlate(x, w, mode='valid')"
   ]
  },
  {
   "cell_type": "code",
   "execution_count": 4,
   "metadata": {},
   "outputs": [
    {
     "data": {
      "text/plain": [
       "array([ 6, 34, 51, 48, 57, 24, 25, 16, 39, 29, 13, 10])"
      ]
     },
     "execution_count": 4,
     "metadata": {},
     "output_type": "execute_result"
    }
   ],
   "source": [
    "#full 패딩 - 제로패딩을 한 후 연산을 하게 되면 원본 배열의 모든 원소가 연산에 동일하게 참여하게 됨\n",
    "correlate(x, w, mode='full')"
   ]
  },
  {
   "cell_type": "code",
   "execution_count": 5,
   "metadata": {},
   "outputs": [
    {
     "data": {
      "text/plain": [
       "array([34, 51, 48, 57, 24, 25, 16, 39, 29])"
      ]
     },
     "execution_count": 5,
     "metadata": {},
     "output_type": "execute_result"
    }
   ],
   "source": [
    "#출력 배열의 길이가 원본 배열의 길이와 같아지도록 제로 패딩을 추가하는 방식\n",
    "#합성곱 신경망에서 많이 사용하는 방식\n",
    "correlate(x, w, mode='same')"
   ]
  },
  {
   "cell_type": "code",
   "execution_count": 6,
   "metadata": {},
   "outputs": [
    {
     "data": {
      "text/plain": [
       "array([[ 2,  4],\n",
       "       [ 8, 10]])"
      ]
     },
     "execution_count": 6,
     "metadata": {},
     "output_type": "execute_result"
    }
   ],
   "source": [
    "#2차원 배열에 대한 합성곱 계산\n",
    "from scipy.signal import correlate2d\n",
    "x = np.array([[1, 2, 3],\n",
    "              [4, 5, 6],\n",
    "              [7, 8, 9]])\n",
    "w = np.array([[2, 0],\n",
    "              [0, 0]])\n",
    "correlate2d(x, w, mode='valid')"
   ]
  },
  {
   "cell_type": "code",
   "execution_count": 7,
   "metadata": {},
   "outputs": [
    {
     "data": {
      "text/plain": [
       "array([[ 2,  4,  6],\n",
       "       [ 8, 10, 12],\n",
       "       [14, 16, 18]])"
      ]
     },
     "execution_count": 7,
     "metadata": {},
     "output_type": "execute_result"
    }
   ],
   "source": [
    "#제로패딩을 하여 원본과 같은 사이즈로 출력되도록 함\n",
    "x = np.array([[1, 2, 3],\n",
    "              [4, 5, 6],\n",
    "              [7, 8, 9]])\n",
    "w = np.array([[2, 0],\n",
    "              [0, 0]])\n",
    "correlate2d(x, w, mode='same')"
   ]
  },
  {
   "cell_type": "code",
   "execution_count": 8,
   "metadata": {},
   "outputs": [
    {
     "name": "stdout",
     "output_type": "stream",
     "text": [
      "[[ 2.  4.  6.]\n",
      " [ 8. 10. 12.]\n",
      " [14. 16. 18.]]\n"
     ]
    },
    {
     "name": "stderr",
     "output_type": "stream",
     "text": [
      "C:\\Users\\tjoeun\\AppData\\Local\\Temp\\ipykernel_11944\\2996412729.py:9: DeprecationWarning: `np.float` is a deprecated alias for the builtin `float`. To silence this warning, use `float` by itself. Doing this will not modify any behavior and is safe. If you specifically wanted the numpy scalar type, use `np.float64` here.\n",
      "Deprecated in NumPy 1.20; for more details and guidance: https://numpy.org/devdocs/release/1.20.0-notes.html#deprecations\n",
      "  x_4d = x.astype(np.float).reshape(1, 3, 3, 1) #실수형으로 입력해야 함\n"
     ]
    }
   ],
   "source": [
    "#텐서플로에서 지원하는 합성곱 함수\n",
    "import tensorflow as tf\n",
    "#4차원 배열을 사용해야 함\n",
    "x = np.array([[1, 2, 3],\n",
    "              [4, 5, 6],\n",
    "              [7, 8, 9]])\n",
    "with tf.device('/CPU:0'):\n",
    "    # 입력값: reshape(batch, height, width, channel)\n",
    "    x_4d = x.astype(np.float).reshape(1, 3, 3, 1) #실수형으로 입력해야 함\n",
    "    # 필터(가중치) reshape(height,width,channel,가중치의 개수)\n",
    "    w_4d = w.reshape(2, 2, 1, 1)\n",
    "    #SAME 대문자로 작성해야 함\n",
    "    c_out = tf.nn.conv2d(x_4d, w_4d, strides=1, padding='SAME')\n",
    "    # 텐서를 넘파이 배열로 변환\n",
    "    print(c_out.numpy().reshape(3, 3))"
   ]
  },
  {
   "cell_type": "code",
   "execution_count": 9,
   "metadata": {},
   "outputs": [
    {
     "name": "stdout",
     "output_type": "stream",
     "text": [
      "[[ 6.  8.]\n",
      " [14. 16.]]\n"
     ]
    }
   ],
   "source": [
    "#맥스풀링\n",
    "# 입력값: reshape(샘플수, height, width, channel)\n",
    "x = np.array([[1, 2, 3, 4],\n",
    "              [5, 6, 7, 8],\n",
    "              [9, 10, 11, 12],\n",
    "              [13, 14, 15, 16]])\n",
    "x = x.reshape(1, 4, 4, 1)\n",
    "# ksize 커널사이즈 2x2, strides 이동간격\n",
    "with tf.device('/CPU:0'):\n",
    "    p_out=tf.nn.max_pool2d(x,ksize=2,strides=2,padding='SAME')\n",
    "    print(p_out.numpy().reshape(2,2))"
   ]
  }
 ],
 "metadata": {
  "kernelspec": {
   "display_name": "base",
   "language": "python",
   "name": "python3"
  },
  "language_info": {
   "codemirror_mode": {
    "name": "ipython",
    "version": 3
   },
   "file_extension": ".py",
   "mimetype": "text/x-python",
   "name": "python",
   "nbconvert_exporter": "python",
   "pygments_lexer": "ipython3",
   "version": "3.9.13"
  },
  "orig_nbformat": 4
 },
 "nbformat": 4,
 "nbformat_minor": 2
}
