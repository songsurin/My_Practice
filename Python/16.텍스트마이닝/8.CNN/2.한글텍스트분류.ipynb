{
 "cells": [
  {
   "cell_type": "code",
   "execution_count": 1,
   "metadata": {},
   "outputs": [],
   "source": [
    "import tensorflow as tf\n",
    "gpus = tf.config.experimental.list_physical_devices('GPU')\n",
    "if gpus:\n",
    "    try:\n",
    "        for gpu in gpus:\n",
    "            tf.config.experimental.set_memory_growth(gpu, True)\n",
    "    except RuntimeError as e:\n",
    "        print(e)"
   ]
  },
  {
   "cell_type": "code",
   "execution_count": 2,
   "metadata": {},
   "outputs": [],
   "source": [
    "import pandas as pd\n",
    "train_data = pd.read_csv('c:/data/text/ratings_train.csv',encoding='ms949')\n",
    "test_data = pd.read_csv('c:/data/text/ratings_test.csv',encoding='ms949')"
   ]
  },
  {
   "cell_type": "code",
   "execution_count": 3,
   "metadata": {},
   "outputs": [
    {
     "data": {
      "text/plain": [
       "150000"
      ]
     },
     "execution_count": 3,
     "metadata": {},
     "output_type": "execute_result"
    }
   ],
   "source": [
    "len(train_data)"
   ]
  },
  {
   "cell_type": "code",
   "execution_count": 4,
   "metadata": {},
   "outputs": [
    {
     "data": {
      "text/html": [
       "<div>\n",
       "<style scoped>\n",
       "    .dataframe tbody tr th:only-of-type {\n",
       "        vertical-align: middle;\n",
       "    }\n",
       "\n",
       "    .dataframe tbody tr th {\n",
       "        vertical-align: top;\n",
       "    }\n",
       "\n",
       "    .dataframe thead th {\n",
       "        text-align: right;\n",
       "    }\n",
       "</style>\n",
       "<table border=\"1\" class=\"dataframe\">\n",
       "  <thead>\n",
       "    <tr style=\"text-align: right;\">\n",
       "      <th></th>\n",
       "      <th>document</th>\n",
       "      <th>label</th>\n",
       "    </tr>\n",
       "  </thead>\n",
       "  <tbody>\n",
       "    <tr>\n",
       "      <th>0</th>\n",
       "      <td>아 더빙.. 진짜 짜증나네요 목소리</td>\n",
       "      <td>0</td>\n",
       "    </tr>\n",
       "    <tr>\n",
       "      <th>1</th>\n",
       "      <td>흠...포스터보고 초딩영화줄....오버연기조차 가볍지 않구나</td>\n",
       "      <td>1</td>\n",
       "    </tr>\n",
       "    <tr>\n",
       "      <th>2</th>\n",
       "      <td>너무재밓었다그래서보는것을추천한다</td>\n",
       "      <td>0</td>\n",
       "    </tr>\n",
       "  </tbody>\n",
       "</table>\n",
       "</div>"
      ],
      "text/plain": [
       "                            document  label\n",
       "0                아 더빙.. 진짜 짜증나네요 목소리      0\n",
       "1  흠...포스터보고 초딩영화줄....오버연기조차 가볍지 않구나      1\n",
       "2                  너무재밓었다그래서보는것을추천한다      0"
      ]
     },
     "execution_count": 4,
     "metadata": {},
     "output_type": "execute_result"
    }
   ],
   "source": [
    "train_data[:3]"
   ]
  },
  {
   "cell_type": "code",
   "execution_count": 5,
   "metadata": {},
   "outputs": [
    {
     "data": {
      "text/plain": [
       "50000"
      ]
     },
     "execution_count": 5,
     "metadata": {},
     "output_type": "execute_result"
    }
   ],
   "source": [
    "len(test_data)"
   ]
  },
  {
   "cell_type": "code",
   "execution_count": 6,
   "metadata": {},
   "outputs": [
    {
     "data": {
      "text/html": [
       "<div>\n",
       "<style scoped>\n",
       "    .dataframe tbody tr th:only-of-type {\n",
       "        vertical-align: middle;\n",
       "    }\n",
       "\n",
       "    .dataframe tbody tr th {\n",
       "        vertical-align: top;\n",
       "    }\n",
       "\n",
       "    .dataframe thead th {\n",
       "        text-align: right;\n",
       "    }\n",
       "</style>\n",
       "<table border=\"1\" class=\"dataframe\">\n",
       "  <thead>\n",
       "    <tr style=\"text-align: right;\">\n",
       "      <th></th>\n",
       "      <th>document</th>\n",
       "      <th>label</th>\n",
       "    </tr>\n",
       "  </thead>\n",
       "  <tbody>\n",
       "    <tr>\n",
       "      <th>0</th>\n",
       "      <td>굳 ㅋ</td>\n",
       "      <td>1</td>\n",
       "    </tr>\n",
       "    <tr>\n",
       "      <th>1</th>\n",
       "      <td>GDNTOPCLASSINTHECLUB</td>\n",
       "      <td>0</td>\n",
       "    </tr>\n",
       "    <tr>\n",
       "      <th>2</th>\n",
       "      <td>뭐야 이 평점들은.... 나쁘진 않지만 10점 짜리는 더더욱 아니잖아</td>\n",
       "      <td>0</td>\n",
       "    </tr>\n",
       "  </tbody>\n",
       "</table>\n",
       "</div>"
      ],
      "text/plain": [
       "                                 document  label\n",
       "0                                     굳 ㅋ      1\n",
       "1                    GDNTOPCLASSINTHECLUB      0\n",
       "2  뭐야 이 평점들은.... 나쁘진 않지만 10점 짜리는 더더욱 아니잖아      0"
      ]
     },
     "execution_count": 6,
     "metadata": {},
     "output_type": "execute_result"
    }
   ],
   "source": [
    "test_data[:3]"
   ]
  },
  {
   "cell_type": "code",
   "execution_count": 7,
   "metadata": {},
   "outputs": [
    {
     "data": {
      "text/plain": [
       "2"
      ]
     },
     "execution_count": 7,
     "metadata": {},
     "output_type": "execute_result"
    }
   ],
   "source": [
    "# 중복되지 않은 데이터 확인\n",
    "train_data['document'].nunique(),\n",
    "train_data['label'].nunique()\n",
    "# 중복값이 약 4000개"
   ]
  },
  {
   "cell_type": "code",
   "execution_count": 8,
   "metadata": {},
   "outputs": [
    {
     "data": {
      "text/plain": [
       "146158"
      ]
     },
     "execution_count": 8,
     "metadata": {},
     "output_type": "execute_result"
    }
   ],
   "source": [
    "#중복값 제거\n",
    "train_data.drop_duplicates(subset=['document'], inplace=True)\n",
    "len(train_data)"
   ]
  },
  {
   "cell_type": "code",
   "execution_count": 9,
   "metadata": {},
   "outputs": [
    {
     "data": {
      "image/png": "[encoded data removed]",
      "text/plain": [
       "<Figure size 640x480 with 1 Axes>"
      ]
     },
     "metadata": {},
     "output_type": "display_data"
    }
   ],
   "source": [
    "import matplotlib.pyplot as plt\n",
    "train_data['label'].value_counts().plot(kind = 'bar')\n",
    "plt.show()"
   ]
  },
  {
   "cell_type": "code",
   "execution_count": 10,
   "metadata": {},
   "outputs": [
    {
     "data": {
      "text/html": [
       "<div>\n",
       "<style scoped>\n",
       "    .dataframe tbody tr th:only-of-type {\n",
       "        vertical-align: middle;\n",
       "    }\n",
       "\n",
       "    .dataframe tbody tr th {\n",
       "        vertical-align: top;\n",
       "    }\n",
       "\n",
       "    .dataframe thead th {\n",
       "        text-align: right;\n",
       "    }\n",
       "</style>\n",
       "<table border=\"1\" class=\"dataframe\">\n",
       "  <thead>\n",
       "    <tr style=\"text-align: right;\">\n",
       "      <th></th>\n",
       "      <th>document</th>\n",
       "      <th>label</th>\n",
       "    </tr>\n",
       "  </thead>\n",
       "  <tbody>\n",
       "    <tr>\n",
       "      <th>25857</th>\n",
       "      <td>NaN</td>\n",
       "      <td>1</td>\n",
       "    </tr>\n",
       "  </tbody>\n",
       "</table>\n",
       "</div>"
      ],
      "text/plain": [
       "      document  label\n",
       "25857      NaN      1"
      ]
     },
     "execution_count": 10,
     "metadata": {},
     "output_type": "execute_result"
    }
   ],
   "source": [
    "train_data.loc[train_data.document.isnull()]"
   ]
  },
  {
   "cell_type": "code",
   "execution_count": 11,
   "metadata": {},
   "outputs": [
    {
     "data": {
      "text/plain": [
       "False"
      ]
     },
     "execution_count": 11,
     "metadata": {},
     "output_type": "execute_result"
    }
   ],
   "source": [
    "train_data = train_data.dropna(how = 'any') # Null 값이 존재하는 행 제거\n",
    "train_data.isnull().values.any()"
   ]
  },
  {
   "cell_type": "code",
   "execution_count": 12,
   "metadata": {},
   "outputs": [
    {
     "name": "stderr",
     "output_type": "stream",
     "text": [
      "C:\\Users\\tjoeun\\AppData\\Local\\Temp\\ipykernel_5796\\3567180027.py:2: FutureWarning: The default value of regex will change from True to False in a future version.\n",
      "  train_data['document'] = train_data['document'].str.replace(\"[^ㄱ-ㅎㅏ-ㅣ가-힣 ]\",\"\")\n"
     ]
    },
    {
     "data": {
      "text/html": [
       "<div>\n",
       "<style scoped>\n",
       "    .dataframe tbody tr th:only-of-type {\n",
       "        vertical-align: middle;\n",
       "    }\n",
       "\n",
       "    .dataframe tbody tr th {\n",
       "        vertical-align: top;\n",
       "    }\n",
       "\n",
       "    .dataframe thead th {\n",
       "        text-align: right;\n",
       "    }\n",
       "</style>\n",
       "<table border=\"1\" class=\"dataframe\">\n",
       "  <thead>\n",
       "    <tr style=\"text-align: right;\">\n",
       "      <th></th>\n",
       "      <th>document</th>\n",
       "      <th>label</th>\n",
       "    </tr>\n",
       "  </thead>\n",
       "  <tbody>\n",
       "    <tr>\n",
       "      <th>0</th>\n",
       "      <td>아 더빙 진짜 짜증나네요 목소리</td>\n",
       "      <td>0</td>\n",
       "    </tr>\n",
       "    <tr>\n",
       "      <th>1</th>\n",
       "      <td>흠포스터보고 초딩영화줄오버연기조차 가볍지 않구나</td>\n",
       "      <td>1</td>\n",
       "    </tr>\n",
       "    <tr>\n",
       "      <th>2</th>\n",
       "      <td>너무재밓었다그래서보는것을추천한다</td>\n",
       "      <td>0</td>\n",
       "    </tr>\n",
       "  </tbody>\n",
       "</table>\n",
       "</div>"
      ],
      "text/plain": [
       "                     document  label\n",
       "0           아 더빙 진짜 짜증나네요 목소리      0\n",
       "1  흠포스터보고 초딩영화줄오버연기조차 가볍지 않구나      1\n",
       "2           너무재밓었다그래서보는것을추천한다      0"
      ]
     },
     "execution_count": 12,
     "metadata": {},
     "output_type": "execute_result"
    }
   ],
   "source": [
    "#특수문자,기호 제거\n",
    "train_data['document'] = train_data['document'].str.replace(\"[^ㄱ-ㅎㅏ-ㅣ가-힣 ]\",\"\")\n",
    "train_data[:3]"
   ]
  },
  {
   "cell_type": "code",
   "execution_count": 13,
   "metadata": {},
   "outputs": [
    {
     "name": "stderr",
     "output_type": "stream",
     "text": [
      "C:\\Users\\tjoeun\\AppData\\Local\\Temp\\ipykernel_5796\\991819538.py:3: FutureWarning: The default value of regex will change from True to False in a future version.\n",
      "  train_data['document'] = train_data['document'].str.replace('^ +', \"\")\n"
     ]
    },
    {
     "data": {
      "text/plain": [
       "document    784\n",
       "label         0\n",
       "dtype: int64"
      ]
     },
     "execution_count": 13,
     "metadata": {},
     "output_type": "execute_result"
    }
   ],
   "source": [
    "import numpy as np\n",
    "#공백 제거\n",
    "train_data['document'] = train_data['document'].str.replace('^ +', \"\")\n",
    "train_data['document'].replace('', np.nan, inplace=True)\n",
    "train_data.isnull().sum()"
   ]
  },
  {
   "cell_type": "code",
   "execution_count": 14,
   "metadata": {},
   "outputs": [
    {
     "data": {
      "text/html": [
       "<div>\n",
       "<style scoped>\n",
       "    .dataframe tbody tr th:only-of-type {\n",
       "        vertical-align: middle;\n",
       "    }\n",
       "\n",
       "    .dataframe tbody tr th {\n",
       "        vertical-align: top;\n",
       "    }\n",
       "\n",
       "    .dataframe thead th {\n",
       "        text-align: right;\n",
       "    }\n",
       "</style>\n",
       "<table border=\"1\" class=\"dataframe\">\n",
       "  <thead>\n",
       "    <tr style=\"text-align: right;\">\n",
       "      <th></th>\n",
       "      <th>document</th>\n",
       "      <th>label</th>\n",
       "    </tr>\n",
       "  </thead>\n",
       "  <tbody>\n",
       "    <tr>\n",
       "      <th>404</th>\n",
       "      <td>NaN</td>\n",
       "      <td>0</td>\n",
       "    </tr>\n",
       "    <tr>\n",
       "      <th>412</th>\n",
       "      <td>NaN</td>\n",
       "      <td>1</td>\n",
       "    </tr>\n",
       "    <tr>\n",
       "      <th>470</th>\n",
       "      <td>NaN</td>\n",
       "      <td>1</td>\n",
       "    </tr>\n",
       "  </tbody>\n",
       "</table>\n",
       "</div>"
      ],
      "text/plain": [
       "    document  label\n",
       "404      NaN      0\n",
       "412      NaN      1\n",
       "470      NaN      1"
      ]
     },
     "execution_count": 14,
     "metadata": {},
     "output_type": "execute_result"
    }
   ],
   "source": [
    "train_data.loc[train_data.document.isnull()][:3]"
   ]
  },
  {
   "cell_type": "code",
   "execution_count": 15,
   "metadata": {},
   "outputs": [
    {
     "data": {
      "text/plain": [
       "145373"
      ]
     },
     "execution_count": 15,
     "metadata": {},
     "output_type": "execute_result"
    }
   ],
   "source": [
    "#null 샘플 제거\n",
    "train_data = train_data.dropna(how = 'any')\n",
    "len(train_data)"
   ]
  },
  {
   "cell_type": "code",
   "execution_count": 16,
   "metadata": {},
   "outputs": [
    {
     "name": "stderr",
     "output_type": "stream",
     "text": [
      "C:\\Users\\tjoeun\\AppData\\Local\\Temp\\ipykernel_5796\\2044650692.py:3: FutureWarning: The default value of regex will change from True to False in a future version.\n",
      "  test_data['document'] = test_data['document'].str.replace(\"[^ㄱ-ㅎㅏ-ㅣ가-힣 ]\",\"\")\n",
      "C:\\Users\\tjoeun\\AppData\\Local\\Temp\\ipykernel_5796\\2044650692.py:4: FutureWarning: The default value of regex will change from True to False in a future version.\n",
      "  test_data['document'] = test_data['document'].str.replace('^ +', \"\")\n"
     ]
    },
    {
     "data": {
      "text/plain": [
       "48844"
      ]
     },
     "execution_count": 16,
     "metadata": {},
     "output_type": "execute_result"
    }
   ],
   "source": [
    "# test_data에도 동일한 과정 적용\n",
    "test_data.drop_duplicates(subset = ['document'], inplace=True)\n",
    "test_data['document'] = test_data['document'].str.replace(\"[^ㄱ-ㅎㅏ-ㅣ가-힣 ]\",\"\")\n",
    "test_data['document'] = test_data['document'].str.replace('^ +', \"\")\n",
    "test_data['document'].replace('', np.nan, inplace=True)\n",
    "test_data = test_data.dropna(how='any')\n",
    "len(test_data)"
   ]
  },
  {
   "cell_type": "code",
   "execution_count": 17,
   "metadata": {},
   "outputs": [],
   "source": [
    "# 불용어 사전\n",
    "stopwords = ['의','가','이','은','들','는','좀','잘','걍','과',\n",
    "             '도','를','으로','자','에','와','한','하다']"
   ]
  },
  {
   "cell_type": "code",
   "execution_count": 18,
   "metadata": {},
   "outputs": [],
   "source": [
    "from konlpy.tag import Okt\n",
    "okt = Okt()\n",
    "X_train = []\n",
    "#형태소 분석\n",
    "#for sentence in train_data['document']:\n",
    "for sentence in train_data['document'][:10000]:\n",
    "    temp_X = okt.morphs(sentence, stem=True) # 토큰화\n",
    "    temp_X = [word for word in temp_X if not word in stopwords] # 불용어 제거\n",
    "    X_train.append(temp_X)"
   ]
  },
  {
   "cell_type": "code",
   "execution_count": 19,
   "metadata": {},
   "outputs": [
    {
     "name": "stdout",
     "output_type": "stream",
     "text": [
      "[['아', '더빙', '진짜', '짜증나다', '목소리'], ['흠', '포스터', '보고', '초딩', '영화', '줄', '오버', '연기', '조차', '가볍다', '않다'], ['너', '무재', '밓었', '다그', '래서', '보다', '추천', '다']]\n"
     ]
    }
   ],
   "source": [
    "print(X_train[:3])"
   ]
  },
  {
   "cell_type": "code",
   "execution_count": 20,
   "metadata": {},
   "outputs": [],
   "source": [
    "# 테스트 데이터에 대한 토큰화\n",
    "X_test = []\n",
    "#for sentence in test_data['document']:\n",
    "for sentence in test_data['document'][:10000]:\n",
    "    temp_X = okt.morphs(sentence, stem=True)\n",
    "    temp_X = [word for word in temp_X if not word in stopwords]\n",
    "    X_test.append(temp_X)"
   ]
  },
  {
   "cell_type": "code",
   "execution_count": 21,
   "metadata": {},
   "outputs": [],
   "source": [
    "from tensorflow.keras.preprocessing.text import Tokenizer\n",
    "# 정수 인코딩\n",
    "tokenizer = Tokenizer()\n",
    "tokenizer.fit_on_texts(X_train)\n",
    "#print(tokenizer.word_index)"
   ]
  },
  {
   "cell_type": "code",
   "execution_count": 22,
   "metadata": {},
   "outputs": [
    {
     "name": "stdout",
     "output_type": "stream",
     "text": [
      "12445\n",
      "8200\n"
     ]
    }
   ],
   "source": [
    "# 출현빈도가 3회 미만인 단어들\n",
    "threshold = 3\n",
    "total_cnt = len(tokenizer.word_index) # 단어수\n",
    "rare_cnt = 0\n",
    "total_freq = 0\n",
    "rare_freq = 0\n",
    "for key, value in tokenizer.word_counts.items():\n",
    "    total_freq = total_freq + value\n",
    "    if(value < threshold):\n",
    "        rare_cnt = rare_cnt + 1\n",
    "        rare_freq = rare_freq + value\n",
    "print(total_cnt) #단어집합 크기\n",
    "print(rare_cnt) #희귀단어수"
   ]
  },
  {
   "cell_type": "code",
   "execution_count": 23,
   "metadata": {},
   "outputs": [
    {
     "name": "stdout",
     "output_type": "stream",
     "text": [
      "단어 집합의 크기 : 4246\n"
     ]
    }
   ],
   "source": [
    "vocab_size = total_cnt - rare_cnt + 1\n",
    "print('단어 집합의 크기 :',vocab_size)"
   ]
  },
  {
   "cell_type": "code",
   "execution_count": 24,
   "metadata": {},
   "outputs": [],
   "source": [
    "tokenizer = Tokenizer(vocab_size)\n",
    "tokenizer.fit_on_texts(X_train) #텍스트를 숫자 시퀀스로 변환\n",
    "X_train = tokenizer.texts_to_sequences(X_train)\n",
    "X_test = tokenizer.texts_to_sequences(X_test)"
   ]
  },
  {
   "cell_type": "code",
   "execution_count": 25,
   "metadata": {},
   "outputs": [
    {
     "name": "stdout",
     "output_type": "stream",
     "text": [
      "[[54, 681, 16, 239, 782], [682, 349, 38, 641, 1, 163, 1845, 23, 899, 728, 20], [359, 1536, 2035, 2, 228, 8]]\n"
     ]
    }
   ],
   "source": [
    "print(X_train[:3])"
   ]
  },
  {
   "cell_type": "code",
   "execution_count": 26,
   "metadata": {},
   "outputs": [],
   "source": [
    "y_train = np.array(train_data['label'][:10000])\n",
    "y_test = np.array(test_data['label'][:10000])"
   ]
  },
  {
   "cell_type": "code",
   "execution_count": 27,
   "metadata": {},
   "outputs": [],
   "source": [
    "max_len=max(len(l) for l in X_train) #리뷰의 최대 길이"
   ]
  },
  {
   "cell_type": "code",
   "execution_count": 28,
   "metadata": {},
   "outputs": [
    {
     "data": {
      "text/plain": [
       "95.24000000000001"
      ]
     },
     "execution_count": 28,
     "metadata": {},
     "output_type": "execute_result"
    }
   ],
   "source": [
    "cnt = 0\n",
    "for s in X_train:\n",
    "    if(len(s) <= 30):\n",
    "        cnt = cnt + 1\n",
    "#최대 길이 이하인 샘플의 비율\n",
    "(cnt / len(X_train))*100"
   ]
  },
  {
   "cell_type": "code",
   "execution_count": 29,
   "metadata": {},
   "outputs": [],
   "source": [
    "from tensorflow.keras.preprocessing.sequence import pad_sequences\n",
    "X_train = pad_sequences(X_train, maxlen = max_len)\n",
    "X_test = pad_sequences(X_test, maxlen = max_len)"
   ]
  },
  {
   "cell_type": "code",
   "execution_count": 30,
   "metadata": {},
   "outputs": [
    {
     "name": "stdout",
     "output_type": "stream",
     "text": [
      "Model: \"sequential\"\n",
      "_________________________________________________________________\n",
      " Layer (type)                Output Shape              Param #   \n",
      "=================================================================\n",
      " embedding (Embedding)       (None, 53, 100)           424600    \n",
      "                                                                 \n",
      " conv1d (Conv1D)             (None, 53, 64)            32064     \n",
      "                                                                 \n",
      " conv1d_1 (Conv1D)           (None, 53, 32)            8224      \n",
      "                                                                 \n",
      " conv1d_2 (Conv1D)           (None, 53, 16)            1552      \n",
      "                                                                 \n",
      " max_pooling1d (MaxPooling1D  (None, 10, 16)           0         \n",
      " )                                                               \n",
      "                                                                 \n",
      " flatten (Flatten)           (None, 160)               0         \n",
      "                                                                 \n",
      " dense (Dense)               (None, 1)                 161       \n",
      "                                                                 \n",
      "=================================================================\n",
      "Total params: 466,601\n",
      "Trainable params: 466,601\n",
      "Non-trainable params: 0\n",
      "_________________________________________________________________\n"
     ]
    }
   ],
   "source": [
    "from tensorflow.keras.models import Sequential\n",
    "from tensorflow.keras.layers import Embedding, Conv1D, Dense, Flatten, MaxPooling1D\n",
    "from tensorflow.keras.callbacks import EarlyStopping, ModelCheckpoint\n",
    "from tensorflow.keras.models import load_model\n",
    "\n",
    "model = Sequential()\n",
    "model.add(Embedding(vocab_size, 100, input_length = max_len))\n",
    "model.add(Conv1D(filters = 64, kernel_size = 5, padding = 'same',activation = 'relu', strides = 1))\n",
    "model.add(Conv1D(filters = 32, kernel_size = 4, padding = 'same',activation = 'relu', strides = 1))\n",
    "model.add(Conv1D(filters = 16, kernel_size = 3, padding = 'same',activation = 'relu', strides = 1))\n",
    "model.add(MaxPooling1D(5))\n",
    "model.add(Flatten())\n",
    "model.add(Dense(1, activation='sigmoid'))\n",
    "model.compile(loss = 'binary_crossentropy', optimizer = 'adam', metrics=['acc'])\n",
    "model.summary()"
   ]
  },
  {
   "cell_type": "code",
   "execution_count": 31,
   "metadata": {},
   "outputs": [
    {
     "name": "stdout",
     "output_type": "stream",
     "text": [
      "Epoch 1/10\n",
      "122/125 [============================>.] - ETA: 0s - loss: 0.6620 - acc: 0.5718\n",
      "Epoch 1: val_acc improved from -inf to 0.74500, saving model to CNN_model.h5\n",
      "125/125 [==============================] - 9s 11ms/step - loss: 0.6566 - acc: 0.5771 - val_loss: 0.5113 - val_acc: 0.7450\n",
      "Epoch 2/10\n",
      "119/125 [===========================>..] - ETA: 0s - loss: 0.3913 - acc: 0.8250\n",
      "Epoch 2: val_acc improved from 0.74500 to 0.78400, saving model to CNN_model.h5\n",
      "125/125 [==============================] - 1s 9ms/step - loss: 0.3883 - acc: 0.8276 - val_loss: 0.4556 - val_acc: 0.7840\n",
      "Epoch 3/10\n",
      "123/125 [============================>.] - ETA: 0s - loss: 0.2441 - acc: 0.9018\n",
      "Epoch 3: val_acc improved from 0.78400 to 0.78850, saving model to CNN_model.h5\n",
      "125/125 [==============================] - 1s 7ms/step - loss: 0.2438 - acc: 0.9019 - val_loss: 0.4965 - val_acc: 0.7885\n",
      "Epoch 4/10\n",
      "123/125 [============================>.] - ETA: 0s - loss: 0.1487 - acc: 0.9455\n",
      "Epoch 4: val_acc did not improve from 0.78850\n",
      "125/125 [==============================] - 1s 7ms/step - loss: 0.1480 - acc: 0.9459 - val_loss: 0.6760 - val_acc: 0.7870\n",
      "Epoch 5/10\n",
      "121/125 [============================>.] - ETA: 0s - loss: 0.0984 - acc: 0.9602\n",
      "Epoch 5: val_acc did not improve from 0.78850\n",
      "125/125 [==============================] - 1s 7ms/step - loss: 0.1002 - acc: 0.9599 - val_loss: 0.8260 - val_acc: 0.7725\n",
      "Epoch 6/10\n",
      "118/125 [===========================>..] - ETA: 0s - loss: 0.0699 - acc: 0.9710\n",
      "Epoch 6: val_acc did not improve from 0.78850\n",
      "125/125 [==============================] - 1s 7ms/step - loss: 0.0702 - acc: 0.9712 - val_loss: 1.0056 - val_acc: 0.7730\n",
      "Epoch 7/10\n",
      "124/125 [============================>.] - ETA: 0s - loss: 0.0519 - acc: 0.9791\n",
      "Epoch 7: val_acc did not improve from 0.78850\n",
      "125/125 [==============================] - 1s 7ms/step - loss: 0.0523 - acc: 0.9790 - val_loss: 1.2585 - val_acc: 0.7705\n"
     ]
    },
    {
     "data": {
      "text/plain": [
       "<keras.callbacks.History at 0x26a7c725ca0>"
      ]
     },
     "execution_count": 31,
     "metadata": {},
     "output_type": "execute_result"
    }
   ],
   "source": [
    "es = EarlyStopping(monitor='val_loss', mode='min', patience=5)\n",
    "mc = ModelCheckpoint('CNN_model.h5', monitor='val_acc', mode='max', verbose=1, save_best_only=True)\n",
    "model.fit(X_train, y_train, batch_size = 64, epochs=10, validation_split=0.2, callbacks=[es, mc])"
   ]
  },
  {
   "cell_type": "code",
   "execution_count": 32,
   "metadata": {},
   "outputs": [
    {
     "name": "stdout",
     "output_type": "stream",
     "text": [
      "313/313 [==============================] - 1s 3ms/step - loss: 0.4875 - acc: 0.7921\n"
     ]
    },
    {
     "data": {
      "text/plain": [
       "[0.48750272393226624, 0.7921000123023987]"
      ]
     },
     "execution_count": 32,
     "metadata": {},
     "output_type": "execute_result"
    }
   ],
   "source": [
    "loaded_model = load_model('CNN_model.h5')\n",
    "loaded_model.evaluate(X_test, y_test)"
   ]
  },
  {
   "cell_type": "code",
   "execution_count": 33,
   "metadata": {},
   "outputs": [],
   "source": [
    "def review_predict(new_sentence):\n",
    "    new_sentence = okt.morphs(new_sentence, stem=True) # 토큰화\n",
    "    new_sentence = [word for word in new_sentence if not word in stopwords] # 불용어 제거\n",
    "    encoded = tokenizer.texts_to_sequences([new_sentence]) #정수 인코딩\n",
    "    pad_new = pad_sequences(encoded, maxlen = max_len) # 패딩\n",
    "    score = float(model.predict(pad_new)) # 예측\n",
    "    if(score > 0.5):\n",
    "        print(f\"{score * 100:.2f}% 확률로 긍정 리뷰입니다.\\n\")\n",
    "    else:\n",
    "        print(f\"{(1 - score) * 100:.2f}% 확률로 부정 리뷰입니다.\\n\")"
   ]
  },
  {
   "cell_type": "code",
   "execution_count": 34,
   "metadata": {},
   "outputs": [
    {
     "name": "stdout",
     "output_type": "stream",
     "text": [
      "1/1 [==============================] - 0s 141ms/step\n",
      "58.84% 확률로 긍정 리뷰입니다.\n",
      "\n"
     ]
    }
   ],
   "source": [
    "review_predict('연기는 잔잔하게 볼 만 합니다')"
   ]
  },
  {
   "cell_type": "code",
   "execution_count": 35,
   "metadata": {},
   "outputs": [
    {
     "name": "stdout",
     "output_type": "stream",
     "text": [
      "1/1 [==============================] - 0s 21ms/step\n",
      "100.00% 확률로 부정 리뷰입니다.\n",
      "\n"
     ]
    }
   ],
   "source": [
    "review_predict('영화의 주제가 뭔지 모르겠음')"
   ]
  },
  {
   "cell_type": "code",
   "execution_count": 36,
   "metadata": {},
   "outputs": [
    {
     "name": "stdout",
     "output_type": "stream",
     "text": [
      "1/1 [==============================] - 0s 19ms/step\n",
      "99.83% 확률로 긍정 리뷰입니다.\n",
      "\n"
     ]
    }
   ],
   "source": [
    "review_predict('익살스런 연기가 돋보였던 영화')"
   ]
  },
  {
   "cell_type": "code",
   "execution_count": 37,
   "metadata": {},
   "outputs": [
    {
     "name": "stdout",
     "output_type": "stream",
     "text": [
      "1/1 [==============================] - 0s 18ms/step\n",
      "100.00% 확률로 부정 리뷰입니다.\n",
      "\n"
     ]
    }
   ],
   "source": [
    "review_predict('기대보다는 스토리가 큰 감흥은 없습니다')"
   ]
  },
  {
   "cell_type": "code",
   "execution_count": 38,
   "metadata": {},
   "outputs": [
    {
     "name": "stdout",
     "output_type": "stream",
     "text": [
      "Model: \"sequential_1\"\n",
      "_________________________________________________________________\n",
      " Layer (type)                Output Shape              Param #   \n",
      "=================================================================\n",
      " embedding_1 (Embedding)     (None, 53, 100)           424600    \n",
      "                                                                 \n",
      " conv1d_3 (Conv1D)           (None, 49, 64)            32064     \n",
      "                                                                 \n",
      " conv1d_4 (Conv1D)           (None, 46, 32)            8224      \n",
      "                                                                 \n",
      " conv1d_5 (Conv1D)           (None, 44, 16)            1552      \n",
      "                                                                 \n",
      " max_pooling1d_1 (MaxPooling  (None, 8, 16)            0         \n",
      " 1D)                                                             \n",
      "                                                                 \n",
      " flatten_1 (Flatten)         (None, 128)               0         \n",
      "                                                                 \n",
      " dense_1 (Dense)             (None, 1)                 129       \n",
      "                                                                 \n",
      "=================================================================\n",
      "Total params: 466,569\n",
      "Trainable params: 466,569\n",
      "Non-trainable params: 0\n",
      "_________________________________________________________________\n"
     ]
    }
   ],
   "source": [
    "from tensorflow.keras.models import Sequential\n",
    "from tensorflow.keras.layers import Embedding, Conv1D, Dense, Flatten, MaxPooling1D\n",
    "from tensorflow.keras.callbacks import EarlyStopping, ModelCheckpoint\n",
    "from tensorflow.keras.models import load_model\n",
    "\n",
    "model = Sequential()\n",
    "model.add(Embedding(vocab_size, 100, input_length = max_len))\n",
    "model.add(Conv1D(filters = 64, kernel_size = 5,activation = 'relu', strides = 1))\n",
    "model.add(Conv1D(filters = 32, kernel_size = 4,activation = 'relu', strides = 1))\n",
    "model.add(Conv1D(filters = 16, kernel_size = 3,activation = 'relu', strides = 1))\n",
    "model.add(MaxPooling1D(5))\n",
    "model.add(Flatten())\n",
    "model.add(Dense(1, activation='sigmoid'))\n",
    "model.compile(loss = 'binary_crossentropy', optimizer = 'adam', metrics=['acc'])\n",
    "model.summary()"
   ]
  },
  {
   "cell_type": "code",
   "execution_count": 39,
   "metadata": {},
   "outputs": [
    {
     "name": "stdout",
     "output_type": "stream",
     "text": [
      "Epoch 1/10\n",
      "119/125 [===========================>..] - ETA: 0s - loss: 0.6914 - acc: 0.5261\n",
      "Epoch 1: val_acc improved from -inf to 0.57500, saving model to CNN_model.h5\n",
      "125/125 [==============================] - 2s 10ms/step - loss: 0.6909 - acc: 0.5291 - val_loss: 0.6769 - val_acc: 0.5750\n",
      "Epoch 2/10\n",
      "121/125 [============================>.] - ETA: 0s - loss: 0.5877 - acc: 0.6601\n",
      "Epoch 2: val_acc improved from 0.57500 to 0.64050, saving model to CNN_model.h5\n",
      "125/125 [==============================] - 1s 8ms/step - loss: 0.5873 - acc: 0.6614 - val_loss: 0.6162 - val_acc: 0.6405\n",
      "Epoch 3/10\n",
      "124/125 [============================>.] - ETA: 0s - loss: 0.4585 - acc: 0.7364\n",
      "Epoch 3: val_acc improved from 0.64050 to 0.64150, saving model to CNN_model.h5\n",
      "125/125 [==============================] - 1s 7ms/step - loss: 0.4589 - acc: 0.7356 - val_loss: 0.6679 - val_acc: 0.6415\n",
      "Epoch 4/10\n",
      "125/125 [==============================] - ETA: 0s - loss: 0.3688 - acc: 0.7931\n",
      "Epoch 4: val_acc improved from 0.64150 to 0.64200, saving model to CNN_model.h5\n",
      "125/125 [==============================] - 1s 7ms/step - loss: 0.3688 - acc: 0.7931 - val_loss: 0.8365 - val_acc: 0.6420\n",
      "Epoch 5/10\n",
      "122/125 [============================>.] - ETA: 0s - loss: 0.3083 - acc: 0.8175\n",
      "Epoch 5: val_acc did not improve from 0.64200\n",
      "125/125 [==============================] - 1s 7ms/step - loss: 0.3099 - acc: 0.8169 - val_loss: 0.9219 - val_acc: 0.6365\n",
      "Epoch 6/10\n",
      "118/125 [===========================>..] - ETA: 0s - loss: 0.2736 - acc: 0.8337\n",
      "Epoch 6: val_acc did not improve from 0.64200\n",
      "125/125 [==============================] - 1s 7ms/step - loss: 0.2733 - acc: 0.8347 - val_loss: 1.1780 - val_acc: 0.6260\n",
      "Epoch 7/10\n",
      "117/125 [===========================>..] - ETA: 0s - loss: 0.2505 - acc: 0.8416\n",
      "Epoch 7: val_acc did not improve from 0.64200\n",
      "125/125 [==============================] - 1s 7ms/step - loss: 0.2504 - acc: 0.8407 - val_loss: 1.3643 - val_acc: 0.6380\n"
     ]
    },
    {
     "data": {
      "text/plain": [
       "<keras.callbacks.History at 0x26a6143b700>"
      ]
     },
     "execution_count": 39,
     "metadata": {},
     "output_type": "execute_result"
    }
   ],
   "source": [
    "es = EarlyStopping(monitor='val_loss', mode='min', patience=5)\n",
    "mc = ModelCheckpoint('CNN_model.h5', monitor='val_acc', mode='max', verbose=1, save_best_only=True)\n",
    "model.fit(X_train, y_train, batch_size = 64, epochs=10, validation_split=0.2, callbacks=[es, mc])"
   ]
  },
  {
   "cell_type": "code",
   "execution_count": 40,
   "metadata": {},
   "outputs": [
    {
     "name": "stdout",
     "output_type": "stream",
     "text": [
      "Model: \"sequential_2\"\n",
      "_________________________________________________________________\n",
      " Layer (type)                Output Shape              Param #   \n",
      "=================================================================\n",
      " embedding_2 (Embedding)     (None, 53, 100)           424600    \n",
      "                                                                 \n",
      " conv1d_6 (Conv1D)           (None, 25, 64)            32064     \n",
      "                                                                 \n",
      " conv1d_7 (Conv1D)           (None, 11, 32)            8224      \n",
      "                                                                 \n",
      " conv1d_8 (Conv1D)           (None, 5, 16)             1552      \n",
      "                                                                 \n",
      " max_pooling1d_2 (MaxPooling  (None, 1, 16)            0         \n",
      " 1D)                                                             \n",
      "                                                                 \n",
      " flatten_2 (Flatten)         (None, 16)                0         \n",
      "                                                                 \n",
      " dense_2 (Dense)             (None, 1)                 17        \n",
      "                                                                 \n",
      "=================================================================\n",
      "Total params: 466,457\n",
      "Trainable params: 466,457\n",
      "Non-trainable params: 0\n",
      "_________________________________________________________________\n"
     ]
    }
   ],
   "source": [
    "from tensorflow.keras.models import Sequential\n",
    "from tensorflow.keras.layers import Embedding, Conv1D, Dense, Flatten, MaxPooling1D\n",
    "from tensorflow.keras.callbacks import EarlyStopping, ModelCheckpoint\n",
    "from tensorflow.keras.models import load_model\n",
    "\n",
    "model = Sequential()\n",
    "model.add(Embedding(vocab_size, 100, input_length = max_len))\n",
    "model.add(Conv1D(filters = 64, kernel_size = 5,activation = 'relu', strides = 2))\n",
    "model.add(Conv1D(filters = 32, kernel_size = 4,activation = 'relu', strides = 2))\n",
    "model.add(Conv1D(filters = 16, kernel_size = 3,activation = 'relu', strides = 2))\n",
    "model.add(MaxPooling1D(5))\n",
    "model.add(Flatten())\n",
    "model.add(Dense(1, activation='sigmoid'))\n",
    "model.compile(loss = 'binary_crossentropy', optimizer = 'adam', metrics=['acc'])\n",
    "model.summary()"
   ]
  },
  {
   "cell_type": "code",
   "execution_count": 41,
   "metadata": {},
   "outputs": [
    {
     "name": "stdout",
     "output_type": "stream",
     "text": [
      "Epoch 1/10\n",
      "119/125 [===========================>..] - ETA: 0s - loss: 0.6850 - acc: 0.5185\n",
      "Epoch 1: val_acc improved from -inf to 0.63450, saving model to CNN_model.h5\n",
      "125/125 [==============================] - 2s 9ms/step - loss: 0.6832 - acc: 0.5240 - val_loss: 0.6421 - val_acc: 0.6345\n",
      "Epoch 2/10\n",
      "116/125 [==========================>...] - ETA: 0s - loss: 0.5110 - acc: 0.7364\n",
      "Epoch 2: val_acc improved from 0.63450 to 0.71900, saving model to CNN_model.h5\n",
      "125/125 [==============================] - 1s 7ms/step - loss: 0.5077 - acc: 0.7387 - val_loss: 0.5486 - val_acc: 0.7190\n",
      "Epoch 3/10\n",
      "118/125 [===========================>..] - ETA: 0s - loss: 0.3303 - acc: 0.8361\n",
      "Epoch 3: val_acc did not improve from 0.71900\n",
      "125/125 [==============================] - 1s 6ms/step - loss: 0.3291 - acc: 0.8364 - val_loss: 0.6361 - val_acc: 0.6935\n",
      "Epoch 4/10\n",
      "117/125 [===========================>..] - ETA: 0s - loss: 0.2109 - acc: 0.8928\n",
      "Epoch 4: val_acc did not improve from 0.71900\n",
      "125/125 [==============================] - 1s 6ms/step - loss: 0.2112 - acc: 0.8926 - val_loss: 0.8474 - val_acc: 0.6885\n",
      "Epoch 5/10\n",
      "121/125 [============================>.] - ETA: 0s - loss: 0.1493 - acc: 0.9202\n",
      "Epoch 5: val_acc did not improve from 0.71900\n",
      "125/125 [==============================] - 1s 7ms/step - loss: 0.1496 - acc: 0.9201 - val_loss: 1.1188 - val_acc: 0.6860\n",
      "Epoch 6/10\n",
      "124/125 [============================>.] - ETA: 0s - loss: 0.1252 - acc: 0.9277\n",
      "Epoch 6: val_acc did not improve from 0.71900\n",
      "125/125 [==============================] - 1s 6ms/step - loss: 0.1247 - acc: 0.9279 - val_loss: 1.2715 - val_acc: 0.6925\n",
      "Epoch 7/10\n",
      "117/125 [===========================>..] - ETA: 0s - loss: 0.1092 - acc: 0.9344\n",
      "Epoch 7: val_acc did not improve from 0.71900\n",
      "125/125 [==============================] - 1s 6ms/step - loss: 0.1106 - acc: 0.9340 - val_loss: 1.5127 - val_acc: 0.6855\n"
     ]
    },
    {
     "data": {
      "text/plain": [
       "<keras.callbacks.History at 0x26a18bc5250>"
      ]
     },
     "execution_count": 41,
     "metadata": {},
     "output_type": "execute_result"
    }
   ],
   "source": [
    "es = EarlyStopping(monitor='val_loss', mode='min', patience=5)\n",
    "mc = ModelCheckpoint('CNN_model.h5', monitor='val_acc', mode='max', verbose=1, save_best_only=True)\n",
    "model.fit(X_train, y_train, batch_size = 64, epochs=10, validation_split=0.2, callbacks=[es, mc])"
   ]
  }
 ],
 "metadata": {
  "kernelspec": {
   "display_name": "base",
   "language": "python",
   "name": "python3"
  },
  "language_info": {
   "codemirror_mode": {
    "name": "ipython",
    "version": 3
   },
   "file_extension": ".py",
   "mimetype": "text/x-python",
   "name": "python",
   "nbconvert_exporter": "python",
   "pygments_lexer": "ipython3",
   "version": "3.9.13"
  },
  "orig_nbformat": 4
 },
 "nbformat": 4,
 "nbformat_minor": 2
}
