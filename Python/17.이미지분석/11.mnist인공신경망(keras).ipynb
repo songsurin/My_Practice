{
 "cells": [
  {
   "cell_type": "code",
   "execution_count": 1,
   "metadata": {},
   "outputs": [
    {
     "name": "stdout",
     "output_type": "stream",
     "text": [
      "[5 0 4 1 9]\n",
      "[[0. 0. 0. 0. 0. 1. 0. 0. 0. 0.]\n",
      " [1. 0. 0. 0. 0. 0. 0. 0. 0. 0.]\n",
      " [0. 0. 0. 0. 1. 0. 0. 0. 0. 0.]\n",
      " [0. 1. 0. 0. 0. 0. 0. 0. 0. 0.]\n",
      " [0. 0. 0. 0. 0. 0. 0. 0. 0. 1.]]\n"
     ]
    }
   ],
   "source": [
    "from tensorflow.keras import datasets\n",
    "from keras.utils import np_utils\n",
    "# 데이터 준비\n",
    "(X_train, y_train), (X_test, y_test) = datasets.mnist.load_data()\n",
    "print(y_train[:5])\n",
    "#one hot encoding\n",
    "y_train = np_utils.to_categorical(y_train)\n",
    "print(y_train[:5])\n",
    "y_test = np_utils.to_categorical(y_test)\n",
    "L, W, H = X_train.shape\n",
    "# -1 샘플의 개수\n",
    "X_train = X_train.reshape(-1, W * H)\n",
    "X_test = X_test.reshape(-1, W * H)\n",
    "X_train = X_train / 255.0\n",
    "X_test = X_test / 255.0"
   ]
  },
  {
   "cell_type": "code",
   "execution_count": 2,
   "metadata": {},
   "outputs": [],
   "source": [
    "from keras.layers import Dense, Dropout\n",
    "from keras.models import Sequential\n",
    "# 분류 DNN 모델 구현 함수\n",
    "def make_model(input_number, layers, output_number):\n",
    "    #모델 초기화\n",
    "    model = Sequential()\n",
    "    model.add(Dense(layers[0], activation='relu', input_shape=(input_number,)))\n",
    "    model.add(Dense(layers[1], activation='relu'))\n",
    "    model.add(Dense(layers[2], activation='relu'))\n",
    "    #드롭아웃 계층 Dropout(p) p라는 확률로\n",
    "    # 출력 노드의 신호를 보내다 말다 함, 과적합 방지\n",
    "    model.add(Dropout(0.2))\n",
    "    #출력층(다분류-softmax)\n",
    "    model.add(Dense(output_number, activation='softmax', name='output'))\n",
    "    model.compile(loss='categorical_crossentropy',\n",
    "                optimizer='adam',\n",
    "                metrics=['accuracy'])\n",
    "    return model"
   ]
  },
  {
   "cell_type": "code",
   "execution_count": 7,
   "metadata": {},
   "outputs": [
    {
     "name": "stdout",
     "output_type": "stream",
     "text": [
      "[128, 64, 32]\n",
      "Model: \"sequential_1\"\n",
      "_________________________________________________________________\n",
      " Layer (type)                Output Shape              Param #   \n",
      "=================================================================\n",
      " dense_3 (Dense)             (None, 128)               100480    \n",
      "                                                                 \n",
      " dense_4 (Dense)             (None, 64)                8256      \n",
      "                                                                 \n",
      " dense_5 (Dense)             (None, 32)                2080      \n",
      "                                                                 \n",
      " dropout_1 (Dropout)         (None, 32)                0         \n",
      "                                                                 \n",
      " output (Dense)              (None, 10)                330       \n",
      "                                                                 \n",
      "=================================================================\n",
      "Total params: 111,146\n",
      "Trainable params: 111,146\n",
      "Non-trainable params: 0\n",
      "_________________________________________________________________\n"
     ]
    }
   ],
   "source": [
    "input_number = 784 #28x28\n",
    "#은닉계층 3개, 은닉노드수 128개, 64개, 32개\n",
    "hidden_layers = [128, 64, 32]\n",
    "number_of_class = 10\n",
    "output_number = number_of_class\n",
    "#모델 생성\n",
    "model = make_model(input_number, hidden_layers, output_number)\n",
    "model.summary()"
   ]
  },
  {
   "cell_type": "code",
   "execution_count": 4,
   "metadata": {},
   "outputs": [
    {
     "name": "stdout",
     "output_type": "stream",
     "text": [
      "Epoch 1/5\n",
      "375/375 [==============================] - 2s 3ms/step - loss: 0.5358 - accuracy: 0.8352 - val_loss: 0.1973 - val_accuracy: 0.9420\n",
      "Epoch 2/5\n",
      "375/375 [==============================] - 1s 2ms/step - loss: 0.2093 - accuracy: 0.9421 - val_loss: 0.1398 - val_accuracy: 0.9593\n",
      "Epoch 3/5\n",
      "375/375 [==============================] - 1s 2ms/step - loss: 0.1483 - accuracy: 0.9585 - val_loss: 0.1314 - val_accuracy: 0.9620\n",
      "Epoch 4/5\n",
      "375/375 [==============================] - 1s 2ms/step - loss: 0.1135 - accuracy: 0.9676 - val_loss: 0.1015 - val_accuracy: 0.9697\n",
      "Epoch 5/5\n",
      "375/375 [==============================] - 1s 3ms/step - loss: 0.0861 - accuracy: 0.9758 - val_loss: 0.0968 - val_accuracy: 0.9724\n"
     ]
    }
   ],
   "source": [
    "#모델 학습\n",
    "hist = model.fit(X_train, y_train, epochs=5, batch_size=128, validation_split=0.2)"
   ]
  },
  {
   "cell_type": "code",
   "execution_count": 5,
   "metadata": {},
   "outputs": [
    {
     "name": "stdout",
     "output_type": "stream",
     "text": [
      "79/79 [==============================] - 0s 1ms/step - loss: 0.0911 - accuracy: 0.9722\n"
     ]
    },
    {
     "data": {
      "text/plain": [
       "[0.0910905972123146, 0.9721999764442444]"
      ]
     },
     "execution_count": 5,
     "metadata": {},
     "output_type": "execute_result"
    }
   ],
   "source": [
    "#모델 평가\n",
    "model.evaluate(X_test, y_test, batch_size=128)"
   ]
  },
  {
   "cell_type": "code",
   "execution_count": 6,
   "metadata": {},
   "outputs": [
    {
     "data": {
      "image/png": "[encoded data removed]",
      "text/plain": [
       "<Figure size 640x480 with 1 Axes>"
      ]
     },
     "metadata": {},
     "output_type": "display_data"
    }
   ],
   "source": [
    "# 모델 학습 과정 표시\n",
    "%matplotlib inline\n",
    "import matplotlib.pyplot as plt\n",
    "plt.plot(hist.history['loss'])\n",
    "plt.plot(hist.history['accuracy'])\n",
    "plt.plot(hist.history['val_loss'])\n",
    "plt.plot(hist.history['val_accuracy'])\n",
    "plt.legend(['loss','accuracy','val_loss','val_accuracy'])\n",
    "plt.show()"
   ]
  }
 ],
 "metadata": {
  "kernelspec": {
   "display_name": "base",
   "language": "python",
   "name": "python3"
  },
  "language_info": {
   "codemirror_mode": {
    "name": "ipython",
    "version": 3
   },
   "file_extension": ".py",
   "mimetype": "text/x-python",
   "name": "python",
   "nbconvert_exporter": "python",
   "pygments_lexer": "ipython3",
   "version": "3.9.13"
  },
  "orig_nbformat": 4
 },
 "nbformat": 4,
 "nbformat_minor": 2
}
