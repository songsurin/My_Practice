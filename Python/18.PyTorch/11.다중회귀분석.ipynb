{
 "cells": [
  {
   "cell_type": "code",
   "execution_count": 2,
   "metadata": {},
   "outputs": [
    {
     "data": {
      "text/html": [
       "<div>\n",
       "<style scoped>\n",
       "    .dataframe tbody tr th:only-of-type {\n",
       "        vertical-align: middle;\n",
       "    }\n",
       "\n",
       "    .dataframe tbody tr th {\n",
       "        vertical-align: top;\n",
       "    }\n",
       "\n",
       "    .dataframe thead th {\n",
       "        text-align: right;\n",
       "    }\n",
       "</style>\n",
       "<table border=\"1\" class=\"dataframe\">\n",
       "  <thead>\n",
       "    <tr style=\"text-align: right;\">\n",
       "      <th></th>\n",
       "      <th>Ozone</th>\n",
       "      <th>Result</th>\n",
       "      <th>Solar.R</th>\n",
       "      <th>Wind</th>\n",
       "      <th>Temp</th>\n",
       "      <th>Month</th>\n",
       "      <th>Day</th>\n",
       "    </tr>\n",
       "  </thead>\n",
       "  <tbody>\n",
       "    <tr>\n",
       "      <th>0</th>\n",
       "      <td>41.00000</td>\n",
       "      <td>0</td>\n",
       "      <td>190.000000</td>\n",
       "      <td>7.4</td>\n",
       "      <td>67</td>\n",
       "      <td>5</td>\n",
       "      <td>1</td>\n",
       "    </tr>\n",
       "    <tr>\n",
       "      <th>1</th>\n",
       "      <td>36.00000</td>\n",
       "      <td>0</td>\n",
       "      <td>118.000000</td>\n",
       "      <td>8.0</td>\n",
       "      <td>72</td>\n",
       "      <td>5</td>\n",
       "      <td>2</td>\n",
       "    </tr>\n",
       "    <tr>\n",
       "      <th>2</th>\n",
       "      <td>12.00000</td>\n",
       "      <td>0</td>\n",
       "      <td>149.000000</td>\n",
       "      <td>12.6</td>\n",
       "      <td>74</td>\n",
       "      <td>5</td>\n",
       "      <td>3</td>\n",
       "    </tr>\n",
       "    <tr>\n",
       "      <th>3</th>\n",
       "      <td>18.00000</td>\n",
       "      <td>0</td>\n",
       "      <td>313.000000</td>\n",
       "      <td>11.5</td>\n",
       "      <td>62</td>\n",
       "      <td>5</td>\n",
       "      <td>4</td>\n",
       "    </tr>\n",
       "    <tr>\n",
       "      <th>4</th>\n",
       "      <td>42.12931</td>\n",
       "      <td>0</td>\n",
       "      <td>185.931507</td>\n",
       "      <td>14.3</td>\n",
       "      <td>56</td>\n",
       "      <td>5</td>\n",
       "      <td>5</td>\n",
       "    </tr>\n",
       "  </tbody>\n",
       "</table>\n",
       "</div>"
      ],
      "text/plain": [
       "      Ozone  Result     Solar.R  Wind  Temp  Month  Day\n",
       "0  41.00000       0  190.000000   7.4    67      5    1\n",
       "1  36.00000       0  118.000000   8.0    72      5    2\n",
       "2  12.00000       0  149.000000  12.6    74      5    3\n",
       "3  18.00000       0  313.000000  11.5    62      5    4\n",
       "4  42.12931       0  185.931507  14.3    56      5    5"
      ]
     },
     "execution_count": 2,
     "metadata": {},
     "output_type": "execute_result"
    }
   ],
   "source": [
    "import pandas as pd\n",
    "df = pd.read_csv(\"d:/data/ozone/ozone2.csv\")\n",
    "df.head()"
   ]
  },
  {
   "cell_type": "code",
   "execution_count": 3,
   "metadata": {},
   "outputs": [
    {
     "data": {
      "text/plain": [
       "Index(['Ozone', 'Result', 'Solar.R', 'Wind', 'Temp', 'Month', 'Day'], dtype='object')"
      ]
     },
     "execution_count": 3,
     "metadata": {},
     "output_type": "execute_result"
    }
   ],
   "source": [
    "df.columns"
   ]
  },
  {
   "cell_type": "code",
   "execution_count": 4,
   "metadata": {},
   "outputs": [],
   "source": [
    "X = df[['Solar.R', 'Wind', 'Temp']]\n",
    "y = df[[\"Ozone\"]]"
   ]
  },
  {
   "cell_type": "code",
   "execution_count": 5,
   "metadata": {},
   "outputs": [],
   "source": [
    "from sklearn.model_selection import train_test_split\n",
    "X_train, X_test, y_train, y_test = train_test_split(X, y, test_size=0.33, random_state=42)"
   ]
  },
  {
   "cell_type": "code",
   "execution_count": 6,
   "metadata": {},
   "outputs": [],
   "source": [
    "from sklearn.preprocessing import StandardScaler\n",
    "sc = StandardScaler()\n",
    "X_train_scaled = sc.fit_transform(X_train)\n",
    "X_test_scaled = sc.transform(X_test)"
   ]
  },
  {
   "cell_type": "code",
   "execution_count": 7,
   "metadata": {},
   "outputs": [],
   "source": [
    "import numpy as np\n",
    "X_train = np.array(X_train_scaled,dtype=np.float32)\n",
    "y_train = np.array(y_train,dtype=np.float32)\n",
    "X_test = np.array(X_test_scaled,dtype=np.float32)\n",
    "y_test = np.array(y_test,dtype=np.float32)"
   ]
  },
  {
   "cell_type": "code",
   "execution_count": 8,
   "metadata": {},
   "outputs": [],
   "source": [
    "import torch\n",
    "inputs = torch.from_numpy(X_train)\n",
    "targets = torch.from_numpy(y_train)"
   ]
  },
  {
   "cell_type": "code",
   "execution_count": 9,
   "metadata": {},
   "outputs": [
    {
     "name": "stdout",
     "output_type": "stream",
     "text": [
      "Sequential(\n",
      "  (0): Linear(in_features=3, out_features=24, bias=True)\n",
      "  (1): ReLU()\n",
      "  (2): Linear(in_features=24, out_features=12, bias=True)\n",
      "  (3): ReLU()\n",
      "  (4): Linear(in_features=12, out_features=3, bias=True)\n",
      "  (5): ReLU()\n",
      "  (6): Linear(in_features=3, out_features=1, bias=True)\n",
      ")\n",
      "Parameter containing:\n",
      "tensor([[ 0.4495,  0.0204, -0.0528]], requires_grad=True)\n",
      "Parameter containing:\n",
      "tensor([-0.2212], requires_grad=True)\n"
     ]
    }
   ],
   "source": [
    "import torch.nn as nn\n",
    "input_dim = X_train.shape[1]\n",
    "output_dim = 64\n",
    "model = nn.Sequential(\n",
    "    nn.Linear(input_dim,24),\n",
    "    nn.ReLU(),\n",
    "    nn.Linear(24,12),\n",
    "    nn.ReLU(),\n",
    "    nn.Linear(12,3),\n",
    "    nn.ReLU(),\n",
    "    nn.Linear(3,1)\n",
    ")\n",
    "print(model)\n",
    "print(model[6].weight)\n",
    "print(model[6].bias)"
   ]
  },
  {
   "cell_type": "code",
   "execution_count": 11,
   "metadata": {},
   "outputs": [
    {
     "name": "stdout",
     "output_type": "stream",
     "text": [
      "epoch 0, loss 2820.016845703125\n",
      "epoch 50, loss 420.1640319824219\n",
      "epoch 100, loss 347.13623046875\n",
      "epoch 150, loss 335.8968200683594\n",
      "epoch 200, loss 322.701416015625\n",
      "epoch 250, loss 310.9900817871094\n",
      "epoch 300, loss 303.8330383300781\n",
      "epoch 350, loss 294.96661376953125\n",
      "epoch 400, loss 284.4056701660156\n",
      "epoch 450, loss 265.9936218261719\n",
      "epoch 500, loss 238.7067413330078\n",
      "epoch 550, loss 214.56399536132812\n",
      "epoch 600, loss 194.71890258789062\n",
      "epoch 650, loss 182.8081512451172\n",
      "epoch 700, loss 177.30613708496094\n",
      "epoch 750, loss 172.5081024169922\n",
      "epoch 800, loss 169.95606994628906\n",
      "epoch 850, loss 166.0081787109375\n",
      "epoch 900, loss 162.98277282714844\n",
      "epoch 950, loss 158.4835205078125\n",
      "epoch 1000, loss 156.59878540039062\n",
      "epoch 1050, loss 154.85589599609375\n",
      "epoch 1100, loss 153.49708557128906\n",
      "epoch 1150, loss 152.53550720214844\n",
      "epoch 1200, loss 151.63473510742188\n",
      "epoch 1250, loss 141.9448699951172\n",
      "epoch 1300, loss 135.4307861328125\n",
      "epoch 1350, loss 128.2781219482422\n",
      "epoch 1400, loss 120.32113647460938\n",
      "epoch 1450, loss 113.73492431640625\n",
      "epoch 1500, loss 106.90106201171875\n",
      "epoch 1550, loss 103.40118408203125\n",
      "epoch 1600, loss 97.1920394897461\n",
      "epoch 1650, loss 93.57762908935547\n",
      "epoch 1700, loss 90.32310485839844\n",
      "epoch 1750, loss 86.57205200195312\n",
      "epoch 1800, loss 82.5705337524414\n",
      "epoch 1850, loss 78.27571868896484\n",
      "epoch 1900, loss 75.3322982788086\n",
      "epoch 1950, loss 72.18106842041016\n",
      "epoch 2000, loss 69.96495819091797\n",
      "epoch 2050, loss 68.8818588256836\n",
      "epoch 2100, loss 66.40676879882812\n",
      "epoch 2150, loss 66.03707122802734\n",
      "epoch 2200, loss 64.87523651123047\n",
      "epoch 2250, loss 62.967254638671875\n",
      "epoch 2300, loss 61.8814811706543\n",
      "epoch 2350, loss 60.95068359375\n",
      "epoch 2400, loss 58.860328674316406\n",
      "epoch 2450, loss 58.07260513305664\n",
      "epoch 2500, loss 55.970272064208984\n",
      "epoch 2550, loss 53.092811584472656\n",
      "epoch 2600, loss 51.24506378173828\n",
      "epoch 2650, loss 50.26011657714844\n",
      "epoch 2700, loss 51.11891555786133\n",
      "epoch 2750, loss 49.75238800048828\n",
      "epoch 2800, loss 48.692665100097656\n",
      "epoch 2850, loss 47.56120300292969\n",
      "epoch 2900, loss 44.97163772583008\n",
      "epoch 2950, loss 44.713226318359375\n",
      "epoch 3000, loss 43.14133834838867\n",
      "epoch 3050, loss 43.29033660888672\n",
      "epoch 3100, loss 41.865821838378906\n",
      "epoch 3150, loss 42.17548751831055\n",
      "epoch 3200, loss 42.06821060180664\n",
      "epoch 3250, loss 37.76526641845703\n",
      "epoch 3300, loss 39.05021286010742\n",
      "epoch 3350, loss 35.795997619628906\n",
      "epoch 3400, loss 35.85245895385742\n",
      "epoch 3450, loss 34.63145446777344\n",
      "epoch 3500, loss 35.58770751953125\n",
      "epoch 3550, loss 35.531436920166016\n",
      "epoch 3600, loss 33.59825134277344\n",
      "epoch 3650, loss 33.16547775268555\n",
      "epoch 3700, loss 33.84821701049805\n",
      "epoch 3750, loss 32.73337936401367\n",
      "epoch 3800, loss 31.27359390258789\n",
      "epoch 3850, loss 31.7314453125\n",
      "epoch 3900, loss 32.597877502441406\n",
      "epoch 3950, loss 30.427471160888672\n",
      "epoch 4000, loss 30.587514877319336\n",
      "epoch 4050, loss 30.211502075195312\n",
      "epoch 4100, loss 29.676591873168945\n",
      "epoch 4150, loss 28.76226043701172\n",
      "epoch 4200, loss 70.46978759765625\n",
      "epoch 4250, loss 35.01078414916992\n",
      "epoch 4300, loss 32.36445236206055\n",
      "epoch 4350, loss 31.668243408203125\n",
      "epoch 4400, loss 31.288694381713867\n",
      "epoch 4450, loss 30.70632553100586\n",
      "epoch 4500, loss 32.35124588012695\n",
      "epoch 4550, loss 29.53927993774414\n",
      "epoch 4600, loss 28.31487274169922\n",
      "epoch 4650, loss 27.915014266967773\n",
      "epoch 4700, loss 27.42666244506836\n",
      "epoch 4750, loss 26.963537216186523\n",
      "epoch 4800, loss 26.024063110351562\n",
      "epoch 4850, loss 28.46799659729004\n",
      "epoch 4900, loss 24.922801971435547\n",
      "epoch 4950, loss 28.57526397705078\n"
     ]
    }
   ],
   "source": [
    "mse = nn.MSELoss()\n",
    "optimizer = torch.optim.Adam(model.parameters(),lr = 0.01)\n",
    "#                   최적화 함수                     학습률\n",
    "loss_list = []\n",
    "iteration_number = 5000\n",
    "for iteration in range(iteration_number):\n",
    "    optimizer.zero_grad()\n",
    "    results = model(inputs)\n",
    "    \n",
    "    loss = mse(results, targets)\n",
    "    loss.backward()\n",
    "    optimizer.step()\n",
    "    loss_list.append(loss.data)\n",
    "\n",
    "    if(iteration % 50 == 0):\n",
    "        print('epoch {}, loss {}'.format(iteration, loss.data))"
   ]
  },
  {
   "cell_type": "code",
   "execution_count": 12,
   "metadata": {},
   "outputs": [
    {
     "data": {
      "image/png": "[encoded data removed]",
      "text/plain": [
       "<Figure size 640x480 with 1 Axes>"
      ]
     },
     "metadata": {},
     "output_type": "display_data"
    }
   ],
   "source": [
    "import matplotlib.pyplot as plt\n",
    "plt.plot(range(iteration_number),loss_list)\n",
    "plt.xlabel(\"Number of Iterations\")\n",
    "plt.ylabel(\"Loss\")\n",
    "plt.show()"
   ]
  },
  {
   "cell_type": "code",
   "execution_count": 13,
   "metadata": {},
   "outputs": [
    {
     "data": {
      "text/plain": [
       "array([[12.867026],\n",
       "       [32.368176],\n",
       "       [70.576675],\n",
       "       [22.42933 ],\n",
       "       [79.5004  ]], dtype=float32)"
      ]
     },
     "execution_count": 13,
     "metadata": {},
     "output_type": "execute_result"
    }
   ],
   "source": [
    "input_x_test = torch.from_numpy(X_test)\n",
    "predicted = model(input_x_test.float()).data.numpy()\n",
    "predicted[0:5]"
   ]
  },
  {
   "cell_type": "code",
   "execution_count": 14,
   "metadata": {},
   "outputs": [
    {
     "data": {
      "text/plain": [
       "24.504392623901367"
      ]
     },
     "execution_count": 14,
     "metadata": {},
     "output_type": "execute_result"
    }
   ],
   "source": [
    "loss.data.item()"
   ]
  },
  {
   "cell_type": "code",
   "execution_count": 15,
   "metadata": {},
   "outputs": [
    {
     "data": {
      "image/png": "[encoded data removed]",
      "text/plain": [
       "<Figure size 640x480 with 1 Axes>"
      ]
     },
     "metadata": {},
     "output_type": "display_data"
    }
   ],
   "source": [
    "X_test = torch.from_numpy(X_test)\n",
    "plt.plot(y_test, label='real')\n",
    "plt.plot(model(X_test).detach().numpy(), label='pred')\n",
    "plt.legend()\n",
    "plt.show()"
   ]
  }
 ],
 "metadata": {
  "kernelspec": {
   "display_name": "base",
   "language": "python",
   "name": "python3"
  },
  "language_info": {
   "codemirror_mode": {
    "name": "ipython",
    "version": 3
   },
   "file_extension": ".py",
   "mimetype": "text/x-python",
   "name": "python",
   "nbconvert_exporter": "python",
   "pygments_lexer": "ipython3",
   "version": "3.9.13"
  },
  "orig_nbformat": 4
 },
 "nbformat": 4,
 "nbformat_minor": 2
}
