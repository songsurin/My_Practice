{
 "cells": [
  {
   "cell_type": "code",
   "execution_count": 1,
   "metadata": {},
   "outputs": [
    {
     "name": "stdout",
     "output_type": "stream",
     "text": [
      "[[5.1 3.5 1.4 0.2]\n",
      " [4.9 3.  1.4 0.2]\n",
      " [4.7 3.2 1.3 0.2]\n",
      " [4.6 3.1 1.5 0.2]\n",
      " [5.  3.6 1.4 0.2]]\n",
      "[0 0 0 0 0]\n"
     ]
    }
   ],
   "source": [
    "from sklearn.datasets import load_iris\n",
    "# iris 데이터셋 로딩\n",
    "X, y = load_iris(return_X_y=True)\n",
    "print(X[:5])\n",
    "print(y[:5])"
   ]
  },
  {
   "cell_type": "code",
   "execution_count": 2,
   "metadata": {},
   "outputs": [
    {
     "name": "stdout",
     "output_type": "stream",
     "text": [
      "120\n"
     ]
    }
   ],
   "source": [
    "from sklearn.model_selection import train_test_split\n",
    "X_train,X_test, y_train, y_test = train_test_split(X, y, random_state=10, \n",
    "                                                   test_size=0.2, stratify=y, \n",
    "                                                   shuffle=True)\n",
    "print(len(X_train))"
   ]
  },
  {
   "cell_type": "code",
   "execution_count": 3,
   "metadata": {},
   "outputs": [],
   "source": [
    "from torch import nn\n",
    "    #신경망 모형\n",
    "class Model(nn.Module):\n",
    "\n",
    "    def __init__(self, input_dim):\n",
    "        super(Model, self).__init__()\n",
    "        #input layer, Linear 선형함수(1차함수)\n",
    "        self.layer1 = nn.Linear(input_dim,50) #input nodes, output nodes 50\n",
    "        self.layer2 = nn.Linear(50, 20)\n",
    "        self.layer3 = nn.Linear(20, 3)\n",
    "\n",
    "    def forward(self, x):\n",
    "        x = F.relu(self.layer1(x))\n",
    "        x = F.relu(self.layer2(x))\n",
    "        # 출력층의 활성화함수 - 소프트맥스\n",
    "        x = F.softmax(self.layer3(x), dim=0)\n",
    "        return x"
   ]
  },
  {
   "cell_type": "code",
   "execution_count": 4,
   "metadata": {},
   "outputs": [],
   "source": [
    "import torch\n",
    "model = Model(X_train.shape[1]) # 초기화함수의 input_dim으로 변수개수가 전달됨\n",
    "optimizer = torch.optim.Adam(model.parameters(), lr=0.01) # 최적화함수 정의\n",
    "loss_fn = nn.CrossEntropyLoss() #손실함수 정의\n",
    "epochs = 100"
   ]
  },
  {
   "cell_type": "code",
   "execution_count": 5,
   "metadata": {},
   "outputs": [
    {
     "name": "stdout",
     "output_type": "stream",
     "text": [
      "Epoch 1\n",
      "loss: 1.0988799333572388\n",
      "Epoch 2\n",
      "loss: 1.098006010055542\n",
      "Epoch 3\n",
      "loss: 1.0969886779785156\n",
      "Epoch 4\n",
      "loss: 1.0959995985031128\n",
      "Epoch 5\n",
      "loss: 1.095071792602539\n",
      "Epoch 6\n",
      "loss: 1.094066858291626\n",
      "Epoch 7\n",
      "loss: 1.0930393934249878\n",
      "Epoch 8\n",
      "loss: 1.0920631885528564\n",
      "Epoch 9\n",
      "loss: 1.091312289237976\n",
      "Epoch 10\n",
      "loss: 1.09074068069458\n",
      "Epoch 11\n",
      "loss: 1.0902479887008667\n",
      "Epoch 12\n",
      "loss: 1.0897756814956665\n",
      "Epoch 13\n",
      "loss: 1.0893419981002808\n",
      "Epoch 14\n",
      "loss: 1.0889543294906616\n",
      "Epoch 15\n",
      "loss: 1.0885899066925049\n",
      "Epoch 16\n",
      "loss: 1.0882508754730225\n",
      "Epoch 17\n",
      "loss: 1.0879632234573364\n",
      "Epoch 18\n",
      "loss: 1.0877572298049927\n",
      "Epoch 19\n",
      "loss: 1.0875930786132812\n",
      "Epoch 20\n",
      "loss: 1.087437391281128\n",
      "Epoch 21\n",
      "loss: 1.0872851610183716\n",
      "Epoch 22\n",
      "loss: 1.0871363878250122\n",
      "Epoch 23\n",
      "loss: 1.087019443511963\n",
      "Epoch 24\n",
      "loss: 1.0869427919387817\n",
      "Epoch 25\n",
      "loss: 1.086864948272705\n",
      "Epoch 26\n",
      "loss: 1.086771845817566\n",
      "Epoch 27\n",
      "loss: 1.0866754055023193\n",
      "Epoch 28\n",
      "loss: 1.0865734815597534\n",
      "Epoch 29\n",
      "loss: 1.0864627361297607\n",
      "Epoch 30\n",
      "loss: 1.0863474607467651\n",
      "Epoch 31\n",
      "loss: 1.0862157344818115\n",
      "Epoch 32\n",
      "loss: 1.0860623121261597\n",
      "Epoch 33\n",
      "loss: 1.085925817489624\n",
      "Epoch 34\n",
      "loss: 1.0857826471328735\n",
      "Epoch 35\n",
      "loss: 1.085579514503479\n",
      "Epoch 36\n",
      "loss: 1.0853819847106934\n",
      "Epoch 37\n",
      "loss: 1.0851916074752808\n",
      "Epoch 38\n",
      "loss: 1.0849859714508057\n",
      "Epoch 39\n",
      "loss: 1.0847588777542114\n",
      "Epoch 40\n",
      "loss: 1.0845152139663696\n",
      "Epoch 41\n",
      "loss: 1.084271788597107\n",
      "Epoch 42\n",
      "loss: 1.0840367078781128\n",
      "Epoch 43\n",
      "loss: 1.0837969779968262\n",
      "Epoch 44\n",
      "loss: 1.0835802555084229\n",
      "Epoch 45\n",
      "loss: 1.0833839178085327\n",
      "Epoch 46\n",
      "loss: 1.0832074880599976\n",
      "Epoch 47\n",
      "loss: 1.0830529928207397\n",
      "Epoch 48\n",
      "loss: 1.0829201936721802\n",
      "Epoch 49\n",
      "loss: 1.082808256149292\n",
      "Epoch 50\n",
      "loss: 1.0827209949493408\n",
      "Epoch 51\n",
      "loss: 1.0826523303985596\n",
      "Epoch 52\n",
      "loss: 1.0826013088226318\n",
      "Epoch 53\n",
      "loss: 1.0825625658035278\n",
      "Epoch 54\n",
      "loss: 1.082532286643982\n",
      "Epoch 55\n",
      "loss: 1.0825074911117554\n",
      "Epoch 56\n",
      "loss: 1.0824863910675049\n",
      "Epoch 57\n",
      "loss: 1.0824668407440186\n",
      "Epoch 58\n",
      "loss: 1.082448959350586\n",
      "Epoch 59\n",
      "loss: 1.0824317932128906\n",
      "Epoch 60\n",
      "loss: 1.0824154615402222\n",
      "Epoch 61\n",
      "loss: 1.0824027061462402\n",
      "Epoch 62\n",
      "loss: 1.0823906660079956\n",
      "Epoch 63\n",
      "loss: 1.082379937171936\n",
      "Epoch 64\n",
      "loss: 1.082370638847351\n",
      "Epoch 65\n",
      "loss: 1.0823620557785034\n",
      "Epoch 66\n",
      "loss: 1.0823546648025513\n",
      "Epoch 67\n",
      "loss: 1.0823477506637573\n",
      "Epoch 68\n",
      "loss: 1.0823413133621216\n",
      "Epoch 69\n",
      "loss: 1.0823352336883545\n",
      "Epoch 70\n",
      "loss: 1.0823293924331665\n",
      "Epoch 71\n",
      "loss: 1.0823243856430054\n",
      "Epoch 72\n",
      "loss: 1.0823194980621338\n",
      "Epoch 73\n",
      "loss: 1.0823150873184204\n",
      "Epoch 74\n",
      "loss: 1.0823109149932861\n",
      "Epoch 75\n",
      "loss: 1.0823073387145996\n",
      "Epoch 76\n",
      "loss: 1.0823051929473877\n",
      "Epoch 77\n",
      "loss: 1.0822986364364624\n",
      "Epoch 78\n",
      "loss: 1.0822893381118774\n",
      "Epoch 79\n",
      "loss: 1.0822832584381104\n",
      "Epoch 80\n",
      "loss: 1.0822864770889282\n",
      "Epoch 81\n",
      "loss: 1.0822848081588745\n",
      "Epoch 82\n",
      "loss: 1.0822796821594238\n",
      "Epoch 83\n",
      "loss: 1.0822712182998657\n",
      "Epoch 84\n",
      "loss: 1.082269549369812\n",
      "Epoch 85\n",
      "loss: 1.0822691917419434\n",
      "Epoch 86\n",
      "loss: 1.0822666883468628\n",
      "Epoch 87\n",
      "loss: 1.082262635231018\n",
      "Epoch 88\n",
      "loss: 1.0822581052780151\n",
      "Epoch 89\n",
      "loss: 1.082257866859436\n",
      "Epoch 90\n",
      "loss: 1.0822564363479614\n",
      "Epoch 91\n",
      "loss: 1.0822522640228271\n",
      "Epoch 92\n",
      "loss: 1.082247257232666\n",
      "Epoch 93\n",
      "loss: 1.0822457075119019\n",
      "Epoch 94\n",
      "loss: 1.0822442770004272\n",
      "Epoch 95\n",
      "loss: 1.082241177558899\n",
      "Epoch 96\n",
      "loss: 1.082237958908081\n",
      "Epoch 97\n",
      "loss: 1.0822371244430542\n",
      "Epoch 98\n",
      "loss: 1.0822361707687378\n",
      "Epoch 99\n",
      "loss: 1.0822341442108154\n",
      "Epoch 100\n",
      "loss: 1.0822316408157349\n"
     ]
    }
   ],
   "source": [
    "from torch.autograd import Variable\n",
    "import torch.nn.functional as F\n",
    "\n",
    "#넘파이배열로부터 텐서를 만들고\n",
    "X_train = Variable(torch.from_numpy(X_train)).float()\n",
    "y_train = Variable(torch.from_numpy(y_train)).long()\n",
    "for epoch in range(1, epochs+1):\n",
    "    print(\"Epoch\",epoch)\n",
    "    #예측값\n",
    "    y_pred = model(X_train)\n",
    "    #손실함수에 예측값과 실제값을 입력\n",
    "    loss = loss_fn(y_pred, y_train)\n",
    "    print('loss:',loss.item())\n",
    "\n",
    "    # 경사 초기화\n",
    "    optimizer.zero_grad()\n",
    "    loss.backward() # 역전파\n",
    "    optimizer.step() # 가중치 업데이트"
   ]
  },
  {
   "cell_type": "code",
   "execution_count": 6,
   "metadata": {},
   "outputs": [
    {
     "data": {
      "text/plain": [
       "tensor([[7.9858e-10, 3.3713e-03, 5.0376e-05],\n",
       "        [1.7675e-02, 2.4634e-06, 2.7736e-12],\n",
       "        [2.4381e-10, 3.4621e-04, 1.5483e-04],\n",
       "        [8.6493e-11, 7.5194e-04, 4.0535e-04],\n",
       "        [1.6162e-07, 2.5606e-01, 3.9545e-07]], grad_fn=<SliceBackward0>)"
      ]
     },
     "execution_count": 6,
     "metadata": {},
     "output_type": "execute_result"
    }
   ],
   "source": [
    "# Prediction\n",
    "X_test = Variable(torch.from_numpy(X_test)).float()\n",
    "pred = model(X_test)\n",
    "pred[:5]"
   ]
  },
  {
   "cell_type": "code",
   "execution_count": 7,
   "metadata": {},
   "outputs": [
    {
     "data": {
      "text/plain": [
       "array([1, 0, 1, 1, 1, 1, 0, 2, 2, 0, 0, 1, 2, 2, 1, 0, 0, 1, 2, 0, 2, 2,\n",
       "       2, 0, 0, 1, 1, 0, 1, 1], dtype=int64)"
      ]
     },
     "execution_count": 7,
     "metadata": {},
     "output_type": "execute_result"
    }
   ],
   "source": [
    "import numpy as np\n",
    "np.argmax(pred.data.numpy(), axis=1)"
   ]
  },
  {
   "cell_type": "code",
   "execution_count": 8,
   "metadata": {},
   "outputs": [
    {
     "data": {
      "text/plain": [
       "0.9333333333333333"
      ]
     },
     "execution_count": 8,
     "metadata": {},
     "output_type": "execute_result"
    }
   ],
   "source": [
    "from sklearn.metrics import accuracy_score\n",
    "# 모형의 정확도 측정\n",
    "accuracy_score(y_test, np.argmax(pred.data.numpy(), axis=1))"
   ]
  },
  {
   "cell_type": "code",
   "execution_count": 9,
   "metadata": {},
   "outputs": [],
   "source": [
    "torch.save(model, \"c:/data/iris/iris-torch.model\")"
   ]
  },
  {
   "cell_type": "code",
   "execution_count": 10,
   "metadata": {},
   "outputs": [
    {
     "data": {
      "text/plain": [
       "2"
      ]
     },
     "execution_count": 10,
     "metadata": {},
     "output_type": "execute_result"
    }
   ],
   "source": [
    "model2 = torch.load(\"c:/data/iris/iris-torch.model\")\n",
    "np.argmax(model2(X_test[0]).data.numpy())"
   ]
  },
  {
   "cell_type": "code",
   "execution_count": 12,
   "metadata": {},
   "outputs": [
    {
     "data": {
      "text/plain": [
       "==========================================================================================\n",
       "Layer (type:depth-idx)                   Output Shape              Param #\n",
       "==========================================================================================\n",
       "Model                                    [32, 3]                   --\n",
       "├─Linear: 1-1                            [32, 50]                  250\n",
       "├─Linear: 1-2                            [32, 20]                  1,020\n",
       "├─Linear: 1-3                            [32, 3]                   63\n",
       "==========================================================================================\n",
       "Total params: 1,333\n",
       "Trainable params: 1,333\n",
       "Non-trainable params: 0\n",
       "Total mult-adds (M): 0.04\n",
       "==========================================================================================\n",
       "Input size (MB): 0.00\n",
       "Forward/backward pass size (MB): 0.02\n",
       "Params size (MB): 0.01\n",
       "Estimated Total Size (MB): 0.02\n",
       "=========================================================================================="
      ]
     },
     "execution_count": 12,
     "metadata": {},
     "output_type": "execute_result"
    }
   ],
   "source": [
    "from torchinfo import summary\n",
    "summary(model, input_size=(32, 4))"
   ]
  }
 ],
 "metadata": {
  "kernelspec": {
   "display_name": "base",
   "language": "python",
   "name": "python3"
  },
  "language_info": {
   "codemirror_mode": {
    "name": "ipython",
    "version": 3
   },
   "file_extension": ".py",
   "mimetype": "text/x-python",
   "name": "python",
   "nbconvert_exporter": "python",
   "pygments_lexer": "ipython3",
   "version": "3.9.13"
  },
  "orig_nbformat": 4
 },
 "nbformat": 4,
 "nbformat_minor": 2
}
