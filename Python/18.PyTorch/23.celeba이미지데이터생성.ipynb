{
 "cells": [
  {
   "cell_type": "code",
   "execution_count": 1,
   "metadata": {},
   "outputs": [
    {
     "name": "stdout",
     "output_type": "stream",
     "text": [
      "images done ..  1000\n",
      "images done ..  2000\n",
      "images done ..  3000\n",
      "images done ..  4000\n",
      "images done ..  5000\n",
      "images done ..  6000\n",
      "images done ..  7000\n",
      "images done ..  8000\n",
      "images done ..  9000\n",
      "images done ..  10000\n",
      "images done ..  11000\n",
      "images done ..  12000\n",
      "images done ..  13000\n",
      "images done ..  14000\n",
      "images done ..  15000\n",
      "images done ..  16000\n",
      "images done ..  17000\n",
      "images done ..  18000\n",
      "images done ..  19000\n",
      "images done ..  20000\n",
      "Wall time: 4min 4s\n"
     ]
    }
   ],
   "source": [
    "%%time\n",
    "#이미지 파일들을 h5py 파일로 압축하는 과정(오래걸림, 15~20분)\n",
    "import h5py\n",
    "import zipfile\n",
    "import imageio\n",
    "import os\n",
    "hdf5_file = 'd:/data/celeba/celeba_aligned_small.h5py'\n",
    "total_images = 20000\n",
    "with h5py.File(hdf5_file, 'w') as hf:\n",
    "    count = 0\n",
    "    with zipfile.ZipFile('d:/data/celeba/img_align_celeba.zip', 'r') as zf:\n",
    "        for i in zf.namelist():\n",
    "            if (i[-4:] == '.jpg'):\n",
    "                # extract image\n",
    "                ofile = zf.extract(i)\n",
    "                img = imageio.v2.imread(ofile)\n",
    "                os.remove(ofile)\n",
    "                # 이미지 데이터를 h5py 모델에 추가하는 과정\n",
    "                hf.create_dataset('d:/data/celeba/img_align_celeba/'+str(count)+'.jpg', data=img,\n",
    "                                    compression=\"gzip\", compression_opts=9)\n",
    "                count = count + 1\n",
    "                if count%1000 == 0:\n",
    "                    print(\"images done .. \", count)\n",
    "                if count == total_images:\n",
    "                    break"
   ]
  }
 ],
 "metadata": {
  "kernelspec": {
   "display_name": "base",
   "language": "python",
   "name": "python3"
  },
  "language_info": {
   "codemirror_mode": {
    "name": "ipython",
    "version": 3
   },
   "file_extension": ".py",
   "mimetype": "text/x-python",
   "name": "python",
   "nbconvert_exporter": "python",
   "pygments_lexer": "ipython3",
   "version": "3.9.13"
  },
  "orig_nbformat": 4
 },
 "nbformat": 4,
 "nbformat_minor": 2
}
