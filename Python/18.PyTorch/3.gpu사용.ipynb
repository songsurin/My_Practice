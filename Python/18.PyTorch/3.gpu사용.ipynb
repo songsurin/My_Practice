{
 "cells": [
  {
   "cell_type": "code",
   "execution_count": 1,
   "metadata": {},
   "outputs": [
    {
     "name": "stdout",
     "output_type": "stream",
     "text": [
      "True\n",
      "0\n",
      "1\n",
      "NVIDIA GeForce GTX 1050 Ti\n"
     ]
    }
   ],
   "source": [
    "import torch\n",
    "#gpu 사용 가능 여부\n",
    "print(torch.cuda.is_available())\n",
    "# True\n",
    "#gpu 장치의 인덱스\n",
    "print(torch.cuda.current_device())\n",
    "# 0\n",
    "# 사용가능한 gpu 장치수\n",
    "print(torch.cuda.device_count())\n",
    "# 1\n",
    "# gpu의 이름\n",
    "print(torch.cuda.get_device_name(0))"
   ]
  },
  {
   "cell_type": "code",
   "execution_count": 2,
   "metadata": {},
   "outputs": [
    {
     "name": "stdout",
     "output_type": "stream",
     "text": [
      "tensor([1, 2], device='cuda:0')\n",
      "tensor([1, 2], device='cuda:0')\n",
      "tensor([1, 2], device='cuda:0')\n"
     ]
    }
   ],
   "source": [
    "import torch\n",
    "# Default CUDA device\n",
    "cuda = torch.device('cuda')\n",
    "# 텐서 자료를 gpu에 저장\n",
    "a = torch.tensor([1, 2], device=cuda)\n",
    "b = torch.tensor([1, 2]).cuda()\n",
    "c = torch.tensor([1, 2]).to(device=cuda)\n",
    "print(a)\n",
    "print(b)\n",
    "print(c)"
   ]
  },
  {
   "cell_type": "code",
   "execution_count": 3,
   "metadata": {},
   "outputs": [],
   "source": [
    "#사용하지 않는 텐서 정리\n",
    "torch.cuda.empty_cache()"
   ]
  }
 ],
 "metadata": {
  "kernelspec": {
   "display_name": "base",
   "language": "python",
   "name": "python3"
  },
  "language_info": {
   "codemirror_mode": {
    "name": "ipython",
    "version": 3
   },
   "file_extension": ".py",
   "mimetype": "text/x-python",
   "name": "python",
   "nbconvert_exporter": "python",
   "pygments_lexer": "ipython3",
   "version": "3.9.13"
  },
  "orig_nbformat": 4
 },
 "nbformat": 4,
 "nbformat_minor": 2
}
