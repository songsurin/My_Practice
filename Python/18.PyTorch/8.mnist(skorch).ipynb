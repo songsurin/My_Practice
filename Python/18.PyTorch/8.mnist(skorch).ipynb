{
 "cells": [
  {
   "cell_type": "code",
   "execution_count": 1,
   "metadata": {},
   "outputs": [],
   "source": [
    "# skorch : pytorch를 쉽게 구현할 수 있는 라이브러리\n",
    "from keras.datasets import mnist\n",
    "(X_train, y_train), (X_test, y_test) = mnist.load_data()"
   ]
  },
  {
   "cell_type": "code",
   "execution_count": 2,
   "metadata": {},
   "outputs": [],
   "source": [
    "X_train= X_train.reshape(-1,784)\n",
    "X_test= X_test.reshape(-1,784)\n",
    "X_train=X_train/255.\n",
    "X_test=X_test/255."
   ]
  },
  {
   "cell_type": "code",
   "execution_count": 3,
   "metadata": {},
   "outputs": [
    {
     "name": "stdout",
     "output_type": "stream",
     "text": [
      "torch.Size([60000, 784])\n",
      "torch.Size([10000, 784])\n"
     ]
    }
   ],
   "source": [
    "import torch\n",
    "X_train=torch.from_numpy(X_train).float()\n",
    "y_train=torch.from_numpy(y_train.astype('int32')).long()\n",
    "X_test=torch.from_numpy(X_test).float()\n",
    "y_test=torch.from_numpy(y_test.astype('int32')).long()\n",
    "print(X_train.shape)\n",
    "print(X_test.shape)\n",
    "X_train=X_train.cuda()\n",
    "y_train=y_train.cuda()\n",
    "X_test=X_test.cuda()\n",
    "y_test=y_test.cuda()"
   ]
  },
  {
   "cell_type": "code",
   "execution_count": 4,
   "metadata": {},
   "outputs": [],
   "source": [
    "import torch.nn as nn\n",
    "import torch.nn.functional as F\n",
    "# 신경망 구성\n",
    "class Net(nn.Module):\n",
    "    def __init__(self):\n",
    "        super(Net, self).__init__()\n",
    "        self.fc1 = nn.Linear(784, 128)\n",
    "        self.fc2 = nn.Linear(128, 10)\n",
    "\n",
    "    def forward(self, x):\n",
    "        x = F.relu(self.fc1(x))\n",
    "        x = self.fc2(x)\n",
    "        return F.softmax(x, dim=-1)\n",
    "model=Net().cuda()"
   ]
  },
  {
   "cell_type": "code",
   "execution_count": 6,
   "metadata": {},
   "outputs": [
    {
     "name": "stdout",
     "output_type": "stream",
     "text": [
      "  epoch    train_loss    valid_acc    valid_loss     dur\n",
      "-------  ------------  -----------  ------------  ------\n",
      "      1        \u001b[36m0.6365\u001b[0m       \u001b[32m0.8993\u001b[0m        \u001b[35m0.3520\u001b[0m  1.3123\n",
      "      2        \u001b[36m0.3191\u001b[0m       \u001b[32m0.9154\u001b[0m        \u001b[35m0.2931\u001b[0m  1.2687\n",
      "      3        \u001b[36m0.2708\u001b[0m       \u001b[32m0.9258\u001b[0m        \u001b[35m0.2567\u001b[0m  1.4892\n",
      "      4        \u001b[36m0.2347\u001b[0m       \u001b[32m0.9333\u001b[0m        \u001b[35m0.2271\u001b[0m  1.6182\n",
      "      5        \u001b[36m0.2059\u001b[0m       \u001b[32m0.9411\u001b[0m        \u001b[35m0.2031\u001b[0m  1.6320\n",
      "      6        \u001b[36m0.1825\u001b[0m       \u001b[32m0.9466\u001b[0m        \u001b[35m0.1846\u001b[0m  2.0007\n",
      "      7        \u001b[36m0.1637\u001b[0m       \u001b[32m0.9520\u001b[0m        \u001b[35m0.1699\u001b[0m  1.7471\n",
      "      8        \u001b[36m0.1482\u001b[0m       \u001b[32m0.9556\u001b[0m        \u001b[35m0.1579\u001b[0m  1.7136\n",
      "      9        \u001b[36m0.1352\u001b[0m       \u001b[32m0.9583\u001b[0m        \u001b[35m0.1482\u001b[0m  2.6469\n",
      "     10        \u001b[36m0.1241\u001b[0m       \u001b[32m0.9604\u001b[0m        \u001b[35m0.1403\u001b[0m  2.0546\n",
      "     11        \u001b[36m0.1145\u001b[0m       \u001b[32m0.9620\u001b[0m        \u001b[35m0.1335\u001b[0m  1.7055\n",
      "     12        \u001b[36m0.1062\u001b[0m       \u001b[32m0.9638\u001b[0m        \u001b[35m0.1279\u001b[0m  1.6936\n",
      "     13        \u001b[36m0.0989\u001b[0m       \u001b[32m0.9653\u001b[0m        \u001b[35m0.1231\u001b[0m  1.7141\n",
      "     14        \u001b[36m0.0924\u001b[0m       \u001b[32m0.9664\u001b[0m        \u001b[35m0.1189\u001b[0m  1.6918\n",
      "     15        \u001b[36m0.0867\u001b[0m       \u001b[32m0.9668\u001b[0m        \u001b[35m0.1156\u001b[0m  1.6969\n",
      "     16        \u001b[36m0.0815\u001b[0m       \u001b[32m0.9678\u001b[0m        \u001b[35m0.1125\u001b[0m  1.7022\n",
      "     17        \u001b[36m0.0768\u001b[0m       \u001b[32m0.9686\u001b[0m        \u001b[35m0.1099\u001b[0m  1.7151\n",
      "     18        \u001b[36m0.0726\u001b[0m       \u001b[32m0.9689\u001b[0m        \u001b[35m0.1075\u001b[0m  1.9265\n",
      "     19        \u001b[36m0.0688\u001b[0m       \u001b[32m0.9693\u001b[0m        \u001b[35m0.1054\u001b[0m  1.8184\n",
      "     20        \u001b[36m0.0653\u001b[0m       \u001b[32m0.9699\u001b[0m        \u001b[35m0.1034\u001b[0m  1.7096\n"
     ]
    },
    {
     "data": {
      "text/plain": [
       "<class 'skorch.classifier.NeuralNetClassifier'>[initialized](\n",
       "  module_=Net(\n",
       "    (fc1): Linear(in_features=784, out_features=128, bias=True)\n",
       "    (fc2): Linear(in_features=128, out_features=10, bias=True)\n",
       "  ),\n",
       ")"
      ]
     },
     "execution_count": 6,
     "metadata": {},
     "output_type": "execute_result"
    }
   ],
   "source": [
    "from skorch import NeuralNetClassifier\n",
    "net = NeuralNetClassifier(Net,max_epochs=20,lr=0.1)\n",
    "net.fit(X_train, y_train)"
   ]
  },
  {
   "cell_type": "code",
   "execution_count": 7,
   "metadata": {},
   "outputs": [
    {
     "data": {
      "text/plain": [
       "0.9723"
      ]
     },
     "execution_count": 7,
     "metadata": {},
     "output_type": "execute_result"
    }
   ],
   "source": [
    "import numpy as np\n",
    "# 모형의 정확도 계산\n",
    "pred = net.predict(X_test)\n",
    "y_test = y_test.cpu().numpy()\n",
    "accuracy = np.mean(pred == y_test)\n",
    "accuracy"
   ]
  },
  {
   "cell_type": "code",
   "execution_count": 8,
   "metadata": {},
   "outputs": [
    {
     "data": {
      "text/plain": [
       "==========================================================================================\n",
       "Layer (type:depth-idx)                   Output Shape              Param #\n",
       "==========================================================================================\n",
       "Net                                      [100, 10]                 --\n",
       "├─Linear: 1-1                            [100, 128]                100,480\n",
       "├─Linear: 1-2                            [100, 10]                 1,290\n",
       "==========================================================================================\n",
       "Total params: 101,770\n",
       "Trainable params: 101,770\n",
       "Non-trainable params: 0\n",
       "Total mult-adds (M): 10.18\n",
       "==========================================================================================\n",
       "Input size (MB): 0.31\n",
       "Forward/backward pass size (MB): 0.11\n",
       "Params size (MB): 0.41\n",
       "Estimated Total Size (MB): 0.83\n",
       "=========================================================================================="
      ]
     },
     "execution_count": 8,
     "metadata": {},
     "output_type": "execute_result"
    }
   ],
   "source": [
    "from torchinfo import summary\n",
    "summary(model, input_size=(100,784))"
   ]
  }
 ],
 "metadata": {
  "kernelspec": {
   "display_name": "base",
   "language": "python",
   "name": "python3"
  },
  "language_info": {
   "codemirror_mode": {
    "name": "ipython",
    "version": 3
   },
   "file_extension": ".py",
   "mimetype": "text/x-python",
   "name": "python",
   "nbconvert_exporter": "python",
   "pygments_lexer": "ipython3",
   "version": "3.9.13"
  },
  "orig_nbformat": 4
 },
 "nbformat": 4,
 "nbformat_minor": 2
}
