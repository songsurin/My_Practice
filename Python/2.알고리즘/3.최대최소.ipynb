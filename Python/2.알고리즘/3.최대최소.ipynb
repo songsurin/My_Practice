{
 "cells": [
  {
   "cell_type": "code",
   "execution_count": 1,
   "metadata": {},
   "outputs": [
    {
     "name": "stdout",
     "output_type": "stream",
     "text": [
      "92\n"
     ]
    }
   ],
   "source": [
    "def find_max(a):\n",
    " n=len(a) # n 입력 크기\n",
    " max_v=a[0] # 리스트의 첫 번째 값을 최대값으로 기억\n",
    " for i in range(1, n): # 1부터  n-1까지 반복\n",
    "   if a[i] > max_v: # 이번 값이 현재까지 기억된 최대값보다 크면\n",
    "    max_v=a[i] # 최대값을 변경\n",
    "    return max_v\n",
    "\n",
    "v=[17, 92, 18, 33, 58, 7, 33, 42]\n",
    "print(find_max(v))\n",
    "# 비교를 (n-1)회 해야 함\n",
    "# 입력크기와 계산시간이 대체로 비례한다."
   ]
  },
  {
   "cell_type": "code",
   "execution_count": 2,
   "metadata": {},
   "outputs": [
    {
     "name": "stdout",
     "output_type": "stream",
     "text": [
      "1\n"
     ]
    }
   ],
   "source": [
    "def find_max_idx(a):\n",
    "  n=len(a) # n 입력 크기\n",
    "  max_idx=0 # 0 리스트 중 번 위치를 일단 최대값 위치로 기억\n",
    "  for i in range(1, n):\n",
    "    if a[i] > a[max_idx]: # 이번 값이 현재까지 기억된 최대값보다 크면\n",
    "       max_idx=i # 최대값의 위치를 변경\n",
    "  return max_idx\n",
    "\n",
    "v=[17, 92, 18, 33, 58, 7, 33, 42]\n",
    "print(find_max_idx(v))"
   ]
  },
  {
   "cell_type": "code",
   "execution_count": null,
   "metadata": {},
   "outputs": [],
   "source": [
    "# 최소값 구하기\n",
    "# : n 입력 숫자가 개 들어 있는 리스트\n",
    "# : n 출력 숫자 개 중 최소값\n",
    "def find_min(a):\n",
    " n = len(a) # n 입력 크기\n",
    " min_v = a[0] # 리스트 중 첫 번째 값을 일단 최소값으로 기억\n",
    " for i in range(1, n): # 1 n-1 부터 까지 반복\n",
    " if a[i] < min_v: # 이번 값이 현재까지 기억된 최소값보\n",
    "다 작으면\n",
    " min_v = a[i] # 최소값을 변경\n",
    " return min_v\n",
    "v = [17, 92, 18, 33, 58, 7, 33, 42]\n",
    "print(find_min(v))"
   ]
  }
 ],
 "metadata": {
  "kernelspec": {
   "display_name": "base",
   "language": "python",
   "name": "python3"
  },
  "language_info": {
   "codemirror_mode": {
    "name": "ipython",
    "version": 3
   },
   "file_extension": ".py",
   "mimetype": "text/x-python",
   "name": "python",
   "nbconvert_exporter": "python",
   "pygments_lexer": "ipython3",
   "version": "3.9.13"
  },
  "orig_nbformat": 4
 },
 "nbformat": 4,
 "nbformat_minor": 2
}
