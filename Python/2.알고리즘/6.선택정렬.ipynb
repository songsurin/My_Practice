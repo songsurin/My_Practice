{
 "cells": [
  {
   "cell_type": "code",
   "execution_count": 2,
   "metadata": {},
   "outputs": [
    {
     "name": "stdout",
     "output_type": "stream",
     "text": [
      "0 1 [2, 4, 5, 1, 3]\n",
      "0 2 [2, 4, 5, 1, 3]\n",
      "0 3 [2, 4, 5, 1, 3]\n",
      "0 4 [2, 4, 5, 1, 3]\n",
      "0 4 [1, 4, 5, 2, 3]\n",
      "1 2 [1, 4, 5, 2, 3]\n",
      "1 3 [1, 4, 5, 2, 3]\n",
      "1 4 [1, 4, 5, 2, 3]\n",
      "1 4 [1, 2, 5, 4, 3]\n",
      "2 3 [1, 2, 5, 4, 3]\n",
      "2 4 [1, 2, 5, 4, 3]\n",
      "2 4 [1, 2, 3, 4, 5]\n",
      "3 4 [1, 2, 3, 4, 5]\n",
      "3 4 [1, 2, 3, 4, 5]\n",
      "[1, 2, 3, 4, 5]\n"
     ]
    }
   ],
   "source": [
    "def sel_sort(a):\n",
    "    n=len(a)\n",
    "    for i in range(0, n-1):\n",
    "        min_idx=i\n",
    "        for j in range(i+1, n):\n",
    "            if a[j]<a[min_idx]:\n",
    "                min_idx=j\n",
    "            print(i, j, a)\n",
    "        a[i], a[min_idx]=a[min_idx], a[i]\n",
    "        print(i, j, a)\n",
    "    \n",
    "d=[2,4,5,1,3]\n",
    "sel_sort(d)\n",
    "print(d)"
   ]
  },
  {
   "cell_type": "code",
   "execution_count": 3,
   "metadata": {},
   "outputs": [
    {
     "name": "stdout",
     "output_type": "stream",
     "text": [
      "0 1 [2, 4, 5, 1, 3]\n",
      "0 2 [2, 4, 5, 1, 3]\n",
      "0 3 [2, 4, 5, 1, 3]\n",
      "0 4 [2, 4, 5, 1, 3]\n",
      "0 4 [5, 4, 2, 1, 3]\n",
      "1 2 [5, 4, 2, 1, 3]\n",
      "1 3 [5, 4, 2, 1, 3]\n",
      "1 4 [5, 4, 2, 1, 3]\n",
      "1 4 [5, 4, 2, 1, 3]\n",
      "2 3 [5, 4, 2, 1, 3]\n",
      "2 4 [5, 4, 2, 1, 3]\n",
      "2 4 [5, 4, 3, 1, 2]\n",
      "3 4 [5, 4, 3, 1, 2]\n",
      "3 4 [5, 4, 3, 2, 1]\n",
      "[5, 4, 3, 2, 1]\n"
     ]
    }
   ],
   "source": [
    "def sel_sort(a):\n",
    "    n=len(a)\n",
    "    for i in range(0, n-1):\n",
    "        max_idx=i\n",
    "        for j in range(i+1, n):\n",
    "            if a[j]>a[max_idx]:\n",
    "                max_idx=j\n",
    "            print(i, j, a)\n",
    "        a[i], a[max_idx]=a[max_idx], a[i]\n",
    "        print(i, j, a)\n",
    "    \n",
    "d=[2,4,5,1,3]\n",
    "sel_sort(d)\n",
    "print(d)"
   ]
  },
  {
   "cell_type": "code",
   "execution_count": null,
   "metadata": {},
   "outputs": [],
   "source": []
  }
 ],
 "metadata": {
  "kernelspec": {
   "display_name": "base",
   "language": "python",
   "name": "python3"
  },
  "language_info": {
   "codemirror_mode": {
    "name": "ipython",
    "version": 3
   },
   "file_extension": ".py",
   "mimetype": "text/x-python",
   "name": "python",
   "nbconvert_exporter": "python",
   "pygments_lexer": "ipython3",
   "version": "3.9.13"
  },
  "orig_nbformat": 4
 },
 "nbformat": 4,
 "nbformat_minor": 2
}
