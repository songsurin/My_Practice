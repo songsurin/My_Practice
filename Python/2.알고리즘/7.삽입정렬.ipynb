{
 "cells": [
  {
   "cell_type": "code",
   "execution_count": 1,
   "metadata": {},
   "outputs": [
    {
     "name": "stdout",
     "output_type": "stream",
     "text": [
      "[1, 5, 3, 2, 4]\n",
      "[1, 3, 5, 2, 4]\n",
      "[1, 2, 3, 5, 4]\n",
      "[1, 2, 3, 4, 5]\n",
      "[1, 2, 3, 4, 5]\n"
     ]
    }
   ],
   "source": [
    "def ins_sort(a):\n",
    "  n=len(a)\n",
    "  for i in range(1, n): # 1 부터 n-1 까지\n",
    "   # i번 위치의 값을 key로 저장\n",
    "   key=a[i]\n",
    "   # j를 i 바로 왼쪽 위치로 저장\n",
    "   j=i-1\n",
    "   # 리스트의 j번 위치에 있는 값과 key를 비교해 key가 삽입될 적절한 위치를 찾음\n",
    "   while j>=0 and a[j]>key:\n",
    "    a[j+1]=a[j] # 삽입할 공간이 생기도록 값을 오른쪽으로 한 칸 이동\n",
    "    j-=1\n",
    "   a[j+1]=key # 찾은 삽입 위치에 key를 저장\n",
    "   print(a)\n",
    "\n",
    "d=[5, 1, 3, 2, 4]\n",
    "ins_sort(d)\n",
    "print(d)"
   ]
  },
  {
   "cell_type": "code",
   "execution_count": null,
   "metadata": {},
   "outputs": [],
   "source": []
  }
 ],
 "metadata": {
  "kernelspec": {
   "display_name": "base",
   "language": "python",
   "name": "python3"
  },
  "language_info": {
   "codemirror_mode": {
    "name": "ipython",
    "version": 3
   },
   "file_extension": ".py",
   "mimetype": "text/x-python",
   "name": "python",
   "nbconvert_exporter": "python",
   "pygments_lexer": "ipython3",
   "version": "3.9.13"
  },
  "orig_nbformat": 4
 },
 "nbformat": 4,
 "nbformat_minor": 2
}
