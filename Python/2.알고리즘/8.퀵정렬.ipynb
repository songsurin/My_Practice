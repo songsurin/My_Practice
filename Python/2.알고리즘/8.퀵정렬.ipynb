{
 "cells": [
  {
   "cell_type": "code",
   "execution_count": 3,
   "metadata": {},
   "outputs": [
    {
     "data": {
      "text/plain": [
       "[-15, -10, 0, 1, 2, 3, 9, 11, 16]"
      ]
     },
     "execution_count": 3,
     "metadata": {},
     "output_type": "execute_result"
    }
   ],
   "source": [
    "def quicksort(array):\n",
    " # 배열의 사이즈가 0또는 1인 경우는 그대로 리턴함\n",
    " if len(array)<2:\n",
    "   return array\n",
    " else: # 배열의 사이즈가 2보다 큰 경우\n",
    "   pivot=array[0] # 배열의 기준원소를 0번으로 선택\n",
    "   # 기준원소보다 작은 값들\n",
    "   less=[i for i in array[1:] if i <= pivot]\n",
    "   # 기준원소보다 큰 값들\n",
    "   greater=[i for i in array[1:] if i > pivot]\n",
    "   return quicksort(less)+[pivot]+quicksort(greater)\n",
    "\n",
    "quicksort([-10, -15, 2, 3, 0, 9, 11, 16, 1])"
   ]
  },
  {
   "cell_type": "code",
   "execution_count": null,
   "metadata": {},
   "outputs": [],
   "source": []
  }
 ],
 "metadata": {
  "kernelspec": {
   "display_name": "base",
   "language": "python",
   "name": "python3"
  },
  "language_info": {
   "codemirror_mode": {
    "name": "ipython",
    "version": 3
   },
   "file_extension": ".py",
   "mimetype": "text/x-python",
   "name": "python",
   "nbconvert_exporter": "python",
   "pygments_lexer": "ipython3",
   "version": "3.9.13"
  },
  "orig_nbformat": 4
 },
 "nbformat": 4,
 "nbformat_minor": 2
}
