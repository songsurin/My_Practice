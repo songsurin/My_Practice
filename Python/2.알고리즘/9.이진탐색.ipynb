{
 "cells": [
  {
   "cell_type": "code",
   "execution_count": 1,
   "metadata": {},
   "outputs": [
    {
     "name": "stdout",
     "output_type": "stream",
     "text": [
      "(5, 36, 2)\n",
      "-1\n"
     ]
    }
   ],
   "source": [
    "def binary_search(a, x):\n",
    "    start=0\n",
    "    end=len(a)-1\n",
    "    cnt=0\n",
    "    while start<=end:\n",
    "        mid=(start+end)//2\n",
    "        if x==a[mid]:\n",
    "            return mid, a[mid], cnt # 인덱스, 찾은 값, 검사 횟수\n",
    "        elif x>a[mid]: # 찾는 값이 더 크면 오른쪽으로 범위 좁혀서 계속 탐색\n",
    "            start=mid+1\n",
    "        else: # 찾는 값이 더 작으면 오른쪽으로 범위 좁혀서 계속 탐색\n",
    "            end=mid-1\n",
    "        cnt+=1\n",
    "    return -1 # 찾지 못했을 떄\n",
    "\n",
    "d=[1, 4, 9, 16, 25, 36, 49, 64, 81]\n",
    "print(binary_search(d, 36))\n",
    "print(binary_search(d, 50))"
   ]
  },
  {
   "cell_type": "code",
   "execution_count": null,
   "metadata": {},
   "outputs": [],
   "source": []
  }
 ],
 "metadata": {
  "kernelspec": {
   "display_name": "base",
   "language": "python",
   "name": "python3"
  },
  "language_info": {
   "codemirror_mode": {
    "name": "ipython",
    "version": 3
   },
   "file_extension": ".py",
   "mimetype": "text/x-python",
   "name": "python",
   "nbconvert_exporter": "python",
   "pygments_lexer": "ipython3",
   "version": "3.9.13"
  },
  "orig_nbformat": 4
 },
 "nbformat": 4,
 "nbformat_minor": 2
}
