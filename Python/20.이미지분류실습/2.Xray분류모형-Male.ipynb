{
 "cells": [
  {
   "cell_type": "code",
   "execution_count": 1,
   "metadata": {},
   "outputs": [
    {
     "name": "stdout",
     "output_type": "stream",
     "text": [
      "[]\n"
     ]
    }
   ],
   "source": [
    "import tensorflow as tf\n",
    "gpus = tf.config.experimental.list_physical_devices('GPU')\n",
    "print(gpus)\n",
    "if gpus:\n",
    "    try:\n",
    "        for gpu in gpus:\n",
    "            tf.config.experimental.set_memory_growth(gpu, True)\n",
    "    except RuntimeError as e:\n",
    "        print(e)"
   ]
  },
  {
   "cell_type": "code",
   "execution_count": 2,
   "metadata": {},
   "outputs": [],
   "source": [
    "import glob\n",
    "from PIL import Image\n",
    "import numpy as np\n",
    "import glob\n",
    "all_images=[]\n",
    "all_labels=[]\n",
    "filenames=[]\n",
    "ages=[]\n",
    "img_size=(80,100)\n",
    "for f in glob.glob('d:\\\\data\\\\xray\\\\**\\\\*.jpg', recursive=True):\n",
    "    #               0    1      2    3  4\n",
    "    arr=f.split('\\\\')\n",
    "    arr2=arr[3].split(\"_\")\n",
    "    if arr2[1]=='M':\n",
    "        img = Image.open(f)\n",
    "        filenames.append(arr[-1])\n",
    "        img_resize = img.resize((img_size[0], img_size[1]))\n",
    "        all_images.append(img_resize)\n",
    "        age=int(arr2[2].replace('yr',''))\n",
    "        ages.append(age)"
   ]
  },
  {
   "cell_type": "code",
   "execution_count": 3,
   "metadata": {},
   "outputs": [
    {
     "data": {
      "text/plain": [
       "['332_M.jpg',\n",
       " '333_M.jpg',\n",
       " '334_M.jpg',\n",
       " '335_M.jpg',\n",
       " '336_M.jpg',\n",
       " '337_M.jpg',\n",
       " '338_M.jpg',\n",
       " '339_M.jpg',\n",
       " '340_M.jpg',\n",
       " '341_M.jpg']"
      ]
     },
     "execution_count": 3,
     "metadata": {},
     "output_type": "execute_result"
    }
   ],
   "source": [
    "filenames[:10]"
   ]
  },
  {
   "cell_type": "code",
   "execution_count": 4,
   "metadata": {},
   "outputs": [
    {
     "data": {
      "text/plain": [
       "[('332_M.jpg', 10, <PIL.Image.Image image mode=RGB size=80x100>),\n",
       " ('333_M.jpg', 10, <PIL.Image.Image image mode=RGB size=80x100>),\n",
       " ('334_M.jpg', 10, <PIL.Image.Image image mode=RGB size=80x100>),\n",
       " ('335_M.jpg', 10, <PIL.Image.Image image mode=RGB size=80x100>),\n",
       " ('336_M.jpg', 10, <PIL.Image.Image image mode=RGB size=80x100>),\n",
       " ('337_M.jpg', 10, <PIL.Image.Image image mode=RGB size=80x100>),\n",
       " ('338_M.jpg', 10, <PIL.Image.Image image mode=RGB size=80x100>),\n",
       " ('339_M.jpg', 10, <PIL.Image.Image image mode=RGB size=80x100>),\n",
       " ('340_M.jpg', 10, <PIL.Image.Image image mode=RGB size=80x100>),\n",
       " ('341_M.jpg', 10, <PIL.Image.Image image mode=RGB size=80x100>)]"
      ]
     },
     "execution_count": 4,
     "metadata": {},
     "output_type": "execute_result"
    }
   ],
   "source": [
    "items=list(zip(filenames,ages,all_images))\n",
    "items[:10]"
   ]
  },
  {
   "cell_type": "code",
   "execution_count": 5,
   "metadata": {},
   "outputs": [
    {
     "data": {
      "text/plain": [
       "665"
      ]
     },
     "execution_count": 5,
     "metadata": {},
     "output_type": "execute_result"
    }
   ],
   "source": [
    "len(all_images)"
   ]
  },
  {
   "cell_type": "code",
   "execution_count": 6,
   "metadata": {},
   "outputs": [
    {
     "data": {
      "text/plain": [
       "(100, 80, 3)"
      ]
     },
     "execution_count": 6,
     "metadata": {},
     "output_type": "execute_result"
    }
   ],
   "source": [
    "np.array(all_images[0]).shape"
   ]
  },
  {
   "cell_type": "code",
   "execution_count": 7,
   "metadata": {},
   "outputs": [
    {
     "data": {
      "text/plain": [
       "(666, 80, 100, 3)"
      ]
     },
     "execution_count": 7,
     "metadata": {},
     "output_type": "execute_result"
    }
   ],
   "source": [
    "X = np.empty((1, img_size[0], img_size[1], 3))\n",
    "for img in all_images:\n",
    "    X = np.vstack((X, np.array(img).reshape(1, img_size[0], img_size[1], 3)))\n",
    "\n",
    "X.shape"
   ]
  },
  {
   "cell_type": "code",
   "execution_count": 8,
   "metadata": {},
   "outputs": [],
   "source": [
    "X = np.delete(X, (0), axis=0)"
   ]
  },
  {
   "cell_type": "code",
   "execution_count": 9,
   "metadata": {},
   "outputs": [
    {
     "data": {
      "text/plain": [
       "(665, 80, 100, 3)"
      ]
     },
     "execution_count": 9,
     "metadata": {},
     "output_type": "execute_result"
    }
   ],
   "source": [
    "X.shape"
   ]
  },
  {
   "cell_type": "code",
   "execution_count": 10,
   "metadata": {},
   "outputs": [
    {
     "data": {
      "text/plain": [
       "array([10, 10, 10, 10, 10, 10, 10, 10, 10, 10])"
      ]
     },
     "execution_count": 10,
     "metadata": {},
     "output_type": "execute_result"
    }
   ],
   "source": [
    "y = np.array(ages)\n",
    "y[:10]"
   ]
  },
  {
   "cell_type": "code",
   "execution_count": 11,
   "metadata": {},
   "outputs": [
    {
     "data": {
      "image/png": "[encoded data removed]",
      "text/plain": [
       "<Figure size 640x480 with 1 Axes>"
      ]
     },
     "metadata": {},
     "output_type": "display_data"
    }
   ],
   "source": [
    "import matplotlib.pyplot as plt\n",
    "plt.imshow(all_images[0])\n",
    "plt.show()"
   ]
  },
  {
   "cell_type": "code",
   "execution_count": 12,
   "metadata": {},
   "outputs": [
    {
     "data": {
      "text/plain": [
       "((532, 80, 100, 3), (133, 80, 100, 3), (532,), (133,))"
      ]
     },
     "execution_count": 12,
     "metadata": {},
     "output_type": "execute_result"
    }
   ],
   "source": [
    "from sklearn.model_selection import train_test_split\n",
    "X_train, X_test, y_train, y_test = train_test_split(X, y,test_size=0.2,\n",
    "                                                    stratify=y, shuffle=True,\n",
    "                                                    random_state=10)\n",
    "X_train.shape, X_test.shape, y_train.shape, y_test.shape"
   ]
  },
  {
   "cell_type": "code",
   "execution_count": 13,
   "metadata": {},
   "outputs": [
    {
     "data": {
      "text/plain": [
       "4     40\n",
       "5     40\n",
       "6     40\n",
       "7     40\n",
       "8     40\n",
       "9     40\n",
       "10    40\n",
       "11    40\n",
       "12    40\n",
       "13    40\n",
       "14    40\n",
       "15    36\n",
       "3     25\n",
       "16    24\n",
       "17     7\n",
       "dtype: int64"
      ]
     },
     "execution_count": 13,
     "metadata": {},
     "output_type": "execute_result"
    }
   ],
   "source": [
    "import pandas as pd\n",
    "pd.DataFrame(y_train).value_counts()"
   ]
  },
  {
   "cell_type": "code",
   "execution_count": 14,
   "metadata": {},
   "outputs": [],
   "source": [
    "X_train=X_train.reshape(-1,img_size[0]*img_size[1]*3)\n",
    "X_test=X_test.reshape(-1,img_size[0]*img_size[1]*3)"
   ]
  },
  {
   "cell_type": "code",
   "execution_count": 15,
   "metadata": {},
   "outputs": [],
   "source": [
    "X_train=X_train/255.\n",
    "X_test=X_test/255."
   ]
  },
  {
   "cell_type": "code",
   "execution_count": 16,
   "metadata": {},
   "outputs": [],
   "source": [
    "X_train=X_train.reshape(-1,img_size[0],img_size[1],3)\n",
    "X_test=X_test.reshape(-1,img_size[0],img_size[1],3)"
   ]
  },
  {
   "cell_type": "code",
   "execution_count": 17,
   "metadata": {},
   "outputs": [],
   "source": [
    "from tensorflow.keras import utils\n",
    "y_train_backup=y_train\n",
    "y_test_backup=y_test"
   ]
  },
  {
   "cell_type": "code",
   "execution_count": 18,
   "metadata": {},
   "outputs": [
    {
     "name": "stdout",
     "output_type": "stream",
     "text": [
      "Model: \"sequential\"\n",
      "_________________________________________________________________\n",
      " Layer (type)                Output Shape              Param #   \n",
      "=================================================================\n",
      " conv2d (Conv2D)             (None, 80, 100, 64)       1792      \n",
      "                                                                 \n",
      " max_pooling2d (MaxPooling2D  (None, 40, 50, 64)       0         \n",
      " )                                                               \n",
      "                                                                 \n",
      " conv2d_1 (Conv2D)           (None, 38, 48, 64)        36928     \n",
      "                                                                 \n",
      " max_pooling2d_1 (MaxPooling  (None, 19, 24, 64)       0         \n",
      " 2D)                                                             \n",
      "                                                                 \n",
      " conv2d_2 (Conv2D)           (None, 17, 22, 64)        36928     \n",
      "                                                                 \n",
      " flatten (Flatten)           (None, 23936)             0         \n",
      "                                                                 \n",
      " dense (Dense)               (None, 64)                1531968   \n",
      "                                                                 \n",
      " dense_1 (Dense)             (None, 1)                 65        \n",
      "                                                                 \n",
      "=================================================================\n",
      "Total params: 1,607,681\n",
      "Trainable params: 1,607,681\n",
      "Non-trainable params: 0\n",
      "_________________________________________________________________\n"
     ]
    }
   ],
   "source": [
    "from keras.models import Sequential\n",
    "from keras.layers import Conv2D, MaxPooling2D, Dense, Flatten\n",
    "model=Sequential()\n",
    "model.add(Conv2D(64,(3,3),padding=\"same\", \n",
    "        #       out  filter\n",
    "                 input_shape=X_train.shape[1:],\n",
    "                 activation='relu'))\n",
    "model.add(MaxPooling2D(2,2))\n",
    "model.add(Conv2D(64,(3,3),activation=\"relu\"))\n",
    "model.add(MaxPooling2D(2,2))\n",
    "model.add(Conv2D(64,(3,3),activation=\"relu\"))\n",
    "model.add(Flatten()) # 1차원으로\n",
    "model.add(Dense(64,activation=\"relu\"))\n",
    "model.add(Dense(1)) #회귀분석\n",
    "model.compile(optimizer=\"rmsprop\",\n",
    "              loss=\"mae\",metrics=[\"mae\"])\n",
    "model.summary()"
   ]
  },
  {
   "cell_type": "code",
   "execution_count": 19,
   "metadata": {},
   "outputs": [
    {
     "data": {
      "text/plain": [
       "((532, 80, 100, 3), (532,), (133, 80, 100, 3), (133,))"
      ]
     },
     "execution_count": 19,
     "metadata": {},
     "output_type": "execute_result"
    }
   ],
   "source": [
    "X_train.shape, y_train.shape, X_test.shape, y_test.shape"
   ]
  },
  {
   "cell_type": "code",
   "execution_count": 26,
   "metadata": {},
   "outputs": [
    {
     "name": "stdout",
     "output_type": "stream",
     "text": [
      "Epoch 1/30\n",
      "14/14 [==============================] - ETA: 0s - loss: 2.0508 - mae: 2.0508\n",
      "Epoch 1: val_mae improved from inf to 1.52436, saving model to d:/data/model\\xray_m_best.h5\n",
      "14/14 [==============================] - 5s 304ms/step - loss: 2.0508 - mae: 2.0508 - val_loss: 1.5244 - val_mae: 1.5244\n",
      "Epoch 2/30\n",
      "14/14 [==============================] - ETA: 0s - loss: 1.7506 - mae: 1.7506\n",
      "Epoch 2: val_mae did not improve from 1.52436\n",
      "14/14 [==============================] - 4s 305ms/step - loss: 1.7506 - mae: 1.7506 - val_loss: 2.9421 - val_mae: 2.9421\n",
      "Epoch 3/30\n",
      "14/14 [==============================] - ETA: 0s - loss: 1.9988 - mae: 1.9988\n",
      "Epoch 3: val_mae did not improve from 1.52436\n",
      "14/14 [==============================] - 4s 290ms/step - loss: 1.9988 - mae: 1.9988 - val_loss: 2.8132 - val_mae: 2.8132\n",
      "Epoch 4/30\n",
      "14/14 [==============================] - ETA: 0s - loss: 1.7883 - mae: 1.7883\n",
      "Epoch 4: val_mae did not improve from 1.52436\n",
      "14/14 [==============================] - 4s 291ms/step - loss: 1.7883 - mae: 1.7883 - val_loss: 1.9746 - val_mae: 1.9746\n",
      "Epoch 5/30\n",
      "14/14 [==============================] - ETA: 0s - loss: 1.8347 - mae: 1.8347\n",
      "Epoch 5: val_mae did not improve from 1.52436\n",
      "14/14 [==============================] - 4s 294ms/step - loss: 1.8347 - mae: 1.8347 - val_loss: 3.4386 - val_mae: 3.4386\n",
      "Epoch 6/30\n",
      "14/14 [==============================] - ETA: 0s - loss: 1.9818 - mae: 1.9818\n",
      "Epoch 6: val_mae improved from 1.52436 to 1.50858, saving model to d:/data/model\\xray_m_best.h5\n",
      "14/14 [==============================] - 4s 298ms/step - loss: 1.9818 - mae: 1.9818 - val_loss: 1.5086 - val_mae: 1.5086\n",
      "Epoch 7/30\n",
      "14/14 [==============================] - ETA: 0s - loss: 1.6963 - mae: 1.6963\n",
      "Epoch 7: val_mae did not improve from 1.50858\n",
      "14/14 [==============================] - 4s 291ms/step - loss: 1.6963 - mae: 1.6963 - val_loss: 1.5482 - val_mae: 1.5482\n",
      "Epoch 8/30\n",
      "14/14 [==============================] - ETA: 0s - loss: 1.5520 - mae: 1.5520\n",
      "Epoch 8: val_mae did not improve from 1.50858\n",
      "14/14 [==============================] - 4s 295ms/step - loss: 1.5520 - mae: 1.5520 - val_loss: 2.0390 - val_mae: 2.0390\n",
      "Epoch 9/30\n",
      "14/14 [==============================] - ETA: 0s - loss: 1.6845 - mae: 1.6845\n",
      "Epoch 9: val_mae improved from 1.50858 to 1.37586, saving model to d:/data/model\\xray_m_best.h5\n",
      "14/14 [==============================] - 4s 294ms/step - loss: 1.6845 - mae: 1.6845 - val_loss: 1.3759 - val_mae: 1.3759\n",
      "Epoch 10/30\n",
      "14/14 [==============================] - ETA: 0s - loss: 1.6887 - mae: 1.6887\n",
      "Epoch 10: val_mae did not improve from 1.37586\n",
      "14/14 [==============================] - 4s 288ms/step - loss: 1.6887 - mae: 1.6887 - val_loss: 2.0127 - val_mae: 2.0127\n",
      "Epoch 11/30\n",
      "14/14 [==============================] - ETA: 0s - loss: 1.4975 - mae: 1.4975\n",
      "Epoch 11: val_mae did not improve from 1.37586\n",
      "14/14 [==============================] - 4s 288ms/step - loss: 1.4975 - mae: 1.4975 - val_loss: 2.0378 - val_mae: 2.0378\n",
      "Epoch 12/30\n",
      "14/14 [==============================] - ETA: 0s - loss: 1.6010 - mae: 1.6010\n",
      "Epoch 12: val_mae did not improve from 1.37586\n",
      "14/14 [==============================] - 4s 292ms/step - loss: 1.6010 - mae: 1.6010 - val_loss: 1.8269 - val_mae: 1.8269\n",
      "Epoch 13/30\n",
      "14/14 [==============================] - ETA: 0s - loss: 1.5498 - mae: 1.5498\n",
      "Epoch 13: val_mae did not improve from 1.37586\n",
      "14/14 [==============================] - 4s 289ms/step - loss: 1.5498 - mae: 1.5498 - val_loss: 2.1366 - val_mae: 2.1366\n",
      "Epoch 14/30\n",
      "14/14 [==============================] - ETA: 0s - loss: 1.4639 - mae: 1.4639\n",
      "Epoch 14: val_mae did not improve from 1.37586\n",
      "14/14 [==============================] - 4s 288ms/step - loss: 1.4639 - mae: 1.4639 - val_loss: 2.2405 - val_mae: 2.2405\n",
      "Epoch 15/30\n",
      "14/14 [==============================] - ETA: 0s - loss: 1.5512 - mae: 1.5512\n",
      "Epoch 15: val_mae did not improve from 1.37586\n",
      "14/14 [==============================] - 4s 293ms/step - loss: 1.5512 - mae: 1.5512 - val_loss: 1.9289 - val_mae: 1.9289\n",
      "Epoch 16/30\n",
      "14/14 [==============================] - ETA: 0s - loss: 1.4432 - mae: 1.4432\n",
      "Epoch 16: val_mae did not improve from 1.37586\n",
      "14/14 [==============================] - 4s 290ms/step - loss: 1.4432 - mae: 1.4432 - val_loss: 1.5326 - val_mae: 1.5326\n",
      "Epoch 17/30\n",
      "14/14 [==============================] - ETA: 0s - loss: 1.3788 - mae: 1.3788\n",
      "Epoch 17: val_mae did not improve from 1.37586\n",
      "14/14 [==============================] - 4s 288ms/step - loss: 1.3788 - mae: 1.3788 - val_loss: 2.0177 - val_mae: 2.0177\n",
      "Epoch 18/30\n",
      "14/14 [==============================] - ETA: 0s - loss: 1.3375 - mae: 1.3375\n",
      "Epoch 18: val_mae did not improve from 1.37586\n",
      "14/14 [==============================] - 4s 293ms/step - loss: 1.3375 - mae: 1.3375 - val_loss: 3.6745 - val_mae: 3.6745\n",
      "Epoch 19/30\n",
      "14/14 [==============================] - ETA: 0s - loss: 1.4666 - mae: 1.4666\n",
      "Epoch 19: val_mae did not improve from 1.37586\n",
      "14/14 [==============================] - 4s 291ms/step - loss: 1.4666 - mae: 1.4666 - val_loss: 1.6399 - val_mae: 1.6399\n",
      "Epoch 20/30\n",
      "14/14 [==============================] - ETA: 0s - loss: 1.4083 - mae: 1.4083\n",
      "Epoch 20: val_mae did not improve from 1.37586\n",
      "14/14 [==============================] - 4s 294ms/step - loss: 1.4083 - mae: 1.4083 - val_loss: 1.8237 - val_mae: 1.8237\n",
      "Epoch 21/30\n",
      "14/14 [==============================] - ETA: 0s - loss: 1.2787 - mae: 1.2787\n",
      "Epoch 21: val_mae did not improve from 1.37586\n",
      "14/14 [==============================] - 4s 293ms/step - loss: 1.2787 - mae: 1.2787 - val_loss: 2.5759 - val_mae: 2.5759\n",
      "Epoch 22/30\n",
      "14/14 [==============================] - ETA: 0s - loss: 1.3028 - mae: 1.3028\n",
      "Epoch 22: val_mae did not improve from 1.37586\n",
      "14/14 [==============================] - 4s 289ms/step - loss: 1.3028 - mae: 1.3028 - val_loss: 2.3315 - val_mae: 2.3315\n",
      "Epoch 23/30\n",
      "14/14 [==============================] - ETA: 0s - loss: 1.2859 - mae: 1.2859\n",
      "Epoch 23: val_mae did not improve from 1.37586\n",
      "14/14 [==============================] - 4s 311ms/step - loss: 1.2859 - mae: 1.2859 - val_loss: 2.3282 - val_mae: 2.3282\n",
      "Epoch 24/30\n",
      "14/14 [==============================] - ETA: 0s - loss: 1.3641 - mae: 1.3641\n",
      "Epoch 24: val_mae did not improve from 1.37586\n",
      "14/14 [==============================] - 5s 320ms/step - loss: 1.3641 - mae: 1.3641 - val_loss: 2.2788 - val_mae: 2.2788\n",
      "Epoch 25/30\n",
      "14/14 [==============================] - ETA: 0s - loss: 1.2672 - mae: 1.2672\n",
      "Epoch 25: val_mae did not improve from 1.37586\n",
      "14/14 [==============================] - 5s 324ms/step - loss: 1.2672 - mae: 1.2672 - val_loss: 1.7463 - val_mae: 1.7463\n",
      "Epoch 26/30\n",
      "14/14 [==============================] - ETA: 0s - loss: 1.2934 - mae: 1.2934\n",
      "Epoch 26: val_mae did not improve from 1.37586\n",
      "14/14 [==============================] - 4s 315ms/step - loss: 1.2934 - mae: 1.2934 - val_loss: 1.5974 - val_mae: 1.5974\n",
      "Epoch 27/30\n",
      "14/14 [==============================] - ETA: 0s - loss: 1.2531 - mae: 1.2531\n",
      "Epoch 27: val_mae did not improve from 1.37586\n",
      "14/14 [==============================] - 4s 295ms/step - loss: 1.2531 - mae: 1.2531 - val_loss: 1.4214 - val_mae: 1.4214\n",
      "Epoch 28/30\n",
      "14/14 [==============================] - ETA: 0s - loss: 1.1279 - mae: 1.1279\n",
      "Epoch 28: val_mae did not improve from 1.37586\n",
      "14/14 [==============================] - 4s 296ms/step - loss: 1.1279 - mae: 1.1279 - val_loss: 1.6951 - val_mae: 1.6951\n",
      "Epoch 29/30\n",
      "14/14 [==============================] - ETA: 0s - loss: 1.2587 - mae: 1.2587\n",
      "Epoch 29: val_mae did not improve from 1.37586\n",
      "14/14 [==============================] - 4s 293ms/step - loss: 1.2587 - mae: 1.2587 - val_loss: 1.5410 - val_mae: 1.5410\n",
      "Epoch 30/30\n",
      "14/14 [==============================] - ETA: 0s - loss: 1.1433 - mae: 1.1433\n",
      "Epoch 30: val_mae did not improve from 1.37586\n",
      "14/14 [==============================] - 4s 291ms/step - loss: 1.1433 - mae: 1.1433 - val_loss: 1.4751 - val_mae: 1.4751\n"
     ]
    }
   ],
   "source": [
    "from keras.callbacks import ModelCheckpoint\n",
    "checkpoint = ModelCheckpoint(\"d:/data/model/xray_m_best.h5\", \n",
    "                             monitor='val_mae', verbose=1,\n",
    "                             save_best_only=True, mode='min')\n",
    "hist = model.fit(X_train, y_train, batch_size=32,\n",
    "                 validation_split=0.2, epochs=30, \n",
    "                 callbacks=[checkpoint])"
   ]
  },
  {
   "cell_type": "code",
   "execution_count": 27,
   "metadata": {},
   "outputs": [
    {
     "data": {
      "image/png": "[encoded data removed]",
      "text/plain": [
       "<Figure size 1200x800 with 1 Axes>"
      ]
     },
     "metadata": {},
     "output_type": "display_data"
    }
   ],
   "source": [
    "plt.figure(figsize=(12,8))\n",
    "plt.plot(hist.history['loss'])\n",
    "plt.plot(hist.history['val_loss'])\n",
    "plt.legend(['loss','val_loss'])\n",
    "plt.grid()\n",
    "plt.show()"
   ]
  },
  {
   "cell_type": "code",
   "execution_count": 28,
   "metadata": {},
   "outputs": [
    {
     "name": "stdout",
     "output_type": "stream",
     "text": [
      "17/17 [==============================] - 1s 61ms/step - loss: 1.1546 - mae: 1.1546\n",
      "[1.1545501947402954, 1.1545501947402954]\n"
     ]
    }
   ],
   "source": [
    "from tensorflow.keras.models import load_model\n",
    "model = load_model('d:/data/model/xray_m_best.h5')\n",
    "scores = model.evaluate(X_train, y_train, verbose=1)\n",
    "print(scores)"
   ]
  },
  {
   "cell_type": "code",
   "execution_count": 29,
   "metadata": {},
   "outputs": [
    {
     "name": "stdout",
     "output_type": "stream",
     "text": [
      "5/5 [==============================] - 0s 44ms/step - loss: 1.7576 - mae: 1.7576\n",
      "[1.7576138973236084, 1.7576138973236084]\n"
     ]
    }
   ],
   "source": [
    "model = load_model('d:/data/model/xray_m_best.h5')\n",
    "scores = model.evaluate(X_test, y_test, verbose=1)\n",
    "print(scores)"
   ]
  },
  {
   "cell_type": "code",
   "execution_count": 30,
   "metadata": {},
   "outputs": [
    {
     "name": "stdout",
     "output_type": "stream",
     "text": [
      "5/5 [==============================] - 0s 50ms/step\n"
     ]
    },
    {
     "data": {
      "text/plain": [
       "array([[ 9.796779 ],\n",
       "       [ 6.6175475],\n",
       "       [11.843107 ],\n",
       "       [12.331361 ],\n",
       "       [ 3.1372592]], dtype=float32)"
      ]
     },
     "execution_count": 30,
     "metadata": {},
     "output_type": "execute_result"
    }
   ],
   "source": [
    "pred = model.predict(X_test)\n",
    "pred[:5]"
   ]
  },
  {
   "cell_type": "code",
   "execution_count": 31,
   "metadata": {},
   "outputs": [
    {
     "data": {
      "text/plain": [
       "array([10,  9, 13, 11,  5])"
      ]
     },
     "execution_count": 31,
     "metadata": {},
     "output_type": "execute_result"
    }
   ],
   "source": [
    "y_test[:5]"
   ]
  }
 ],
 "metadata": {
  "kernelspec": {
   "display_name": "base",
   "language": "python",
   "name": "python3"
  },
  "language_info": {
   "codemirror_mode": {
    "name": "ipython",
    "version": 3
   },
   "file_extension": ".py",
   "mimetype": "text/x-python",
   "name": "python",
   "nbconvert_exporter": "python",
   "pygments_lexer": "ipython3",
   "version": "3.9.13"
  },
  "orig_nbformat": 4
 },
 "nbformat": 4,
 "nbformat_minor": 2
}
