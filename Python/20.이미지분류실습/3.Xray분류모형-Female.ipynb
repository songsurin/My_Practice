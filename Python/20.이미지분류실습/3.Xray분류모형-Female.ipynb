{
 "cells": [
  {
   "cell_type": "code",
   "execution_count": 1,
   "metadata": {},
   "outputs": [
    {
     "name": "stdout",
     "output_type": "stream",
     "text": [
      "[]\n"
     ]
    }
   ],
   "source": [
    "import tensorflow as tf\n",
    "gpus = tf.config.experimental.list_physical_devices('GPU')\n",
    "print(gpus)\n",
    "if gpus:\n",
    "    try:\n",
    "        for gpu in gpus:\n",
    "            tf.config.experimental.set_memory_growth(gpu, True)\n",
    "    except RuntimeError as e:\n",
    "        print(e)"
   ]
  },
  {
   "cell_type": "code",
   "execution_count": 2,
   "metadata": {},
   "outputs": [],
   "source": [
    "import glob\n",
    "from PIL import Image\n",
    "import numpy as np\n",
    "import glob\n",
    "all_images=[]\n",
    "all_labels=[]\n",
    "filenames=[]\n",
    "ages=[]\n",
    "img_size=(80,100)\n",
    "for f in glob.glob('d:\\\\data\\\\xray\\\\**\\\\*.jpg', recursive=True):\n",
    "    #               0    1      2    3  4\n",
    "    arr=f.split('\\\\')\n",
    "    arr2=arr[3].split(\"_\")\n",
    "    if arr2[1]=='F':\n",
    "        img = Image.open(f)\n",
    "        filenames.append(arr[-1])\n",
    "        img_resize = img.resize((img_size[0], img_size[1]))\n",
    "        all_images.append(img_resize)\n",
    "        age=int(arr2[2].replace('yr',''))\n",
    "        ages.append(age)"
   ]
  },
  {
   "cell_type": "code",
   "execution_count": 3,
   "metadata": {},
   "outputs": [
    {
     "data": {
      "text/plain": [
       "['310_F.jpg',\n",
       " '311_F.jpg',\n",
       " '312_F.jpg',\n",
       " '313_F.jpg',\n",
       " '314_F.jpg',\n",
       " '315_F.jpg',\n",
       " '316_F.jpg',\n",
       " '317_F.jpg',\n",
       " '318_F.jpg',\n",
       " '319_F.jpg']"
      ]
     },
     "execution_count": 3,
     "metadata": {},
     "output_type": "execute_result"
    }
   ],
   "source": [
    "filenames[:10]"
   ]
  },
  {
   "cell_type": "code",
   "execution_count": 4,
   "metadata": {},
   "outputs": [
    {
     "data": {
      "text/plain": [
       "[('310_F.jpg', 10, <PIL.Image.Image image mode=RGB size=80x100>),\n",
       " ('311_F.jpg', 10, <PIL.Image.Image image mode=RGB size=80x100>),\n",
       " ('312_F.jpg', 10, <PIL.Image.Image image mode=RGB size=80x100>),\n",
       " ('313_F.jpg', 10, <PIL.Image.Image image mode=RGB size=80x100>),\n",
       " ('314_F.jpg', 10, <PIL.Image.Image image mode=RGB size=80x100>),\n",
       " ('315_F.jpg', 10, <PIL.Image.Image image mode=RGB size=80x100>),\n",
       " ('316_F.jpg', 10, <PIL.Image.Image image mode=RGB size=80x100>),\n",
       " ('317_F.jpg', 10, <PIL.Image.Image image mode=RGB size=80x100>),\n",
       " ('318_F.jpg', 10, <PIL.Image.Image image mode=RGB size=80x100>),\n",
       " ('319_F.jpg', 10, <PIL.Image.Image image mode=RGB size=80x100>)]"
      ]
     },
     "execution_count": 4,
     "metadata": {},
     "output_type": "execute_result"
    }
   ],
   "source": [
    "items=list(zip(filenames,ages,all_images))\n",
    "items[:10]"
   ]
  },
  {
   "cell_type": "code",
   "execution_count": 5,
   "metadata": {},
   "outputs": [
    {
     "data": {
      "text/plain": [
       "572"
      ]
     },
     "execution_count": 5,
     "metadata": {},
     "output_type": "execute_result"
    }
   ],
   "source": [
    "len(all_images)"
   ]
  },
  {
   "cell_type": "code",
   "execution_count": 6,
   "metadata": {},
   "outputs": [
    {
     "data": {
      "text/plain": [
       "(100, 80, 3)"
      ]
     },
     "execution_count": 6,
     "metadata": {},
     "output_type": "execute_result"
    }
   ],
   "source": [
    "np.array(all_images[0]).shape"
   ]
  },
  {
   "cell_type": "code",
   "execution_count": 7,
   "metadata": {},
   "outputs": [
    {
     "data": {
      "text/plain": [
       "(573, 80, 100, 3)"
      ]
     },
     "execution_count": 7,
     "metadata": {},
     "output_type": "execute_result"
    }
   ],
   "source": [
    "X = np.empty((1, img_size[0], img_size[1], 3))\n",
    "for img in all_images:\n",
    "    X = np.vstack((X, np.array(img).reshape(1, img_size[0], img_size[1], 3)))\n",
    "\n",
    "X.shape"
   ]
  },
  {
   "cell_type": "code",
   "execution_count": 8,
   "metadata": {},
   "outputs": [],
   "source": [
    "X = np.delete(X, (0), axis=0)"
   ]
  },
  {
   "cell_type": "code",
   "execution_count": 9,
   "metadata": {},
   "outputs": [
    {
     "data": {
      "text/plain": [
       "(572, 80, 100, 3)"
      ]
     },
     "execution_count": 9,
     "metadata": {},
     "output_type": "execute_result"
    }
   ],
   "source": [
    "X.shape"
   ]
  },
  {
   "cell_type": "code",
   "execution_count": 10,
   "metadata": {},
   "outputs": [
    {
     "data": {
      "text/plain": [
       "array([10, 10, 10, 10, 10, 10, 10, 10, 10, 10])"
      ]
     },
     "execution_count": 10,
     "metadata": {},
     "output_type": "execute_result"
    }
   ],
   "source": [
    "y = np.array(ages)\n",
    "y[:10]"
   ]
  },
  {
   "cell_type": "code",
   "execution_count": 11,
   "metadata": {},
   "outputs": [
    {
     "data": {
      "image/png": "[encoded data removed]",
      "text/plain": [
       "<Figure size 640x480 with 1 Axes>"
      ]
     },
     "metadata": {},
     "output_type": "display_data"
    }
   ],
   "source": [
    "import matplotlib.pyplot as plt\n",
    "plt.imshow(all_images[0])\n",
    "plt.show()"
   ]
  },
  {
   "cell_type": "code",
   "execution_count": 12,
   "metadata": {},
   "outputs": [
    {
     "data": {
      "text/plain": [
       "((457, 80, 100, 3), (115, 80, 100, 3), (457,), (115,))"
      ]
     },
     "execution_count": 12,
     "metadata": {},
     "output_type": "execute_result"
    }
   ],
   "source": [
    "from sklearn.model_selection import train_test_split\n",
    "X_train, X_test, y_train, y_test = train_test_split(X, y,test_size=0.2,\n",
    "                                                    stratify=y, shuffle=True,\n",
    "                                                    random_state=10)\n",
    "X_train.shape, X_test.shape, y_train.shape, y_test.shape"
   ]
  },
  {
   "cell_type": "code",
   "execution_count": 13,
   "metadata": {},
   "outputs": [
    {
     "data": {
      "text/plain": [
       "5     49\n",
       "6     40\n",
       "8     40\n",
       "9     40\n",
       "10    40\n",
       "11    40\n",
       "12    40\n",
       "7     37\n",
       "13    36\n",
       "14    29\n",
       "4     26\n",
       "3     15\n",
       "15    15\n",
       "16    10\n",
       "dtype: int64"
      ]
     },
     "execution_count": 13,
     "metadata": {},
     "output_type": "execute_result"
    }
   ],
   "source": [
    "import pandas as pd\n",
    "pd.DataFrame(y_train).value_counts()"
   ]
  },
  {
   "cell_type": "code",
   "execution_count": 14,
   "metadata": {},
   "outputs": [],
   "source": [
    "X_train=X_train.reshape(-1,img_size[0]*img_size[1]*3)\n",
    "X_test=X_test.reshape(-1,img_size[0]*img_size[1]*3)"
   ]
  },
  {
   "cell_type": "code",
   "execution_count": 15,
   "metadata": {},
   "outputs": [],
   "source": [
    "X_train=X_train/255.\n",
    "X_test=X_test/255."
   ]
  },
  {
   "cell_type": "code",
   "execution_count": 16,
   "metadata": {},
   "outputs": [],
   "source": [
    "X_train=X_train.reshape(-1,img_size[0],img_size[1],3)\n",
    "X_test=X_test.reshape(-1,img_size[0],img_size[1],3)"
   ]
  },
  {
   "cell_type": "code",
   "execution_count": 17,
   "metadata": {},
   "outputs": [],
   "source": [
    "from tensorflow.keras import utils\n",
    "y_train_backup=y_train\n",
    "y_test_backup=y_test"
   ]
  },
  {
   "cell_type": "code",
   "execution_count": 18,
   "metadata": {},
   "outputs": [
    {
     "name": "stdout",
     "output_type": "stream",
     "text": [
      "Model: \"sequential\"\n",
      "_________________________________________________________________\n",
      " Layer (type)                Output Shape              Param #   \n",
      "=================================================================\n",
      " conv2d (Conv2D)             (None, 80, 100, 64)       1792      \n",
      "                                                                 \n",
      " max_pooling2d (MaxPooling2D  (None, 40, 50, 64)       0         \n",
      " )                                                               \n",
      "                                                                 \n",
      " conv2d_1 (Conv2D)           (None, 38, 48, 64)        36928     \n",
      "                                                                 \n",
      " max_pooling2d_1 (MaxPooling  (None, 19, 24, 64)       0         \n",
      " 2D)                                                             \n",
      "                                                                 \n",
      " conv2d_2 (Conv2D)           (None, 17, 22, 64)        36928     \n",
      "                                                                 \n",
      " flatten (Flatten)           (None, 23936)             0         \n",
      "                                                                 \n",
      " dense (Dense)               (None, 64)                1531968   \n",
      "                                                                 \n",
      " dense_1 (Dense)             (None, 1)                 65        \n",
      "                                                                 \n",
      "=================================================================\n",
      "Total params: 1,607,681\n",
      "Trainable params: 1,607,681\n",
      "Non-trainable params: 0\n",
      "_________________________________________________________________\n"
     ]
    }
   ],
   "source": [
    "from keras.models import Sequential\n",
    "from keras.layers import Conv2D, MaxPooling2D, Dense, Flatten\n",
    "model=Sequential()\n",
    "model.add(Conv2D(64,(3,3),padding=\"same\", \n",
    "        #       out  filter\n",
    "                 input_shape=X_train.shape[1:],\n",
    "                 activation='relu'))\n",
    "model.add(MaxPooling2D(2,2))\n",
    "model.add(Conv2D(64,(3,3),activation=\"relu\"))\n",
    "model.add(MaxPooling2D(2,2))\n",
    "model.add(Conv2D(64,(3,3),activation=\"relu\"))\n",
    "model.add(Flatten()) # 1차원으로\n",
    "model.add(Dense(64,activation=\"relu\"))\n",
    "model.add(Dense(1)) #회귀분석\n",
    "model.compile(optimizer=\"rmsprop\",\n",
    "              loss=\"mae\",metrics=[\"mae\"])\n",
    "model.summary()"
   ]
  },
  {
   "cell_type": "code",
   "execution_count": 19,
   "metadata": {},
   "outputs": [
    {
     "data": {
      "text/plain": [
       "((457, 80, 100, 3), (457,), (115, 80, 100, 3), (115,))"
      ]
     },
     "execution_count": 19,
     "metadata": {},
     "output_type": "execute_result"
    }
   ],
   "source": [
    "X_train.shape, y_train.shape, X_test.shape, y_test.shape"
   ]
  },
  {
   "cell_type": "code",
   "execution_count": 20,
   "metadata": {},
   "outputs": [
    {
     "name": "stdout",
     "output_type": "stream",
     "text": [
      "Epoch 1/30\n",
      "12/12 [==============================] - ETA: 0s - loss: 6.3007 - mae: 6.3007\n",
      "Epoch 1: val_mae improved from inf to 3.11549, saving model to d:/data/model\\xray_f_best.h5\n",
      "12/12 [==============================] - 4s 305ms/step - loss: 6.3007 - mae: 6.3007 - val_loss: 3.1155 - val_mae: 3.1155\n",
      "Epoch 2/30\n",
      "12/12 [==============================] - ETA: 0s - loss: 3.2162 - mae: 3.2162\n",
      "Epoch 2: val_mae did not improve from 3.11549\n",
      "12/12 [==============================] - 4s 294ms/step - loss: 3.2162 - mae: 3.2162 - val_loss: 5.8140 - val_mae: 5.8140\n",
      "Epoch 3/30\n",
      "12/12 [==============================] - ETA: 0s - loss: 3.7318 - mae: 3.7318\n",
      "Epoch 3: val_mae did not improve from 3.11549\n",
      "12/12 [==============================] - 4s 303ms/step - loss: 3.7318 - mae: 3.7318 - val_loss: 3.8642 - val_mae: 3.8642\n",
      "Epoch 4/30\n",
      "12/12 [==============================] - ETA: 0s - loss: 3.4889 - mae: 3.4889\n",
      "Epoch 4: val_mae improved from 3.11549 to 2.89989, saving model to d:/data/model\\xray_f_best.h5\n",
      "12/12 [==============================] - 4s 294ms/step - loss: 3.4889 - mae: 3.4889 - val_loss: 2.8999 - val_mae: 2.8999\n",
      "Epoch 5/30\n",
      "12/12 [==============================] - ETA: 0s - loss: 3.1883 - mae: 3.1883\n",
      "Epoch 5: val_mae did not improve from 2.89989\n",
      "12/12 [==============================] - 4s 296ms/step - loss: 3.1883 - mae: 3.1883 - val_loss: 4.9107 - val_mae: 4.9107\n",
      "Epoch 6/30\n",
      "12/12 [==============================] - ETA: 0s - loss: 3.1889 - mae: 3.1889\n",
      "Epoch 6: val_mae improved from 2.89989 to 2.80503, saving model to d:/data/model\\xray_f_best.h5\n",
      "12/12 [==============================] - 4s 302ms/step - loss: 3.1889 - mae: 3.1889 - val_loss: 2.8050 - val_mae: 2.8050\n",
      "Epoch 7/30\n",
      "12/12 [==============================] - ETA: 0s - loss: 3.2502 - mae: 3.2502\n",
      "Epoch 7: val_mae did not improve from 2.80503\n",
      "12/12 [==============================] - 4s 297ms/step - loss: 3.2502 - mae: 3.2502 - val_loss: 3.0815 - val_mae: 3.0815\n",
      "Epoch 8/30\n",
      "12/12 [==============================] - ETA: 0s - loss: 2.9940 - mae: 2.9940\n",
      "Epoch 8: val_mae did not improve from 2.80503\n",
      "12/12 [==============================] - 3s 290ms/step - loss: 2.9940 - mae: 2.9940 - val_loss: 2.9006 - val_mae: 2.9006\n",
      "Epoch 9/30\n",
      "12/12 [==============================] - ETA: 0s - loss: 3.1124 - mae: 3.1124\n",
      "Epoch 9: val_mae did not improve from 2.80503\n",
      "12/12 [==============================] - 3s 284ms/step - loss: 3.1124 - mae: 3.1124 - val_loss: 2.9781 - val_mae: 2.9781\n",
      "Epoch 10/30\n",
      "12/12 [==============================] - ETA: 0s - loss: 2.8611 - mae: 2.8611\n",
      "Epoch 10: val_mae did not improve from 2.80503\n",
      "12/12 [==============================] - 4s 300ms/step - loss: 2.8611 - mae: 2.8611 - val_loss: 2.8092 - val_mae: 2.8092\n",
      "Epoch 11/30\n",
      "12/12 [==============================] - ETA: 0s - loss: 3.1374 - mae: 3.1374\n",
      "Epoch 11: val_mae did not improve from 2.80503\n",
      "12/12 [==============================] - 3s 290ms/step - loss: 3.1374 - mae: 3.1374 - val_loss: 2.9747 - val_mae: 2.9747\n",
      "Epoch 12/30\n",
      "12/12 [==============================] - ETA: 0s - loss: 3.0093 - mae: 3.0093\n",
      "Epoch 12: val_mae did not improve from 2.80503\n",
      "12/12 [==============================] - 3s 283ms/step - loss: 3.0093 - mae: 3.0093 - val_loss: 3.2900 - val_mae: 3.2900\n",
      "Epoch 13/30\n",
      "12/12 [==============================] - ETA: 0s - loss: 3.0624 - mae: 3.0624\n",
      "Epoch 13: val_mae did not improve from 2.80503\n",
      "12/12 [==============================] - 3s 286ms/step - loss: 3.0624 - mae: 3.0624 - val_loss: 2.8488 - val_mae: 2.8488\n",
      "Epoch 14/30\n",
      "12/12 [==============================] - ETA: 0s - loss: 2.6815 - mae: 2.6815\n",
      "Epoch 14: val_mae did not improve from 2.80503\n",
      "12/12 [==============================] - 3s 281ms/step - loss: 2.6815 - mae: 2.6815 - val_loss: 4.0928 - val_mae: 4.0928\n",
      "Epoch 15/30\n",
      "12/12 [==============================] - ETA: 0s - loss: 3.1329 - mae: 3.1329\n",
      "Epoch 15: val_mae improved from 2.80503 to 2.77374, saving model to d:/data/model\\xray_f_best.h5\n",
      "12/12 [==============================] - 3s 285ms/step - loss: 3.1329 - mae: 3.1329 - val_loss: 2.7737 - val_mae: 2.7737\n",
      "Epoch 16/30\n",
      "12/12 [==============================] - ETA: 0s - loss: 2.8570 - mae: 2.8570\n",
      "Epoch 16: val_mae did not improve from 2.77374\n",
      "12/12 [==============================] - 3s 284ms/step - loss: 2.8570 - mae: 2.8570 - val_loss: 2.8347 - val_mae: 2.8347\n",
      "Epoch 17/30\n",
      "12/12 [==============================] - ETA: 0s - loss: 2.8659 - mae: 2.8659\n",
      "Epoch 17: val_mae did not improve from 2.77374\n",
      "12/12 [==============================] - 3s 286ms/step - loss: 2.8659 - mae: 2.8659 - val_loss: 2.9188 - val_mae: 2.9188\n",
      "Epoch 18/30\n",
      "12/12 [==============================] - ETA: 0s - loss: 2.8488 - mae: 2.8488\n",
      "Epoch 18: val_mae improved from 2.77374 to 2.74984, saving model to d:/data/model\\xray_f_best.h5\n",
      "12/12 [==============================] - 3s 291ms/step - loss: 2.8488 - mae: 2.8488 - val_loss: 2.7498 - val_mae: 2.7498\n",
      "Epoch 19/30\n",
      "12/12 [==============================] - ETA: 0s - loss: 2.7990 - mae: 2.7990\n",
      "Epoch 19: val_mae did not improve from 2.74984\n",
      "12/12 [==============================] - 3s 283ms/step - loss: 2.7990 - mae: 2.7990 - val_loss: 3.5118 - val_mae: 3.5118\n",
      "Epoch 20/30\n",
      "12/12 [==============================] - ETA: 0s - loss: 2.8229 - mae: 2.8229\n",
      "Epoch 20: val_mae did not improve from 2.74984\n",
      "12/12 [==============================] - 3s 283ms/step - loss: 2.8229 - mae: 2.8229 - val_loss: 2.7594 - val_mae: 2.7594\n",
      "Epoch 21/30\n",
      "12/12 [==============================] - ETA: 0s - loss: 2.6386 - mae: 2.6386\n",
      "Epoch 21: val_mae did not improve from 2.74984\n",
      "12/12 [==============================] - 3s 286ms/step - loss: 2.6386 - mae: 2.6386 - val_loss: 3.4620 - val_mae: 3.4620\n",
      "Epoch 22/30\n",
      "12/12 [==============================] - ETA: 0s - loss: 2.7464 - mae: 2.7464\n",
      "Epoch 22: val_mae did not improve from 2.74984\n",
      "12/12 [==============================] - 3s 284ms/step - loss: 2.7464 - mae: 2.7464 - val_loss: 3.0219 - val_mae: 3.0219\n",
      "Epoch 23/30\n",
      "12/12 [==============================] - ETA: 0s - loss: 2.6852 - mae: 2.6852\n",
      "Epoch 23: val_mae did not improve from 2.74984\n",
      "12/12 [==============================] - 3s 283ms/step - loss: 2.6852 - mae: 2.6852 - val_loss: 3.4108 - val_mae: 3.4108\n",
      "Epoch 24/30\n",
      "12/12 [==============================] - ETA: 0s - loss: 2.9442 - mae: 2.9442\n",
      "Epoch 24: val_mae improved from 2.74984 to 2.72262, saving model to d:/data/model\\xray_f_best.h5\n",
      "12/12 [==============================] - 3s 286ms/step - loss: 2.9442 - mae: 2.9442 - val_loss: 2.7226 - val_mae: 2.7226\n",
      "Epoch 25/30\n",
      "12/12 [==============================] - ETA: 0s - loss: 2.3748 - mae: 2.3748\n",
      "Epoch 25: val_mae did not improve from 2.72262\n",
      "12/12 [==============================] - 3s 284ms/step - loss: 2.3748 - mae: 2.3748 - val_loss: 3.0138 - val_mae: 3.0138\n",
      "Epoch 26/30\n",
      "12/12 [==============================] - ETA: 0s - loss: 2.7554 - mae: 2.7554\n",
      "Epoch 26: val_mae did not improve from 2.72262\n",
      "12/12 [==============================] - 3s 281ms/step - loss: 2.7554 - mae: 2.7554 - val_loss: 3.1497 - val_mae: 3.1497\n",
      "Epoch 27/30\n",
      "12/12 [==============================] - ETA: 0s - loss: 2.5047 - mae: 2.5047\n",
      "Epoch 27: val_mae did not improve from 2.72262\n",
      "12/12 [==============================] - 3s 282ms/step - loss: 2.5047 - mae: 2.5047 - val_loss: 2.9214 - val_mae: 2.9214\n",
      "Epoch 28/30\n",
      "12/12 [==============================] - ETA: 0s - loss: 2.4551 - mae: 2.4551\n",
      "Epoch 28: val_mae improved from 2.72262 to 2.34042, saving model to d:/data/model\\xray_f_best.h5\n",
      "12/12 [==============================] - 3s 292ms/step - loss: 2.4551 - mae: 2.4551 - val_loss: 2.3404 - val_mae: 2.3404\n",
      "Epoch 29/30\n",
      "12/12 [==============================] - ETA: 0s - loss: 2.4691 - mae: 2.4691\n",
      "Epoch 29: val_mae did not improve from 2.34042\n",
      "12/12 [==============================] - 3s 283ms/step - loss: 2.4691 - mae: 2.4691 - val_loss: 2.8917 - val_mae: 2.8917\n",
      "Epoch 30/30\n",
      "12/12 [==============================] - ETA: 0s - loss: 2.4320 - mae: 2.4320\n",
      "Epoch 30: val_mae did not improve from 2.34042\n",
      "12/12 [==============================] - 3s 281ms/step - loss: 2.4320 - mae: 2.4320 - val_loss: 2.7551 - val_mae: 2.7551\n"
     ]
    }
   ],
   "source": [
    "from keras.callbacks import ModelCheckpoint\n",
    "checkpoint = ModelCheckpoint(\"d:/data/model/xray_f_best.h5\", \n",
    "                             monitor='val_mae', verbose=1,\n",
    "                             save_best_only=True, mode='min')\n",
    "hist = model.fit(X_train, y_train, batch_size=32,\n",
    "                 validation_split=0.2, epochs=30, \n",
    "                 callbacks=[checkpoint])"
   ]
  },
  {
   "cell_type": "code",
   "execution_count": 21,
   "metadata": {},
   "outputs": [
    {
     "data": {
      "image/png": "[encoded data removed]",
      "text/plain": [
       "<Figure size 1200x800 with 1 Axes>"
      ]
     },
     "metadata": {},
     "output_type": "display_data"
    }
   ],
   "source": [
    "plt.figure(figsize=(12,8))\n",
    "plt.plot(hist.history['loss'])\n",
    "plt.plot(hist.history['val_loss'])\n",
    "plt.legend(['loss','val_loss'])\n",
    "plt.grid()\n",
    "plt.show()"
   ]
  },
  {
   "cell_type": "code",
   "execution_count": 22,
   "metadata": {},
   "outputs": [
    {
     "name": "stdout",
     "output_type": "stream",
     "text": [
      "15/15 [==============================] - 1s 56ms/step - loss: 2.2760 - mae: 2.2760\n",
      "[2.2759690284729004, 2.2759690284729004]\n"
     ]
    }
   ],
   "source": [
    "from tensorflow.keras.models import load_model\n",
    "model = load_model('d:/data/model/xray_f_best.h5')\n",
    "scores = model.evaluate(X_train, y_train, verbose=1)\n",
    "print(scores)"
   ]
  },
  {
   "cell_type": "code",
   "execution_count": 23,
   "metadata": {},
   "outputs": [
    {
     "name": "stdout",
     "output_type": "stream",
     "text": [
      "4/4 [==============================] - 0s 48ms/step - loss: 2.4549 - mae: 2.4549\n",
      "[2.454866409301758, 2.454866409301758]\n"
     ]
    }
   ],
   "source": [
    "model = load_model('d:/data/model/xray_f_best.h5')\n",
    "scores = model.evaluate(X_test, y_test, verbose=1)\n",
    "print(scores)"
   ]
  },
  {
   "cell_type": "code",
   "execution_count": 24,
   "metadata": {},
   "outputs": [
    {
     "name": "stdout",
     "output_type": "stream",
     "text": [
      "4/4 [==============================] - 0s 45ms/step\n"
     ]
    },
    {
     "data": {
      "text/plain": [
       "array([[5.8796744],\n",
       "       [5.5120606],\n",
       "       [9.528666 ],\n",
       "       [8.729935 ],\n",
       "       [9.411414 ]], dtype=float32)"
      ]
     },
     "execution_count": 24,
     "metadata": {},
     "output_type": "execute_result"
    }
   ],
   "source": [
    "pred = model.predict(X_test)\n",
    "pred[:5]"
   ]
  },
  {
   "cell_type": "code",
   "execution_count": 25,
   "metadata": {},
   "outputs": [
    {
     "data": {
      "text/plain": [
       "array([ 5,  4, 15, 13, 10])"
      ]
     },
     "execution_count": 25,
     "metadata": {},
     "output_type": "execute_result"
    }
   ],
   "source": [
    "y_test[:5]"
   ]
  }
 ],
 "metadata": {
  "kernelspec": {
   "display_name": "base",
   "language": "python",
   "name": "python3"
  },
  "language_info": {
   "codemirror_mode": {
    "name": "ipython",
    "version": 3
   },
   "file_extension": ".py",
   "mimetype": "text/x-python",
   "name": "python",
   "nbconvert_exporter": "python",
   "pygments_lexer": "ipython3",
   "version": "3.9.13"
  },
  "orig_nbformat": 4
 },
 "nbformat": 4,
 "nbformat_minor": 2
}
