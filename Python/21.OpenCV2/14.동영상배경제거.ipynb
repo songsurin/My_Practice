{
 "cells": [
  {
   "cell_type": "code",
   "execution_count": 2,
   "metadata": {},
   "outputs": [],
   "source": [
    "import cv2 as cv\n",
    "# 백그라운드 감산기 객체 생성\n",
    "backSub = cv.createBackgroundSubtractorMOG2()\n",
    "capture = cv.VideoCapture('d:/data/video/vtest.avi')\n",
    "kernel = cv.getStructuringElement(cv.MORPH_ELLIPSE, (5,5))\n",
    "while True:\n",
    "    ret, frame = capture.read()\n",
    "    if frame is None:\n",
    "        break\n",
    "    #배경이 추출된 영상\n",
    "    fgMask = backSub.apply(frame)\n",
    "    #배경에서 추출된 영상을 오프닝한 영상\n",
    "    fgMask_morph = cv.morphologyEx(fgMask, cv.MORPH_OPEN, kernel)\n",
    "    cv.rectangle(frame, (10, 2), (100,20), (255,255,255), -1)\n",
    "    cv.putText(frame,\n",
    "    str(capture.get(cv.CAP_PROP_POS_FRAMES)), (15, 15), \n",
    "                    cv.FONT_HERSHEY_SIMPLEX, 0.5 , (0,0,0))\n",
    "    cv.imshow('Frame', frame)\n",
    "    cv.imshow('FG Mask Blur', fgMask_morph)\n",
    "    keyboard = cv.waitKey(1) & 0xFF\n",
    "    if keyboard == 27:\n",
    "        break\n",
    "capture.release()\n",
    "cv.destroyAllWindows()"
   ]
  }
 ],
 "metadata": {
  "kernelspec": {
   "display_name": "base",
   "language": "python",
   "name": "python3"
  },
  "language_info": {
   "codemirror_mode": {
    "name": "ipython",
    "version": 3
   },
   "file_extension": ".py",
   "mimetype": "text/x-python",
   "name": "python",
   "nbconvert_exporter": "python",
   "pygments_lexer": "ipython3",
   "version": "3.9.13"
  },
  "orig_nbformat": 4
 },
 "nbformat": 4,
 "nbformat_minor": 2
}
