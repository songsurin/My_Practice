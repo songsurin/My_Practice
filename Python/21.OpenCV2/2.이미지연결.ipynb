{
 "cells": [
  {
   "cell_type": "code",
   "execution_count": 3,
   "metadata": {},
   "outputs": [],
   "source": [
    "import cv2\n",
    "import numpy as np\n",
    "one = cv2.imread(\"d:/data/images/one.jpg\")\n",
    "two = cv2.imread(\"d:/data/images/two.jpg\")\n",
    "three = cv2.imread(\"d:/data/images/three.jpg\")\n",
    "four = cv2.imread(\"d:/data/images/four.jpg\")\n",
    "horizontal1 = np.full((50, one.shape[1], 3), [0, 0, 0], dtype=np.uint8)\n",
    "#               (366, 390, 3) -> (50, 390, 3)\n",
    "horizontal2 = np.full((50, two.shape[1], 3), (0, 0, 0), dtype=np.uint8)\n",
    "left = cv2.vconcat((one, horizontal1, three)) # 세로 결합\n",
    "right = np.vstack((two, horizontal2, four))\n",
    "vertical = np.full((left.shape[0], 50, 3), 0, dtype=np.uint8)\n",
    "dst = cv2.hconcat((left, vertical, right))\n",
    "cv2.imshow(\"dst\", dst)\n",
    "cv2.waitKey() # 키입력 대기상태\n",
    "cv2.destroyAllWindows() # 닫기"
   ]
  },
  {
   "cell_type": "code",
   "execution_count": 2,
   "metadata": {},
   "outputs": [
    {
     "data": {
      "text/plain": [
       "(366, 390, 3)"
      ]
     },
     "execution_count": 2,
     "metadata": {},
     "output_type": "execute_result"
    }
   ],
   "source": [
    "one.shape"
   ]
  }
 ],
 "metadata": {
  "kernelspec": {
   "display_name": "base",
   "language": "python",
   "name": "python3"
  },
  "language_info": {
   "codemirror_mode": {
    "name": "ipython",
    "version": 3
   },
   "file_extension": ".py",
   "mimetype": "text/x-python",
   "name": "python",
   "nbconvert_exporter": "python",
   "pygments_lexer": "ipython3",
   "version": "3.9.13"
  },
  "orig_nbformat": 4
 },
 "nbformat": 4,
 "nbformat_minor": 2
}
