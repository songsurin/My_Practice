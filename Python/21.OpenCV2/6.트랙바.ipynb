{
 "cells": [
  {
   "cell_type": "code",
   "execution_count": 6,
   "metadata": {},
   "outputs": [],
   "source": [
    "import cv2\n",
    "import numpy as np\n",
    "def onChangeBlue(pos):\n",
    "    global b\n",
    "    b = pos\n",
    "    cv2.imshow(\"Palette\", createImage(b, g, r))\n",
    "\n",
    "def createImage(b, g, r):\n",
    "    return np.full((500, 500, 3), (b, g, r), dtype=np.uint8)\n",
    "\n",
    "b, g, r = 0, 0, 0\n",
    "cv2.namedWindow(\"Palette\") #타이틀\n",
    "cv2.createTrackbar(\"Blue\", \"Palette\", 55, 255, onChangeBlue)\n",
    "cv2.createTrackbar(\"Green\", \"Palette\", 0, 255, lambda x:x)\n",
    "cv2.createTrackbar(\"Red\", \"Palette\", 0, 255, lambda x:x)\n",
    "while True:\n",
    "    g = cv2.getTrackbarPos(\"Green\", \"Palette\")\n",
    "    r = cv2.getTrackbarPos(\"Red\", \"Palette\")\n",
    "    cv2.imshow(\"Palette\", createImage(b, g, r))\n",
    "    if cv2.waitKey(33) & 0xFF == ord('q'): #q눌러서 끄기\n",
    "        break\n",
    "cv2.destroyAllWindows()"
   ]
  }
 ],
 "metadata": {
  "kernelspec": {
   "display_name": "base",
   "language": "python",
   "name": "python3"
  },
  "language_info": {
   "codemirror_mode": {
    "name": "ipython",
    "version": 3
   },
   "file_extension": ".py",
   "mimetype": "text/x-python",
   "name": "python",
   "nbconvert_exporter": "python",
   "pygments_lexer": "ipython3",
   "version": "3.9.13"
  },
  "orig_nbformat": 4
 },
 "nbformat": 4,
 "nbformat_minor": 2
}
