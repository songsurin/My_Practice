{
 "cells": [
  {
   "cell_type": "code",
   "execution_count": 1,
   "metadata": {},
   "outputs": [],
   "source": [
    "#kmeans를 이용한 색상 선택\n",
    "import numpy as np\n",
    "import cv2\n",
    "img1 = cv2.imread(\"d:/data/images/winter.jpg\")\n",
    "img1 = cv2.resize(img1, (320, 240))\n",
    "cv2.imshow(\"input\",img1)\n",
    "data = img1.reshape((-1,3))\n",
    "data = np.float32(data)\n",
    "criteria = (cv2.TERM_CRITERIA_EPS + cv2.TERM_CRITERIA_MAX_ITER, 10, 1.0)\n",
    "#        주어진 정확도에 도달하면 중지    주어진 횟수만큼 반복\n",
    "attempts = 10\n",
    "flags = cv2.KMEANS_RANDOM_CENTERS #kmeans++ (랜덤중심)\n",
    "for i in range(1, 5):\n",
    "    numK = i * 5 #클러스터 수(클수록 다양한 색상 표현)\n",
    "    ret, label, center = cv2.kmeans(data, numK, None, criteria, attempts, flags)\n",
    "    # 결과 영상 출력\n",
    "    center = np.uint8(center)\n",
    "    res = center[label.flatten()]\n",
    "    res = res.reshape((img1.shape))\n",
    "    cv2.imshow('k='+str(numK),res)\n",
    "    cv2.waitKey(1)\n",
    "cv2.waitKey(0)\n",
    "cv2.destroyAllWindows()"
   ]
  }
 ],
 "metadata": {
  "kernelspec": {
   "display_name": "base",
   "language": "python",
   "name": "python3"
  },
  "language_info": {
   "codemirror_mode": {
    "name": "ipython",
    "version": 3
   },
   "file_extension": ".py",
   "mimetype": "text/x-python",
   "name": "python",
   "nbconvert_exporter": "python",
   "pygments_lexer": "ipython3",
   "version": "3.9.13"
  },
  "orig_nbformat": 4
 },
 "nbformat": 4,
 "nbformat_minor": 2
}
