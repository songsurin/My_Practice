{
 "cells": [
  {
   "cell_type": "code",
   "execution_count": 1,
   "metadata": {},
   "outputs": [],
   "source": [
    "import numpy as np\n",
    "import cv2\n",
    "img1 = cv2.imread(\"d:/data/images/winter.jpg\", cv2.IMREAD_GRAYSCALE)\n",
    "img1 = cv2.resize(img1, (320, 240))\n",
    "# 투시 변환 수행\n",
    "h, w = img1.shape\n",
    "point1_src = np.float32([[1,1], [w-10,10], [5,h-5], [w-4,h-4]])\n",
    "point1_dst = np.float32([[15,15], [w-60,15], [10,h-25], [w-100,h-50]])\n",
    "point2_src = np.float32([[148,145], [168,144], [136,223], [188,222]])\n",
    "point2_dst = np.float32([[136,145], [188,144], [136,223], [188,222]])\n",
    "per_mat1 = cv2.getPerspectiveTransform(point1_src, point1_dst)\n",
    "per_mat2 = cv2.getPerspectiveTransform(point2_src, point2_dst)\n",
    "res1 = cv2.warpPerspective(img1, per_mat1, (w,h))\n",
    "res2 = cv2.warpPerspective(img1, per_mat2, (w,h))\n",
    "displays = [(\"input1\", img1),\n",
    "            (\"res1\", res1),\n",
    "            (\"res2\", res2)]\n",
    "\n",
    "for (name, out) in displays:\n",
    "    cv2.imshow(name, out)\n",
    "cv2.waitKey(0)\n",
    "cv2.destroyAllWindows()"
   ]
  }
 ],
 "metadata": {
  "kernelspec": {
   "display_name": "base",
   "language": "python",
   "name": "python3"
  },
  "language_info": {
   "codemirror_mode": {
    "name": "ipython",
    "version": 3
   },
   "file_extension": ".py",
   "mimetype": "text/x-python",
   "name": "python",
   "nbconvert_exporter": "python",
   "pygments_lexer": "ipython3",
   "version": "3.9.13"
  },
  "orig_nbformat": 4
 },
 "nbformat": 4,
 "nbformat_minor": 2
}
