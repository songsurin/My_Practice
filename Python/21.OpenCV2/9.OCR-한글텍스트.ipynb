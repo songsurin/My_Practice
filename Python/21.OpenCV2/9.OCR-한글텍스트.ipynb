{
 "cells": [
  {
   "cell_type": "code",
   "execution_count": 2,
   "metadata": {},
   "outputs": [
    {
     "name": "stdout",
     "output_type": "stream",
     "text": [
      "선 언 으 로 재 택 근 무 를 폐 지 하 고 완 전 한 사 무 실 근 무 체 제 로 돌 아 가 려 는\n",
      "무 실 로 불 러 들 이 면 서 이 미 재 택 근 무 에 익 숙 해 진 칙입:이 반 발도 크 다 .\n",
      "\n",
      "서 울 종 로 구 의 한 회 사 는 최 근 코 로 나 19 확 진 자 를 제 외 한 재 택 근 무 를 종 료 한 다 고 공 지 했 다 .\n",
      "\n",
      "김 모 (29) 씨 는 \" 직 장 이 멀 어 서 출 근 시 간 에 이 미 지 쳐 재 택 근 무 가 더 효 율 적 이 라 고 느 낄\n",
      "때 가 있 었 다 \" 며 \" 이 제 완 전 히 코 로 나 19 이 전 문 화 로 돌 아 가 는 듯 해 아 쉽 다 \" 고 말 했 다 .\n",
      "\n",
      "\n"
     ]
    }
   ],
   "source": [
    "from PIL import Image\n",
    "import pytesseract\n",
    "image = Image.open('d:/data/images/kor_text2.png')\n",
    "pytesseract.pytesseract.tesseract_cmd = 'C:/Program Files/Tesseract-OCR/tesseract.exe'\n",
    "text = pytesseract.image_to_string(image, lang='kor')\n",
    "print(text)"
   ]
  }
 ],
 "metadata": {
  "kernelspec": {
   "display_name": "base",
   "language": "python",
   "name": "python3"
  },
  "language_info": {
   "codemirror_mode": {
    "name": "ipython",
    "version": 3
   },
   "file_extension": ".py",
   "mimetype": "text/x-python",
   "name": "python",
   "nbconvert_exporter": "python",
   "pygments_lexer": "ipython3",
   "version": "3.9.13"
  },
  "orig_nbformat": 4
 },
 "nbformat": 4,
 "nbformat_minor": 2
}
