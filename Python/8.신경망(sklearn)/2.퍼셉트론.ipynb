{
 "cells": [
  {
   "attachments": {},
   "cell_type": "markdown",
   "metadata": {},
   "source": [
    "#### 단층"
   ]
  },
  {
   "cell_type": "code",
   "execution_count": 1,
   "metadata": {},
   "outputs": [
    {
     "name": "stdout",
     "output_type": "stream",
     "text": [
      "-0.7\n",
      "(0, 0)  ->  0\n",
      "-0.19999999999999996\n",
      "(1, 0)  ->  0\n",
      "-0.19999999999999996\n",
      "(0, 1)  ->  0\n",
      "0.30000000000000004\n",
      "(1, 1)  ->  1\n"
     ]
    }
   ],
   "source": [
    "import numpy as np\n",
    "#가중치 : 각 입력 신호가 결과에 영향을 주는 중요도를 조절하는 매개변수\n",
    "#편향 : 한쪽으로 치우쳐 균형을 깬다는 의미,뉴런의 활성화 정도를 조절하는 매개변수\n",
    "def AND(x1, x2):\n",
    "    x = np.array([x1, x2])\n",
    "    w = np.array([0.5, 0.5]) #가중치\n",
    "    b = -0.7 #절편(편향)\n",
    "    #가중치를 곱하고 절편을 더한 값\n",
    "    tmp = np.sum(w*x) + b\n",
    "    #둘 다 0이 입력되었는데 0이 되지 않는 것은 편향값 때문\n",
    "    print(tmp)\n",
    "    #0보다 작으면 0, 아니면 1을 리턴\n",
    "    if tmp <= 0:\n",
    "        return 0\n",
    "    else:\n",
    "        return 1\n",
    "        \n",
    "for xs in [(0, 0), (1, 0), (0, 1), (1, 1)]:\n",
    "    y = AND(xs[0], xs[1])\n",
    "    print(xs , \" -> \" , y)"
   ]
  },
  {
   "cell_type": "code",
   "execution_count": 2,
   "metadata": {},
   "outputs": [
    {
     "name": "stdout",
     "output_type": "stream",
     "text": [
      "(0, 0) -> 1\n",
      "(1, 0) -> 1\n",
      "(0, 1) -> 1\n",
      "(1, 1) -> 0\n"
     ]
    }
   ],
   "source": [
    "import numpy as np\n",
    "# NAND : AND의 역산(Not AND)\n",
    "def NAND(x1, x2):\n",
    "    x = np.array([x1, x2])\n",
    "    w = np.array([-0.5, -0.5]) #and와 부호가 다름\n",
    "    b = 0.7 #and와 부호가 다름\n",
    "    tmp = np.sum(w*x) + b\n",
    "    if tmp <= 0:\n",
    "        return 0\n",
    "    else:\n",
    "        return 1\n",
    "for xs in [(0, 0), (1, 0), (0, 1), (1, 1)]:\n",
    "    y = NAND(xs[0], xs[1])\n",
    "    print(str(xs) + \" -> \" + str(y))"
   ]
  },
  {
   "cell_type": "code",
   "execution_count": 3,
   "metadata": {},
   "outputs": [
    {
     "name": "stdout",
     "output_type": "stream",
     "text": [
      "-0.2\n",
      "(0, 0) -> 0\n",
      "0.3\n",
      "(1, 0) -> 1\n",
      "0.3\n",
      "(0, 1) -> 1\n",
      "0.8\n",
      "(1, 1) -> 1\n"
     ]
    }
   ],
   "source": [
    "import numpy as np\n",
    "def OR(x1, x2):\n",
    "    x = np.array([x1, x2])\n",
    "    w = np.array([0.5, 0.5])\n",
    "    b = -0.2 #and와 값이 다름\n",
    "    tmp = np.sum(w*x) + b\n",
    "    print(tmp)\n",
    "    if tmp <= 0:\n",
    "        return 0\n",
    "    else:\n",
    "        return 1\n",
    "for xs in [(0, 0), (1, 0), (0, 1), (1, 1)]:\n",
    "    y = OR(xs[0], xs[1])\n",
    "    print(str(xs) + \" -> \" + str(y))"
   ]
  },
  {
   "attachments": {},
   "cell_type": "markdown",
   "metadata": {},
   "source": [
    "#### 다층"
   ]
  },
  {
   "cell_type": "code",
   "execution_count": 4,
   "metadata": {},
   "outputs": [
    {
     "name": "stdout",
     "output_type": "stream",
     "text": [
      "-0.2\n",
      "-0.19999999999999996\n",
      "(0, 0) -> 0\n",
      "0.3\n",
      "0.30000000000000004\n",
      "(1, 0) -> 1\n",
      "0.3\n",
      "0.30000000000000004\n",
      "(0, 1) -> 1\n",
      "0.8\n",
      "-0.19999999999999996\n",
      "(1, 1) -> 0\n"
     ]
    }
   ],
   "source": [
    "#퍼셉트론의 한계 : xor를 풀 수는 없다. 하지만 게이트를 조합하면 가능하다.\n",
    "def XOR(x1, x2):\n",
    "    s1 = NAND(x1, x2)\n",
    "    s2 = OR(x1, x2)\n",
    "    y = AND(s1, s2)\n",
    "    return y\n",
    "for xs in [(0, 0), (1, 0), (0, 1), (1, 1)]:\n",
    "    y = XOR(xs[0], xs[1])\n",
    "    print(str(xs) + \" -> \" + str(y))"
   ]
  }
 ],
 "metadata": {
  "kernelspec": {
   "display_name": "base",
   "language": "python",
   "name": "python3"
  },
  "language_info": {
   "codemirror_mode": {
    "name": "ipython",
    "version": 3
   },
   "file_extension": ".py",
   "mimetype": "text/x-python",
   "name": "python",
   "nbconvert_exporter": "python",
   "pygments_lexer": "ipython3",
   "version": "3.9.13"
  },
  "orig_nbformat": 4
 },
 "nbformat": 4,
 "nbformat_minor": 2
}
