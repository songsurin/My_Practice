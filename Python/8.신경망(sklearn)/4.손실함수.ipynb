{
 "cells": [
  {
   "attachments": {},
   "cell_type": "markdown",
   "metadata": {},
   "source": [
    "##### 평균제곱오차: (출력값-정답)의 제곱의 합/데이터 개수"
   ]
  },
  {
   "cell_type": "code",
   "execution_count": 2,
   "metadata": {},
   "outputs": [
    {
     "name": "stdout",
     "output_type": "stream",
     "text": [
      "0.09750000000000003\n",
      "0.5975\n"
     ]
    }
   ],
   "source": [
    "import numpy as np\n",
    "\n",
    "#여기서는 two class인 경우라고 가정하여 0.5를 곱함\n",
    "#실제로는 class의 개수가 n개 일때 1/n을 곱해야 함\n",
    "def mean_squared_error(y,t):\n",
    "    return 0.5*np.sum((y-t)**2)\n",
    "\n",
    "#인덱스 2가 정답\n",
    "t=np.array([0,0,1,0,0,0,0,0,0,0]) #실제값\n",
    "\n",
    "#인덱스 2를 정답으로 계산\n",
    "y=np.array([0.1, 0.05, 0.6, 0.0, 0.05, 0.1, 0.0, 0.1, 0.0, 0.0]) #예측값\n",
    "print(mean_squared_error(y,t))\n",
    "\n",
    "#인덱스 7을 정답으로 계산\n",
    "y=np.array([0.1, 0.05, 0.1, 0.0, 0.05, 0.1, 0.0, 0.6, 0.0, 0.0]) #예측값\n",
    "print(mean_squared_error(y,t))"
   ]
  },
  {
   "attachments": {},
   "cell_type": "markdown",
   "metadata": {},
   "source": [
    "##### 크로스엔트로피 오차\n",
    "- binary: 이진분류\n",
    "- category: 다분류"
   ]
  },
  {
   "cell_type": "code",
   "execution_count": null,
   "metadata": {},
   "outputs": [],
   "source": [
    "def cross_entropy_error(y,t): # y예측값, t실제값\n",
    "    delta=1e-7 #값이 무한대가 되거나 0이 되지 않도록 빼주는 값\n",
    "    return -np.sum(t * np.log(y+delta))\n",
    "t=np.array([0,0,1,0,0,0,0,0,0,0])\n",
    "y=np.array([0.1, 0.05, 0.6, 0.0, 0.05, 0.1, 0.0, 0.1, 0.0, 0.0])\n",
    "cross_entropy_error(y,t)\n",
    "\n",
    "# 0일때는 곱하기가 0이 되기 때문에 연산속도가 빨라짐\n",
    "# 따라서 평균제곱오차보다 교차엔트로피 오차를 더 많이 사용하게 된다."
   ]
  }
 ],
 "metadata": {
  "kernelspec": {
   "display_name": "base",
   "language": "python",
   "name": "python3"
  },
  "language_info": {
   "codemirror_mode": {
    "name": "ipython",
    "version": 3
   },
   "file_extension": ".py",
   "mimetype": "text/x-python",
   "name": "python",
   "nbconvert_exporter": "python",
   "pygments_lexer": "ipython3",
   "version": "3.9.13"
  },
  "orig_nbformat": 4
 },
 "nbformat": 4,
 "nbformat_minor": 2
}
