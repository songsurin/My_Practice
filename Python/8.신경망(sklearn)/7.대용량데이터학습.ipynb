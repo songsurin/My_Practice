{
 "cells": [
  {
   "cell_type": "code",
   "execution_count": 2,
   "metadata": {},
   "outputs": [],
   "source": [
    "from sklearn import datasets\n",
    "import numpy as np\n",
    "iris = datasets.load_iris()\n",
    "X = iris.data\n",
    "y = iris.target"
   ]
  },
  {
   "cell_type": "code",
   "execution_count": 3,
   "metadata": {},
   "outputs": [],
   "source": [
    "# 데이터를 섞고\n",
    "idx = np.arange(X.shape[0])\n",
    "np.random.seed(0)\n",
    "np.random.shuffle(idx)\n",
    "X = X[idx]\n",
    "y = y[idx]"
   ]
  },
  {
   "cell_type": "code",
   "execution_count": 7,
   "metadata": {},
   "outputs": [
    {
     "data": {
      "text/plain": [
       "array([2, 1, 0, 2, 0, 2, 0, 1, 1, 1, 2, 1, 1, 1, 1, 0, 1, 1, 0, 0, 2, 1,\n",
       "       0, 0, 2, 0, 0, 1, 1, 0, 2, 1, 0, 2, 2, 1, 0, 1, 1, 1, 2, 0, 2, 0,\n",
       "       0, 1, 2, 2, 2, 2, 1, 2, 1, 1, 2, 2, 2, 2, 1, 2, 1, 0, 2, 1, 1, 1,\n",
       "       1, 2, 0, 0, 2, 1, 0, 0, 1, 0, 2, 1, 0, 1, 2, 1, 0, 2, 2, 2, 2, 0,\n",
       "       0, 2, 2, 0, 2, 0, 2, 2, 0, 0, 2, 0, 0, 0, 1, 2, 2, 0, 0, 0, 1, 1,\n",
       "       0, 0, 1, 0, 2, 1, 2, 1, 0, 2, 0, 2, 0, 0, 2, 0, 2, 1, 1, 1, 2, 2,\n",
       "       1, 1, 0, 1, 2, 2, 0, 1, 1, 1, 1, 0, 0, 0, 2, 1, 2, 0])"
      ]
     },
     "execution_count": 7,
     "metadata": {},
     "output_type": "execute_result"
    }
   ],
   "source": [
    "y"
   ]
  },
  {
   "cell_type": "code",
   "execution_count": 4,
   "metadata": {},
   "outputs": [],
   "source": [
    "from sklearn.preprocessing import StandardScaler\n",
    "scaler = StandardScaler()\n",
    "scaler.fit(X)\n",
    "X = scaler.transform(X)"
   ]
  },
  {
   "cell_type": "code",
   "execution_count": 5,
   "metadata": {},
   "outputs": [
    {
     "name": "stdout",
     "output_type": "stream",
     "text": [
      "0.9733333333333333\n",
      "MLPClassifier(activation='tanh', hidden_layer_sizes=(50,), max_iter=5000,\n",
      "              random_state=0)\n"
     ]
    }
   ],
   "source": [
    "from sklearn.model_selection import GridSearchCV\n",
    "from sklearn.neural_network import MLPClassifier\n",
    "params = {\n",
    "    'hidden_layer_sizes': [(10,), (50,), (100,), #은닉층 1층\n",
    "                    (10,10), (50,50), (100,100)], #은닉층 2층\n",
    "    'activation': ['tanh', 'relu'], #활성화 함수\n",
    "    'alpha': [0.0001, 0.01], #학습률\n",
    "}\n",
    "model = MLPClassifier(random_state=0, max_iter=5000)\n",
    "clf = GridSearchCV(model, param_grid=params, cv=3)\n",
    "clf.fit(X, y)\n",
    "print(clf.best_score_)\n",
    "print(clf.best_estimator_)"
   ]
  },
  {
   "cell_type": "code",
   "execution_count": 6,
   "metadata": {},
   "outputs": [],
   "source": [
    "from sklearn.model_selection import train_test_split\n",
    "#학습용, 검증용 구분\n",
    "X_train, X_test, y_train, y_test = train_test_split(X, y, test_size=0.2, stratify=y, random_state=0)\n",
    "scaler = StandardScaler()\n",
    "scaler.fit(X_train)\n",
    "X_train = scaler.transform(X_train)\n",
    "X_test = scaler.transform(X_test)"
   ]
  },
  {
   "cell_type": "code",
   "execution_count": 8,
   "metadata": {},
   "outputs": [
    {
     "name": "stdout",
     "output_type": "stream",
     "text": [
      "0\n",
      "1\n",
      "2\n",
      "3\n",
      "4\n",
      "5\n"
     ]
    }
   ],
   "source": [
    "# generator\n",
    "# 메모리는 절약할 수 있지만 실행시간이 더 오래 걸릴 수 있음\n",
    "def make_numbers(n):\n",
    "    while n < 6:\n",
    "        yield n # 메모리에 저장하지 않고 호출한 곳으로 값을 보냄(return과 비슷한 역할)\n",
    "        n += 1\n",
    "\n",
    "for i in make_numbers(0):\n",
    "    print(i)"
   ]
  },
  {
   "cell_type": "code",
   "execution_count": 20,
   "metadata": {},
   "outputs": [
    {
     "name": "stdout",
     "output_type": "stream",
     "text": [
      "920\n",
      "8856\n",
      "112\n",
      "112\n"
     ]
    }
   ],
   "source": [
    "import sys\n",
    "#리스트의 데이터가 늘어나면 메모리 사용량이 증가한다.\n",
    "#리스트의 모든 데이터를 메모리에 적재\n",
    "a = [i for i in range(100)]\n",
    "print(sys.getsizeof(a))\n",
    "b = [i for i in range(1000)]\n",
    "print(sys.getsizeof(b))\n",
    "#generator expression : 위에서 언급한 generator 함수를 좀더 쉽게 사용할 수 있도록 제공되는 표현식\n",
    "#[] 대신 ()을 사용하면 메모리를 효율적으로 사용할 수 있음\n",
    "#모든 데이터를 메모리에 적재하지 않고 next() 함수를 통해 조금씩 메모리에 적재\n",
    "c = (i for i in range(100))\n",
    "print(sys.getsizeof(c))\n",
    "d = (i for i in range(1000))\n",
    "print(sys.getsizeof(d))"
   ]
  },
  {
   "cell_type": "code",
   "execution_count": 25,
   "metadata": {},
   "outputs": [],
   "source": [
    "import time\n",
    "def func_sleep(x):\n",
    "    print('1초 멈춤...')\n",
    "    time.sleep(1)\n",
    "    return x"
   ]
  },
  {
   "cell_type": "code",
   "execution_count": 23,
   "metadata": {},
   "outputs": [
    {
     "name": "stdout",
     "output_type": "stream",
     "text": [
      "1초 멈춤...\n",
      "1초 멈춤...\n",
      "1초 멈춤...\n",
      "1초 멈춤...\n",
      "1초 멈춤...\n"
     ]
    },
    {
     "data": {
      "text/plain": [
       "[0, 1, 2, 3, 4]"
      ]
     },
     "execution_count": 23,
     "metadata": {},
     "output_type": "execute_result"
    }
   ],
   "source": [
    "# 리스트\n",
    "items1 = [func_sleep(x) for x in range(5)]\n",
    "items1"
   ]
  },
  {
   "cell_type": "code",
   "execution_count": 24,
   "metadata": {},
   "outputs": [
    {
     "data": {
      "text/plain": [
       "<generator object <genexpr> at 0x000002685DF8A580>"
      ]
     },
     "execution_count": 24,
     "metadata": {},
     "output_type": "execute_result"
    }
   ],
   "source": [
    "# generator 생성\n",
    "items2 = (func_sleep(y) for y in range(5))\n",
    "items2"
   ]
  },
  {
   "cell_type": "code",
   "execution_count": 11,
   "metadata": {},
   "outputs": [
    {
     "name": "stdout",
     "output_type": "stream",
     "text": [
      "0\n",
      "1\n",
      "2\n",
      "3\n",
      "4\n",
      "Wall time: 0 ns\n"
     ]
    }
   ],
   "source": [
    "%%time\n",
    "#리스트를 사용하면 리스트의 모든 원소를 한꺼번에 처리한 후 최종 결과가 출력됨\n",
    "for i in items1:\n",
    "    print(i)"
   ]
  },
  {
   "cell_type": "code",
   "execution_count": 12,
   "metadata": {},
   "outputs": [
    {
     "name": "stdout",
     "output_type": "stream",
     "text": [
      "1초 멈춤...\n",
      "0\n",
      "1초 멈춤...\n",
      "1\n",
      "1초 멈춤...\n",
      "2\n",
      "1초 멈춤...\n",
      "3\n",
      "1초 멈춤...\n",
      "4\n",
      "Wall time: 5.04 s\n"
     ]
    }
   ],
   "source": [
    "%%time\n",
    "#generator를 사용하면 수행 시간이 긴 연산을 한꺼번에 수행하지 않고 조금씩 수행함\n",
    "for i in items2:\n",
    "    print(i)"
   ]
  },
  {
   "cell_type": "code",
   "execution_count": 14,
   "metadata": {},
   "outputs": [
    {
     "name": "stdout",
     "output_type": "stream",
     "text": [
      "메모리 사용량: 120\n",
      "메모리 사용량: 112\n"
     ]
    }
   ],
   "source": [
    "print('메모리 사용량:',sys.getsizeof(items1))\n",
    "print('메모리 사용량:',sys.getsizeof(items2))"
   ]
  },
  {
   "cell_type": "code",
   "execution_count": 15,
   "metadata": {},
   "outputs": [],
   "source": [
    "#batch(X_train, y_train, 10)\n",
    "#전체 데이터를 보내지 않고 10개씩 조금씩 보내서 처리하는 방식\n",
    "def batch(X1, y1, n):\n",
    "    x_size=len(X1)\n",
    "    for idx in range(0, x_size, n):\n",
    "        yield X1[idx:min(idx + n, x_size)], y1[idx:min(idx + n, x_size)]\n",
    "\n",
    "clf=MLPClassifier(max_iter=5000, random_state=0)"
   ]
  },
  {
   "cell_type": "code",
   "execution_count": 16,
   "metadata": {},
   "outputs": [
    {
     "data": {
      "text/plain": [
       "0.9666666666666667"
      ]
     },
     "execution_count": 16,
     "metadata": {},
     "output_type": "execute_result"
    }
   ],
   "source": [
    "#일반적인 방식(한꺼번에 처리하는 방식)\n",
    "from sklearn.metrics import accuracy_score\n",
    "clf.fit(X_train, y_train)\n",
    "pred = clf.predict(X_test)\n",
    "accuracy_score(y_test, pred)"
   ]
  },
  {
   "cell_type": "code",
   "execution_count": 17,
   "metadata": {},
   "outputs": [
    {
     "name": "stdout",
     "output_type": "stream",
     "text": [
      "0\n",
      "학습용: 0.48333333333333334\n",
      "검증용: 0.5\n",
      "1\n",
      "학습용: 0.525\n",
      "검증용: 0.5333333333333333\n",
      "2\n",
      "학습용: 0.6416666666666667\n",
      "검증용: 0.6333333333333333\n",
      "3\n",
      "학습용: 0.725\n",
      "검증용: 0.7\n",
      "4\n",
      "학습용: 0.7833333333333333\n",
      "검증용: 0.7333333333333333\n",
      "5\n",
      "학습용: 0.825\n",
      "검증용: 0.7666666666666667\n",
      "6\n",
      "학습용: 0.8416666666666667\n",
      "검증용: 0.7666666666666667\n",
      "7\n",
      "학습용: 0.8333333333333334\n",
      "검증용: 0.8\n",
      "8\n",
      "학습용: 0.85\n",
      "검증용: 0.8\n",
      "9\n",
      "학습용: 0.8583333333333333\n",
      "검증용: 0.8\n",
      "10\n",
      "학습용: 0.8583333333333333\n",
      "검증용: 0.8\n",
      "11\n",
      "학습용: 0.8583333333333333\n",
      "검증용: 0.8\n"
     ]
    }
   ],
   "source": [
    "#10개씩 12회로 나누어 처리하는 방식\n",
    "clf2 = MLPClassifier(random_state=0)\n",
    "#시간은 더 오래 걸릴 수 있으나 메모리를 절약할 수 있는 방법\n",
    "points_tr=[]\n",
    "points_te=[]\n",
    "samp = batch(X_train, y_train, 10)\n",
    "for idx, (chunk_X, chunk_y) in enumerate(samp):\n",
    "    print(idx)\n",
    "    #부분적으로 학습, 처음에는 정확도가 낮지만 점차 향상됨\n",
    "    clf2.partial_fit(chunk_X, chunk_y, classes=[0, 1, 2])\n",
    "    pred = clf2.predict(X_train)\n",
    "    point=accuracy_score(y_train, pred)\n",
    "    points_tr.append(point)\n",
    "    print('학습용:',point)\n",
    "    pred = clf2.predict(X_test)\n",
    "    point=accuracy_score(y_test, pred)\n",
    "    points_te.append(point)\n",
    "    print('검증용:',point)"
   ]
  },
  {
   "cell_type": "code",
   "execution_count": 18,
   "metadata": {},
   "outputs": [
    {
     "data": {
      "text/plain": [
       "<matplotlib.legend.Legend at 0x2685d8ec9a0>"
      ]
     },
     "execution_count": 18,
     "metadata": {},
     "output_type": "execute_result"
    },
    {
     "data": {
      "image/png": "[encoded data removed]",
      "text/plain": [
       "<Figure size 640x480 with 1 Axes>"
      ]
     },
     "metadata": {},
     "output_type": "display_data"
    }
   ],
   "source": [
    "import matplotlib.pyplot as plt\n",
    "plt.rcParams[\"font.size\"]=15\n",
    "plt.plot(range(1,13), points_tr, label=\"Train\")\n",
    "plt.plot(range(1,13), points_te, label=\"Test\")\n",
    "plt.ylabel(\"Accuracy\")\n",
    "plt.xlabel(\"samples\")\n",
    "plt.legend()"
   ]
  },
  {
   "cell_type": "code",
   "execution_count": null,
   "metadata": {},
   "outputs": [],
   "source": []
  }
 ],
 "metadata": {
  "kernelspec": {
   "display_name": "base",
   "language": "python",
   "name": "python3"
  },
  "language_info": {
   "codemirror_mode": {
    "name": "ipython",
    "version": 3
   },
   "file_extension": ".py",
   "mimetype": "text/x-python",
   "name": "python",
   "nbconvert_exporter": "python",
   "pygments_lexer": "ipython3",
   "version": "3.9.13"
  },
  "orig_nbformat": 4
 },
 "nbformat": 4,
 "nbformat_minor": 2
}
