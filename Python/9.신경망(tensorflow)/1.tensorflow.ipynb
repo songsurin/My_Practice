{
 "cells": [
  {
   "cell_type": "code",
   "execution_count": 1,
   "metadata": {},
   "outputs": [
    {
     "name": "stdout",
     "output_type": "stream",
     "text": [
      "3.9.13 (main, Aug 25 2022, 23:51:50) [MSC v.1916 64 bit (AMD64)]\n",
      "2.10.0\n"
     ]
    }
   ],
   "source": [
    "import tensorflow as tf\n",
    "import sys\n",
    "print(sys.version)\n",
    "print(tf.__version__)"
   ]
  },
  {
   "cell_type": "code",
   "execution_count": 2,
   "metadata": {},
   "outputs": [
    {
     "name": "stdout",
     "output_type": "stream",
     "text": [
      "tf.Tensor(b'Hello World', shape=(), dtype=string)\n",
      "b'Hello World'\n",
      "Hello World\n",
      "42\n",
      "[10, 32, 42]\n"
     ]
    }
   ],
   "source": [
    "# 상수 선언\n",
    "hello = tf.constant('Hello World')\n",
    "print(hello)\n",
    "print(hello.numpy()) #바이트 배열\n",
    "print(hello.numpy().decode('utf-8')) # 바이트 배열을 스트링으로 변환\n",
    "a = tf.constant(10)\n",
    "b = tf.constant(32)\n",
    "c = tf.add(a, b)\n",
    "#c = a+b\n",
    "print(c.numpy())\n",
    "print([a.numpy(),b.numpy(),c.numpy()])"
   ]
  },
  {
   "cell_type": "code",
   "execution_count": 3,
   "metadata": {},
   "outputs": [
    {
     "name": "stdout",
     "output_type": "stream",
     "text": [
      "7.0\n"
     ]
    }
   ],
   "source": [
    "node1=tf.constant(3.0)\n",
    "node2=tf.constant(4.0)\n",
    "node3=tf.add(node1,node2)\n",
    "print(node3.numpy())"
   ]
  },
  {
   "cell_type": "code",
   "execution_count": 4,
   "metadata": {},
   "outputs": [
    {
     "name": "stdout",
     "output_type": "stream",
     "text": [
      "15.0\n",
      "0.0\n",
      "[12.    7.75 22.94]\n"
     ]
    }
   ],
   "source": [
    "def output(a,b):\n",
    "    return tf.multiply(a, b)\n",
    "\n",
    "print(output(3.0, 5.0).numpy())\n",
    "print(output(0.0, 6.0).numpy())\n",
    "print(output([2.0,3.1,7.4], [6.0,2.5,3.1]).numpy())"
   ]
  },
  {
   "cell_type": "code",
   "execution_count": 5,
   "metadata": {},
   "outputs": [
    {
     "data": {
      "text/plain": [
       "array([0.21000001, 0.51000005, 0.81000006, 1.11      ], dtype=float32)"
      ]
     },
     "execution_count": 5,
     "metadata": {},
     "output_type": "execute_result"
    }
   ],
   "source": [
    "#텐서플로의 변수 선언\n",
    "W = tf.Variable([0.3], dtype=tf.float32)\n",
    "b = tf.Variable([-0.3], dtype=tf.float32)\n",
    "\n",
    "def linear_model(x):\n",
    "    return tf.multiply(W,tf.add(x,b))\n",
    "\n",
    "x=[1.,2.,3.,4.]\n",
    "# x의 값에 따라 linear_model 계산\n",
    "linear_model(x).numpy()"
   ]
  },
  {
   "cell_type": "code",
   "execution_count": 7,
   "metadata": {},
   "outputs": [
    {
     "name": "stdout",
     "output_type": "stream",
     "text": [
      "X\n",
      " [[1 2 3]\n",
      " [4 5 6]]\n",
      "W\n",
      " [[8 1]\n",
      " [4 0]\n",
      " [8 9]]\n",
      "b\n",
      " [[2]\n",
      " [2]]\n"
     ]
    }
   ],
   "source": [
    "import numpy as np\n",
    "X = np.array([[1,2,3],[4,5,6]])\n",
    "print('X\\n',X)\n",
    "\n",
    "#3행 2열의 랜덤\n",
    "W = np.array([[np.random.randint(10) for col in range(2)] for row in range(3)])\n",
    "print('W\\n',W)\n",
    "\n",
    "b = np.array([[np.random.randint(10) for col in range(1)] for row in range(2)])\n",
    "print('b\\n',b)"
   ]
  },
  {
   "cell_type": "code",
   "execution_count": 8,
   "metadata": {},
   "outputs": [
    {
     "data": {
      "text/plain": [
       "array([[ 42,  30],\n",
       "       [102,  60]])"
      ]
     },
     "execution_count": 8,
     "metadata": {},
     "output_type": "execute_result"
    }
   ],
   "source": [
    "def expr(X):\n",
    "    return tf.matmul(X, W) +b #행렬 곱셈\n",
    "\n",
    "expr(X).numpy()"
   ]
  },
  {
   "cell_type": "code",
   "execution_count": null,
   "metadata": {},
   "outputs": [],
   "source": []
  }
 ],
 "metadata": {
  "kernelspec": {
   "display_name": "base",
   "language": "python",
   "name": "python3"
  },
  "language_info": {
   "codemirror_mode": {
    "name": "ipython",
    "version": 3
   },
   "file_extension": ".py",
   "mimetype": "text/x-python",
   "name": "python",
   "nbconvert_exporter": "python",
   "pygments_lexer": "ipython3",
   "version": "3.9.13"
  },
  "orig_nbformat": 4
 },
 "nbformat": 4,
 "nbformat_minor": 2
}
