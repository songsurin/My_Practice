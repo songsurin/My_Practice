{
 "cells": [
  {
   "cell_type": "code",
   "execution_count": 11,
   "metadata": {},
   "outputs": [],
   "source": [
    "import numpy as np\n",
    "from keras import models\n",
    "from keras import layers\n",
    "from sklearn.model_selection import cross_val_score\n",
    "from sklearn.datasets import make_classification\n",
    "# 랜덤 시드를 설정\n",
    "np.random.seed(0)\n",
    "# 특성 개수\n",
    "number_of_features = 100\n",
    "# 특성 행렬과 타깃 벡터\n",
    "features, target = make_classification(n_samples = 10000, \n",
    "                                       n_features = number_of_features,\n",
    "                                       n_informative = 3, n_redundant = 0,\n",
    "                                       n_classes = 2, weights = [.5, .5],\n",
    "                                       random_state = 0)"
   ]
  },
  {
   "cell_type": "code",
   "execution_count": 12,
   "metadata": {},
   "outputs": [],
   "source": [
    "from scikeras.wrappers import KerasClassifier\n",
    "def create_network():\n",
    "    # 신경망 모델\n",
    "    network = models.Sequential()\n",
    "    # 렐루 활성화 함수를 사용한 완전 연결 층을 추가\n",
    "    network.add(layers.Dense(units=16, activation=\"relu\",\n",
    "                             #출력노드수\n",
    "                             input_shape=(number_of_features,)))\n",
    "    # 렐루 활성화 함수를 사용한 완전 연결 층을 추가\n",
    "    network.add(layers.Dense(units=16, activation=\"relu\"))\n",
    "    # 시그모이드 활성화 함수를 사용한 완전 연결 층을 추가\n",
    "    network.add(layers.Dense(units=1, activation=\"sigmoid\"))\n",
    "    # 신경망의 모델 설정을 완료\n",
    "    network.compile(loss=\"binary_crossentropy\", # 크로스 엔트로피\n",
    "                    optimizer=\"rmsprop\", # 옵티마이저\n",
    "                    metrics=[\"accuracy\"]) # 성능 지표\n",
    "    # 설정 완료된 모델을 반환\n",
    "    return network"
   ]
  },
  {
   "cell_type": "code",
   "execution_count": 13,
   "metadata": {},
   "outputs": [
    {
     "data": {
      "text/plain": [
       "array([0.89112178, 0.90519052, 0.88178818])"
      ]
     },
     "execution_count": 13,
     "metadata": {},
     "output_type": "execute_result"
    }
   ],
   "source": [
    "neural_network = KerasClassifier(model=create_network, epochs=10, batch_size=100, verbose=0)\n",
    "# 3-폴드 교차검증을 사용하여 신경망을 평가\n",
    "cross_val_score(neural_network, features, target, cv=3)"
   ]
  },
  {
   "cell_type": "code",
   "execution_count": 14,
   "metadata": {},
   "outputs": [],
   "source": [
    "# 2. 하이퍼 파라미터 튜닝\n",
    "#시간이 오래 걸림\n",
    "import numpy as np\n",
    "from keras import models\n",
    "from keras import layers\n",
    "from sklearn.model_selection import GridSearchCV\n",
    "from sklearn.datasets import make_classification\n",
    "# 랜덤 시드를 설정\n",
    "np.random.seed(0)\n",
    "# 특성 개수\n",
    "number_of_features = 10\n",
    "# 특성 행렬과 타깃 벡터\n",
    "features, target = make_classification(n_samples = 100, n_features = number_of_features,\n",
    "                                       n_informative = 3, n_redundant = 0, n_classes = 2,\n",
    "                                       weights = [.5, .5], random_state = 0)"
   ]
  },
  {
   "cell_type": "code",
   "execution_count": 15,
   "metadata": {},
   "outputs": [],
   "source": [
    "# 설정 완료된 신경망을 반환하는 함수\n",
    "def create_network(optimizer=\"rmsprop\"):\n",
    "    # 신경망 모델\n",
    "    network = models.Sequential()\n",
    "    # 렐루 활성화 함수를 사용한 완전 연결 층을 추가\n",
    "    network.add(layers.Dense(units=16,\n",
    "                             activation=\"relu\",\n",
    "                             input_shape=(number_of_features,)))\n",
    "    # 렐루 활성화 함수를 사용한 완전 연결 층을 추가\n",
    "    network.add(layers.Dense(units=16, activation=\"relu\"))\n",
    "    # 시그모이드 활성화 함수를 사용한 완전 연결 층을 추가\n",
    "    network.add(layers.Dense(units=1, activation=\"sigmoid\"))\n",
    "    # 신경망의 모델 설정을 완료\n",
    "    network.compile(loss=\"binary_crossentropy\",\n",
    "                    optimizer=optimizer, # 옵티마이저\n",
    "                    metrics=[\"accuracy\"]) # 성능 지표\n",
    "    # 설정 완료된 모델을 반환\n",
    "    return network"
   ]
  },
  {
   "cell_type": "code",
   "execution_count": 16,
   "metadata": {},
   "outputs": [],
   "source": [
    "neural_network = KerasClassifier(model=create_network, verbose=0)\n",
    "# 하이퍼파라미터 탐색 영역을 정의\n",
    "epochs = [5, 10]\n",
    "batches = [5, 10, 100]\n",
    "optimizers = [\"rmsprop\", \"adam\"]\n",
    "# 하이퍼파라미터 그리드\n",
    "hyperparameters = dict(optimizer=optimizers, epochs=epochs, batch_size=batches)\n",
    "# 그리드 서치\n",
    "grid = GridSearchCV(estimator=neural_network, param_grid=hyperparameters)\n",
    "# 그리드 서치를 수행\n",
    "grid_result = grid.fit(features, target)"
   ]
  },
  {
   "cell_type": "code",
   "execution_count": 17,
   "metadata": {},
   "outputs": [
    {
     "data": {
      "text/plain": [
       "{'batch_size': 5, 'epochs': 10, 'optimizer': 'adam'}"
      ]
     },
     "execution_count": 17,
     "metadata": {},
     "output_type": "execute_result"
    }
   ],
   "source": [
    "grid_result.best_params_"
   ]
  },
  {
   "cell_type": "code",
   "execution_count": 18,
   "metadata": {},
   "outputs": [
    {
     "data": {
      "text/plain": [
       "array([0.67, 0.63, 0.63, 0.68, 0.54, 0.57, 0.64, 0.61, 0.5 , 0.57, 0.59,\n",
       "       0.51])"
      ]
     },
     "execution_count": 18,
     "metadata": {},
     "output_type": "execute_result"
    }
   ],
   "source": [
    "grid_result.cv_results_['mean_test_score']"
   ]
  },
  {
   "cell_type": "code",
   "execution_count": 19,
   "metadata": {},
   "outputs": [
    {
     "data": {
      "text/plain": [
       "KerasClassifier(\n",
       "\tmodel=<function create_network at 0x0000029E496B99D0>\n",
       "\tbuild_fn=None\n",
       "\twarm_start=False\n",
       "\trandom_state=None\n",
       "\toptimizer=adam\n",
       "\tloss=None\n",
       "\tmetrics=None\n",
       "\tbatch_size=5\n",
       "\tvalidation_batch_size=None\n",
       "\tverbose=0\n",
       "\tcallbacks=None\n",
       "\tvalidation_split=0.0\n",
       "\tshuffle=True\n",
       "\trun_eagerly=False\n",
       "\tepochs=10\n",
       "\tclass_weight=None\n",
       ")"
      ]
     },
     "execution_count": 19,
     "metadata": {},
     "output_type": "execute_result"
    }
   ],
   "source": [
    "# 신경망 하이퍼파라미터를 확인\n",
    "grid_result.best_estimator_"
   ]
  }
 ],
 "metadata": {
  "kernelspec": {
   "display_name": "base",
   "language": "python",
   "name": "python3"
  },
  "language_info": {
   "codemirror_mode": {
    "name": "ipython",
    "version": 3
   },
   "file_extension": ".py",
   "mimetype": "text/x-python",
   "name": "python",
   "nbconvert_exporter": "python",
   "pygments_lexer": "ipython3",
   "version": "3.9.13"
  },
  "orig_nbformat": 4
 },
 "nbformat": 4,
 "nbformat_minor": 2
}
