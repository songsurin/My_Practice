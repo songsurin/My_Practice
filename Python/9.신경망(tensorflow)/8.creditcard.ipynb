{
 "cells": [
  {
   "cell_type": "code",
   "execution_count": 1,
   "metadata": {},
   "outputs": [
    {
     "data": {
      "text/html": [
       "<div>\n",
       "<style scoped>\n",
       "    .dataframe tbody tr th:only-of-type {\n",
       "        vertical-align: middle;\n",
       "    }\n",
       "\n",
       "    .dataframe tbody tr th {\n",
       "        vertical-align: top;\n",
       "    }\n",
       "\n",
       "    .dataframe thead th {\n",
       "        text-align: right;\n",
       "    }\n",
       "</style>\n",
       "<table border=\"1\" class=\"dataframe\">\n",
       "  <thead>\n",
       "    <tr style=\"text-align: right;\">\n",
       "      <th></th>\n",
       "      <th>Time</th>\n",
       "      <th>V1</th>\n",
       "      <th>V2</th>\n",
       "      <th>V3</th>\n",
       "      <th>V4</th>\n",
       "      <th>V5</th>\n",
       "      <th>V6</th>\n",
       "      <th>V7</th>\n",
       "      <th>V8</th>\n",
       "      <th>V9</th>\n",
       "      <th>...</th>\n",
       "      <th>V21</th>\n",
       "      <th>V22</th>\n",
       "      <th>V23</th>\n",
       "      <th>V24</th>\n",
       "      <th>V25</th>\n",
       "      <th>V26</th>\n",
       "      <th>V27</th>\n",
       "      <th>V28</th>\n",
       "      <th>Amount</th>\n",
       "      <th>Class</th>\n",
       "    </tr>\n",
       "  </thead>\n",
       "  <tbody>\n",
       "    <tr>\n",
       "      <th>0</th>\n",
       "      <td>0.0</td>\n",
       "      <td>-1.359807</td>\n",
       "      <td>-0.072781</td>\n",
       "      <td>2.536347</td>\n",
       "      <td>1.378155</td>\n",
       "      <td>-0.338321</td>\n",
       "      <td>0.462388</td>\n",
       "      <td>0.239599</td>\n",
       "      <td>0.098698</td>\n",
       "      <td>0.363787</td>\n",
       "      <td>...</td>\n",
       "      <td>-0.018307</td>\n",
       "      <td>0.277838</td>\n",
       "      <td>-0.110474</td>\n",
       "      <td>0.066928</td>\n",
       "      <td>0.128539</td>\n",
       "      <td>-0.189115</td>\n",
       "      <td>0.133558</td>\n",
       "      <td>-0.021053</td>\n",
       "      <td>149.62</td>\n",
       "      <td>0</td>\n",
       "    </tr>\n",
       "    <tr>\n",
       "      <th>1</th>\n",
       "      <td>0.0</td>\n",
       "      <td>1.191857</td>\n",
       "      <td>0.266151</td>\n",
       "      <td>0.166480</td>\n",
       "      <td>0.448154</td>\n",
       "      <td>0.060018</td>\n",
       "      <td>-0.082361</td>\n",
       "      <td>-0.078803</td>\n",
       "      <td>0.085102</td>\n",
       "      <td>-0.255425</td>\n",
       "      <td>...</td>\n",
       "      <td>-0.225775</td>\n",
       "      <td>-0.638672</td>\n",
       "      <td>0.101288</td>\n",
       "      <td>-0.339846</td>\n",
       "      <td>0.167170</td>\n",
       "      <td>0.125895</td>\n",
       "      <td>-0.008983</td>\n",
       "      <td>0.014724</td>\n",
       "      <td>2.69</td>\n",
       "      <td>0</td>\n",
       "    </tr>\n",
       "    <tr>\n",
       "      <th>2</th>\n",
       "      <td>1.0</td>\n",
       "      <td>-1.358354</td>\n",
       "      <td>-1.340163</td>\n",
       "      <td>1.773209</td>\n",
       "      <td>0.379780</td>\n",
       "      <td>-0.503198</td>\n",
       "      <td>1.800499</td>\n",
       "      <td>0.791461</td>\n",
       "      <td>0.247676</td>\n",
       "      <td>-1.514654</td>\n",
       "      <td>...</td>\n",
       "      <td>0.247998</td>\n",
       "      <td>0.771679</td>\n",
       "      <td>0.909412</td>\n",
       "      <td>-0.689281</td>\n",
       "      <td>-0.327642</td>\n",
       "      <td>-0.139097</td>\n",
       "      <td>-0.055353</td>\n",
       "      <td>-0.059752</td>\n",
       "      <td>378.66</td>\n",
       "      <td>0</td>\n",
       "    </tr>\n",
       "    <tr>\n",
       "      <th>3</th>\n",
       "      <td>1.0</td>\n",
       "      <td>-0.966272</td>\n",
       "      <td>-0.185226</td>\n",
       "      <td>1.792993</td>\n",
       "      <td>-0.863291</td>\n",
       "      <td>-0.010309</td>\n",
       "      <td>1.247203</td>\n",
       "      <td>0.237609</td>\n",
       "      <td>0.377436</td>\n",
       "      <td>-1.387024</td>\n",
       "      <td>...</td>\n",
       "      <td>-0.108300</td>\n",
       "      <td>0.005274</td>\n",
       "      <td>-0.190321</td>\n",
       "      <td>-1.175575</td>\n",
       "      <td>0.647376</td>\n",
       "      <td>-0.221929</td>\n",
       "      <td>0.062723</td>\n",
       "      <td>0.061458</td>\n",
       "      <td>123.50</td>\n",
       "      <td>0</td>\n",
       "    </tr>\n",
       "    <tr>\n",
       "      <th>4</th>\n",
       "      <td>2.0</td>\n",
       "      <td>-1.158233</td>\n",
       "      <td>0.877737</td>\n",
       "      <td>1.548718</td>\n",
       "      <td>0.403034</td>\n",
       "      <td>-0.407193</td>\n",
       "      <td>0.095921</td>\n",
       "      <td>0.592941</td>\n",
       "      <td>-0.270533</td>\n",
       "      <td>0.817739</td>\n",
       "      <td>...</td>\n",
       "      <td>-0.009431</td>\n",
       "      <td>0.798278</td>\n",
       "      <td>-0.137458</td>\n",
       "      <td>0.141267</td>\n",
       "      <td>-0.206010</td>\n",
       "      <td>0.502292</td>\n",
       "      <td>0.219422</td>\n",
       "      <td>0.215153</td>\n",
       "      <td>69.99</td>\n",
       "      <td>0</td>\n",
       "    </tr>\n",
       "  </tbody>\n",
       "</table>\n",
       "<p>5 rows × 31 columns</p>\n",
       "</div>"
      ],
      "text/plain": [
       "   Time        V1        V2        V3        V4        V5        V6        V7  \\\n",
       "0   0.0 -1.359807 -0.072781  2.536347  1.378155 -0.338321  0.462388  0.239599   \n",
       "1   0.0  1.191857  0.266151  0.166480  0.448154  0.060018 -0.082361 -0.078803   \n",
       "2   1.0 -1.358354 -1.340163  1.773209  0.379780 -0.503198  1.800499  0.791461   \n",
       "3   1.0 -0.966272 -0.185226  1.792993 -0.863291 -0.010309  1.247203  0.237609   \n",
       "4   2.0 -1.158233  0.877737  1.548718  0.403034 -0.407193  0.095921  0.592941   \n",
       "\n",
       "         V8        V9  ...       V21       V22       V23       V24       V25  \\\n",
       "0  0.098698  0.363787  ... -0.018307  0.277838 -0.110474  0.066928  0.128539   \n",
       "1  0.085102 -0.255425  ... -0.225775 -0.638672  0.101288 -0.339846  0.167170   \n",
       "2  0.247676 -1.514654  ...  0.247998  0.771679  0.909412 -0.689281 -0.327642   \n",
       "3  0.377436 -1.387024  ... -0.108300  0.005274 -0.190321 -1.175575  0.647376   \n",
       "4 -0.270533  0.817739  ... -0.009431  0.798278 -0.137458  0.141267 -0.206010   \n",
       "\n",
       "        V26       V27       V28  Amount  Class  \n",
       "0 -0.189115  0.133558 -0.021053  149.62      0  \n",
       "1  0.125895 -0.008983  0.014724    2.69      0  \n",
       "2 -0.139097 -0.055353 -0.059752  378.66      0  \n",
       "3 -0.221929  0.062723  0.061458  123.50      0  \n",
       "4  0.502292  0.219422  0.215153   69.99      0  \n",
       "\n",
       "[5 rows x 31 columns]"
      ]
     },
     "execution_count": 1,
     "metadata": {},
     "output_type": "execute_result"
    }
   ],
   "source": [
    "import pandas as pd\n",
    "df = pd.read_csv(\"c:/data/creditcard/creditcard.csv\")\n",
    "df.head()"
   ]
  },
  {
   "cell_type": "code",
   "execution_count": 2,
   "metadata": {},
   "outputs": [
    {
     "name": "stderr",
     "output_type": "stream",
     "text": [
      "c:\\Anaconda3\\lib\\site-packages\\seaborn\\_decorators.py:36: FutureWarning: Pass the following variable as a keyword arg: x. From version 0.12, the only valid positional argument will be `data`, and passing other arguments without an explicit keyword will result in an error or misinterpretation.\n",
      "  warnings.warn(\n"
     ]
    },
    {
     "data": {
      "text/plain": [
       "Text(0.5, 1.0, '분류\\n (0: 정상거래, 1: 사기거래)')"
      ]
     },
     "execution_count": 2,
     "metadata": {},
     "output_type": "execute_result"
    },
    {
     "data": {
      "image/png": "[encoded data removed]",
      "text/plain": [
       "<Figure size 640x480 with 1 Axes>"
      ]
     },
     "metadata": {},
     "output_type": "display_data"
    }
   ],
   "source": [
    "import seaborn as sns\n",
    "import matplotlib.pyplot as plt\n",
    "#한글 처리를 위해 폰트 설정\n",
    "from matplotlib import font_manager, rc\n",
    "font_name = font_manager.FontProperties(fname=\"c:/Windows/Fonts/malgun.ttf\").get_name()\n",
    "rc('font', family=font_name)\n",
    "colors = [\"yellow\", \"red\"]\n",
    "sns.countplot('Class', data=df, palette=colors)\n",
    "plt.title('분류\\n (0: 정상거래, 1: 사기거래)', fontsize=14)"
   ]
  },
  {
   "cell_type": "code",
   "execution_count": 3,
   "metadata": {},
   "outputs": [
    {
     "name": "stdout",
     "output_type": "stream",
     "text": [
      "사기거래\n",
      "count     492.000000\n",
      "mean      122.211321\n",
      "std       256.683288\n",
      "min         0.000000\n",
      "25%         1.000000\n",
      "50%         9.250000\n",
      "75%       105.890000\n",
      "max      2125.870000\n",
      "Name: Amount, dtype: float64\n",
      "\n",
      "정상거래\n",
      "count    284315.000000\n",
      "mean         88.291022\n",
      "std         250.105092\n",
      "min           0.000000\n",
      "25%           5.650000\n",
      "50%          22.000000\n",
      "75%          77.050000\n",
      "max       25691.160000\n",
      "Name: Amount, dtype: float64\n"
     ]
    }
   ],
   "source": [
    "print(\"사기거래\")\n",
    "print(df.Amount[df.Class == 1].describe())\n",
    "print()\n",
    "print(\"정상거래\")\n",
    "print(df.Amount[df.Class == 0].describe())\n",
    "# 사기거래 492건, 정상거래 284315건"
   ]
  },
  {
   "cell_type": "code",
   "execution_count": 5,
   "metadata": {},
   "outputs": [
    {
     "name": "stdout",
     "output_type": "stream",
     "text": [
      "Index(['V1', 'V2', 'V3', 'V4', 'V5', 'V6', 'V7', 'V8', 'V9', 'V10', 'V11',\n",
      "       'V12', 'V13', 'V14', 'V15', 'V16', 'V17', 'V18', 'V19', 'V20', 'V21',\n",
      "       'V22', 'V23', 'V24', 'V25', 'V26', 'V27', 'V28', 'Amount'],\n",
      "      dtype='object')\n",
      "         V1        V2        V3        V4        V5        V6        V7  \\\n",
      "0 -1.359807 -0.072781  2.536347  1.378155 -0.338321  0.462388  0.239599   \n",
      "1  1.191857  0.266151  0.166480  0.448154  0.060018 -0.082361 -0.078803   \n",
      "2 -1.358354 -1.340163  1.773209  0.379780 -0.503198  1.800499  0.791461   \n",
      "3 -0.966272 -0.185226  1.792993 -0.863291 -0.010309  1.247203  0.237609   \n",
      "4 -1.158233  0.877737  1.548718  0.403034 -0.407193  0.095921  0.592941   \n",
      "\n",
      "         V8        V9       V10  ...       V20       V21       V22       V23  \\\n",
      "0  0.098698  0.363787  0.090794  ...  0.251412 -0.018307  0.277838 -0.110474   \n",
      "1  0.085102 -0.255425 -0.166974  ... -0.069083 -0.225775 -0.638672  0.101288   \n",
      "2  0.247676 -1.514654  0.207643  ...  0.524980  0.247998  0.771679  0.909412   \n",
      "3  0.377436 -1.387024 -0.054952  ... -0.208038 -0.108300  0.005274 -0.190321   \n",
      "4 -0.270533  0.817739  0.753074  ...  0.408542 -0.009431  0.798278 -0.137458   \n",
      "\n",
      "        V24       V25       V26       V27       V28  Amount  \n",
      "0  0.066928  0.128539 -0.189115  0.133558 -0.021053  149.62  \n",
      "1 -0.339846  0.167170  0.125895 -0.008983  0.014724    2.69  \n",
      "2 -0.689281 -0.327642 -0.139097 -0.055353 -0.059752  378.66  \n",
      "3 -1.175575  0.647376 -0.221929  0.062723  0.061458  123.50  \n",
      "4  0.141267 -0.206010  0.502292  0.219422  0.215153   69.99  \n",
      "\n",
      "[5 rows x 29 columns]\n",
      "0    0\n",
      "1    0\n",
      "2    0\n",
      "3    0\n",
      "4    0\n",
      "Name: Class, dtype: int64\n"
     ]
    }
   ],
   "source": [
    "train_cols = df.columns[1:30]\n",
    "print(train_cols)\n",
    "X = df[train_cols] # 독립변수\n",
    "y = df[\"Class\"]\n",
    "print(df[train_cols].head())\n",
    "print(y.head())"
   ]
  },
  {
   "cell_type": "code",
   "execution_count": 6,
   "metadata": {},
   "outputs": [
    {
     "data": {
      "text/plain": [
       "0    492\n",
       "1    492\n",
       "Name: Class, dtype: int64"
      ]
     },
     "execution_count": 6,
     "metadata": {},
     "output_type": "execute_result"
    }
   ],
   "source": [
    "#언더샘플링\n",
    "from imblearn.under_sampling import RandomUnderSampler\n",
    "X_sample, y_sample = RandomUnderSampler(random_state=0).fit_resample(X, y)\n",
    "X_samp = pd.DataFrame(data=X_sample,columns=train_cols )\n",
    "y_samp = pd.DataFrame(data=y_sample,columns=['Class'])\n",
    "df2=pd.concat([X_samp,y_samp],axis=1)\n",
    "df2[\"Class\"].value_counts()"
   ]
  },
  {
   "cell_type": "code",
   "execution_count": 7,
   "metadata": {},
   "outputs": [],
   "source": [
    "X = X_samp[train_cols] # 독립변수\n",
    "y = y_samp[\"Class\"]"
   ]
  },
  {
   "cell_type": "code",
   "execution_count": 8,
   "metadata": {},
   "outputs": [],
   "source": [
    "from sklearn.model_selection import train_test_split\n",
    "X_train, X_test, y_train, y_test = train_test_split(X, y, test_size=0.2, stratify=y,random_state=10)\n",
    "from keras.models import Sequential\n",
    "from keras.layers import Dense, Dropout"
   ]
  },
  {
   "cell_type": "code",
   "execution_count": 9,
   "metadata": {},
   "outputs": [],
   "source": [
    "# 분류 모델 구현 함수\n",
    "def make_model(input_number, hidden_layers, output_number):\n",
    "    #모델 초기화\n",
    "    model = Sequential(name='model1')\n",
    "    model.add(Dense(hidden_layers[0], activation=\"relu\", input_shape=(input_number,)))\n",
    "    model.add(Dense(hidden_layers[1], activation=\"relu\"))\n",
    "    model.add(Dense(hidden_layers[2], activation=\"relu\"))\n",
    "    # 드롭아웃 계층 Dropout(p) p라는 확률로\n",
    "    # 출력 노드의 신호를 보내다 말다 함, 과적합 방지\n",
    "    # 지정한 비율만큼 랜덤으로 출력을 off 시켜서 과적합을 방지하기 위한 기법\n",
    "    # 앙상블 학습의 효과도 얻을 수 있음(모델이 계속 변함)\n",
    "    model.add(Dropout(0.2, name='Dropout'))\n",
    "    #출력층(시그모이드: 이진분류)\n",
    "    model.add(Dense(output_number, activation=\"sigmoid\", name='Output'))\n",
    "    model.compile(loss=\"mse\", optimizer=\"adam\", metrics=[\"accuracy\"])\n",
    "    return model"
   ]
  },
  {
   "cell_type": "code",
   "execution_count": 17,
   "metadata": {},
   "outputs": [
    {
     "name": "stdout",
     "output_type": "stream",
     "text": [
      "Model: \"model1\"\n",
      "_________________________________________________________________\n",
      " Layer (type)                Output Shape              Param #   \n",
      "=================================================================\n",
      " dense_3 (Dense)             (None, 128)               3840      \n",
      "                                                                 \n",
      " dense_4 (Dense)             (None, 64)                8256      \n",
      "                                                                 \n",
      " dense_5 (Dense)             (None, 32)                2080      \n",
      "                                                                 \n",
      " Dropout (Dropout)           (None, 32)                0         \n",
      "                                                                 \n",
      " Output (Dense)              (None, 1)                 33        \n",
      "                                                                 \n",
      "=================================================================\n",
      "Total params: 14,209\n",
      "Trainable params: 14,209\n",
      "Non-trainable params: 0\n",
      "_________________________________________________________________\n"
     ]
    }
   ],
   "source": [
    "model = make_model(len(X_train.columns), [128,64,32], 1)\n",
    "model.summary()"
   ]
  },
  {
   "cell_type": "code",
   "execution_count": 18,
   "metadata": {},
   "outputs": [
    {
     "data": {
      "image/png": "[encoded data removed]",
      "text/plain": [
       "<IPython.core.display.Image object>"
      ]
     },
     "execution_count": 18,
     "metadata": {},
     "output_type": "execute_result"
    }
   ],
   "source": [
    "from keras.utils import plot_model  \n",
    "plot_model(model,show_shapes=True)"
   ]
  },
  {
   "cell_type": "code",
   "execution_count": 11,
   "metadata": {},
   "outputs": [],
   "source": [
    "X_train_scaled=X_train\n",
    "X_test_scaled=X_test"
   ]
  },
  {
   "cell_type": "code",
   "execution_count": 19,
   "metadata": {},
   "outputs": [
    {
     "data": {
      "text/plain": [
       "'c:/logs/20230417-112021'"
      ]
     },
     "execution_count": 19,
     "metadata": {},
     "output_type": "execute_result"
    }
   ],
   "source": [
    "from datetime import datetime  \n",
    "import tensorflow as tf  \n",
    "logdir=\"c:/logs/\" + datetime.now().strftime(\"%Y%m%d-%H%M%S\")  \n",
    "logdir"
   ]
  },
  {
   "cell_type": "code",
   "execution_count": 20,
   "metadata": {},
   "outputs": [
    {
     "name": "stdout",
     "output_type": "stream",
     "text": [
      "Epoch 1/50\n",
      "25/25 [==============================] - 1s 7ms/step - loss: 0.2466 - accuracy: 0.7014\n",
      "Epoch 2/50\n",
      "25/25 [==============================] - 0s 4ms/step - loss: 0.1380 - accuracy: 0.8615\n",
      "Epoch 3/50\n",
      "25/25 [==============================] - 0s 4ms/step - loss: 0.1136 - accuracy: 0.8767\n",
      "Epoch 4/50\n",
      "25/25 [==============================] - 0s 4ms/step - loss: 0.1171 - accuracy: 0.8755\n",
      "Epoch 5/50\n",
      "25/25 [==============================] - 0s 4ms/step - loss: 0.0761 - accuracy: 0.9199\n",
      "Epoch 6/50\n",
      "25/25 [==============================] - 0s 4ms/step - loss: 0.0667 - accuracy: 0.9301\n",
      "Epoch 7/50\n",
      "25/25 [==============================] - 0s 5ms/step - loss: 0.0860 - accuracy: 0.9098\n",
      "Epoch 8/50\n",
      "25/25 [==============================] - 0s 4ms/step - loss: 0.0763 - accuracy: 0.9187\n",
      "Epoch 9/50\n",
      "25/25 [==============================] - 0s 4ms/step - loss: 0.1001 - accuracy: 0.8895\n",
      "Epoch 10/50\n",
      "25/25 [==============================] - 0s 4ms/step - loss: 0.1047 - accuracy: 0.8856\n",
      "Epoch 11/50\n",
      "25/25 [==============================] - 0s 4ms/step - loss: 0.0801 - accuracy: 0.9123\n",
      "Epoch 12/50\n",
      "25/25 [==============================] - 0s 4ms/step - loss: 0.1012 - accuracy: 0.8882\n",
      "Epoch 13/50\n",
      "25/25 [==============================] - 0s 4ms/step - loss: 0.0943 - accuracy: 0.9034\n",
      "Epoch 14/50\n",
      "25/25 [==============================] - 0s 4ms/step - loss: 0.0606 - accuracy: 0.9365\n",
      "Epoch 15/50\n",
      "25/25 [==============================] - 0s 4ms/step - loss: 0.0618 - accuracy: 0.9365\n",
      "Epoch 16/50\n",
      "25/25 [==============================] - 0s 4ms/step - loss: 0.0631 - accuracy: 0.9314\n",
      "Epoch 17/50\n",
      "25/25 [==============================] - 0s 4ms/step - loss: 0.0570 - accuracy: 0.9428\n",
      "Epoch 18/50\n",
      "25/25 [==============================] - 0s 4ms/step - loss: 0.0524 - accuracy: 0.9466\n",
      "Epoch 19/50\n",
      "25/25 [==============================] - 0s 4ms/step - loss: 0.0662 - accuracy: 0.9301\n",
      "Epoch 20/50\n",
      "25/25 [==============================] - 0s 4ms/step - loss: 0.0644 - accuracy: 0.9352\n",
      "Epoch 21/50\n",
      "25/25 [==============================] - 0s 4ms/step - loss: 0.1154 - accuracy: 0.8755\n",
      "Epoch 22/50\n",
      "25/25 [==============================] - 0s 4ms/step - loss: 0.0746 - accuracy: 0.9161\n",
      "Epoch 23/50\n",
      "25/25 [==============================] - 0s 6ms/step - loss: 0.0838 - accuracy: 0.9136\n",
      "Epoch 24/50\n",
      "25/25 [==============================] - 0s 4ms/step - loss: 0.0739 - accuracy: 0.9250\n",
      "Epoch 25/50\n",
      "25/25 [==============================] - 0s 4ms/step - loss: 0.0564 - accuracy: 0.9403\n",
      "Epoch 26/50\n",
      "25/25 [==============================] - 0s 4ms/step - loss: 0.0512 - accuracy: 0.9479\n",
      "Epoch 27/50\n",
      "25/25 [==============================] - 0s 4ms/step - loss: 0.0409 - accuracy: 0.9568\n",
      "Epoch 28/50\n",
      "25/25 [==============================] - 0s 4ms/step - loss: 0.0481 - accuracy: 0.9517\n",
      "Epoch 29/50\n",
      "25/25 [==============================] - 0s 4ms/step - loss: 0.0455 - accuracy: 0.9530\n",
      "Epoch 30/50\n",
      "25/25 [==============================] - 0s 5ms/step - loss: 0.1334 - accuracy: 0.8577\n",
      "Epoch 31/50\n",
      "25/25 [==============================] - 0s 5ms/step - loss: 0.1615 - accuracy: 0.8297\n",
      "Epoch 32/50\n",
      "25/25 [==============================] - 0s 4ms/step - loss: 0.0570 - accuracy: 0.9390\n",
      "Epoch 33/50\n",
      "25/25 [==============================] - 0s 4ms/step - loss: 0.0458 - accuracy: 0.9543\n",
      "Epoch 34/50\n",
      "25/25 [==============================] - 0s 4ms/step - loss: 0.0799 - accuracy: 0.9199\n",
      "Epoch 35/50\n",
      "25/25 [==============================] - 0s 4ms/step - loss: 0.0972 - accuracy: 0.9009\n",
      "Epoch 36/50\n",
      "25/25 [==============================] - 0s 5ms/step - loss: 0.0546 - accuracy: 0.9441\n",
      "Epoch 37/50\n",
      "25/25 [==============================] - 0s 5ms/step - loss: 0.0463 - accuracy: 0.9530\n",
      "Epoch 38/50\n",
      "25/25 [==============================] - 0s 5ms/step - loss: 0.0420 - accuracy: 0.9568\n",
      "Epoch 39/50\n",
      "25/25 [==============================] - 0s 4ms/step - loss: 0.0638 - accuracy: 0.9301\n",
      "Epoch 40/50\n",
      "25/25 [==============================] - 0s 4ms/step - loss: 0.0579 - accuracy: 0.9403\n",
      "Epoch 41/50\n",
      "25/25 [==============================] - 0s 4ms/step - loss: 0.0450 - accuracy: 0.9543\n",
      "Epoch 42/50\n",
      "25/25 [==============================] - 0s 4ms/step - loss: 0.0540 - accuracy: 0.9441\n",
      "Epoch 43/50\n",
      "25/25 [==============================] - 0s 5ms/step - loss: 0.0441 - accuracy: 0.9555\n",
      "Epoch 44/50\n",
      "25/25 [==============================] - 0s 4ms/step - loss: 0.0392 - accuracy: 0.9606\n",
      "Epoch 45/50\n",
      "25/25 [==============================] - 0s 5ms/step - loss: 0.0442 - accuracy: 0.9543\n",
      "Epoch 46/50\n",
      "25/25 [==============================] - 0s 4ms/step - loss: 0.0602 - accuracy: 0.9365\n",
      "Epoch 47/50\n",
      "25/25 [==============================] - 0s 4ms/step - loss: 0.2624 - accuracy: 0.7255\n",
      "Epoch 48/50\n",
      "25/25 [==============================] - 0s 4ms/step - loss: 0.1571 - accuracy: 0.8361\n",
      "Epoch 49/50\n",
      "25/25 [==============================] - 0s 5ms/step - loss: 0.0589 - accuracy: 0.9416\n",
      "Epoch 50/50\n",
      "25/25 [==============================] - 0s 5ms/step - loss: 0.0444 - accuracy: 0.9530\n"
     ]
    }
   ],
   "source": [
    "tensorboard_callback = tf.keras.callbacks.TensorBoard(log_dir=logdir)  \n",
    "hist = model.fit(X_train_scaled, y_train, epochs=50,callbacks=[tensorboard_callback])"
   ]
  },
  {
   "cell_type": "code",
   "execution_count": 12,
   "metadata": {},
   "outputs": [
    {
     "name": "stdout",
     "output_type": "stream",
     "text": [
      "Epoch 1/10\n",
      "25/25 [==============================] - 2s 4ms/step - loss: 0.2438 - accuracy: 0.6557\n",
      "Epoch 2/10\n",
      "25/25 [==============================] - 0s 4ms/step - loss: 0.1544 - accuracy: 0.8399\n",
      "Epoch 3/10\n",
      "25/25 [==============================] - 0s 4ms/step - loss: 0.1141 - accuracy: 0.8844\n",
      "Epoch 4/10\n",
      "25/25 [==============================] - 0s 4ms/step - loss: 0.1444 - accuracy: 0.8424\n",
      "Epoch 5/10\n",
      "25/25 [==============================] - 0s 4ms/step - loss: 0.1091 - accuracy: 0.8793\n",
      "Epoch 6/10\n",
      "25/25 [==============================] - 0s 4ms/step - loss: 0.0652 - accuracy: 0.9276\n",
      "Epoch 7/10\n",
      "25/25 [==============================] - 0s 4ms/step - loss: 0.0729 - accuracy: 0.9225\n",
      "Epoch 8/10\n",
      "25/25 [==============================] - 0s 5ms/step - loss: 0.0965 - accuracy: 0.8983\n",
      "Epoch 9/10\n",
      "25/25 [==============================] - 0s 5ms/step - loss: 0.1212 - accuracy: 0.8666\n",
      "Epoch 10/10\n",
      "25/25 [==============================] - 0s 5ms/step - loss: 0.1053 - accuracy: 0.8907\n"
     ]
    }
   ],
   "source": [
    "# 모델 학습\n",
    "hist = model.fit(X_train_scaled, y_train, epochs=10)"
   ]
  },
  {
   "cell_type": "code",
   "execution_count": 13,
   "metadata": {},
   "outputs": [
    {
     "data": {
      "image/png": "[encoded data removed]",
      "text/plain": [
       "<Figure size 1200x800 with 1 Axes>"
      ]
     },
     "metadata": {},
     "output_type": "display_data"
    }
   ],
   "source": [
    "# 모델 학습 과정 표시\n",
    "plt.figure(figsize=(12,8))\n",
    "plt.plot(hist.history['loss']) #손실률\n",
    "plt.plot(hist.history['accuracy']) #정확도\n",
    "plt.legend(['loss','accuracy'])\n",
    "plt.grid()\n",
    "plt.show()"
   ]
  },
  {
   "cell_type": "code",
   "execution_count": 14,
   "metadata": {},
   "outputs": [
    {
     "name": "stdout",
     "output_type": "stream",
     "text": [
      "25/25 [==============================] - 0s 4ms/step - loss: 0.0960 - accuracy: 0.9022\n",
      "[0.09604357182979584, 0.902160108089447]\n",
      "accuracy: 90.22%\n"
     ]
    }
   ],
   "source": [
    "# 모델 평가\n",
    "scores = model.evaluate(X_train_scaled, y_train, verbose=1)\n",
    "print(scores)\n",
    "print(\"%s: %.2f%%\" %(model.metrics_names[1], scores[1]*100))\n",
    "#학습용"
   ]
  },
  {
   "cell_type": "code",
   "execution_count": 15,
   "metadata": {},
   "outputs": [
    {
     "name": "stdout",
     "output_type": "stream",
     "text": [
      "7/7 [==============================] - 0s 5ms/step - loss: 0.1266 - accuracy: 0.8579\n",
      "[0.12658457458019257, 0.8578680157661438]\n",
      "accuracy: 85.79%\n"
     ]
    }
   ],
   "source": [
    "scores = model.evaluate(X_test_scaled, y_test, verbose=1)\n",
    "print(scores)\n",
    "print(\"%s: %.2f%%\" %(model.metrics_names[1], scores[1]*100))\n",
    "#검증용"
   ]
  },
  {
   "cell_type": "code",
   "execution_count": 21,
   "metadata": {},
   "outputs": [
    {
     "name": "stdout",
     "output_type": "stream",
     "text": [
      "7/7 [==============================] - 0s 3ms/step\n",
      "[[1.0000000e+00]\n",
      " [2.6809587e-07]\n",
      " [9.9029750e-01]\n",
      " [1.2551885e-03]\n",
      " [1.0000000e+00]]\n",
      "[[1.]\n",
      " [0.]\n",
      " [1.]\n",
      " [0.]\n",
      " [1.]]\n"
     ]
    }
   ],
   "source": [
    "import numpy as np\n",
    "pred=model.predict(X_test)\n",
    "print(pred[:5])\n",
    "print(np.round(pred[:5]))"
   ]
  },
  {
   "cell_type": "code",
   "execution_count": 22,
   "metadata": {},
   "outputs": [],
   "source": [
    "model.save('c:/data/creditcard/creditcard.h5')"
   ]
  },
  {
   "cell_type": "code",
   "execution_count": 23,
   "metadata": {},
   "outputs": [
    {
     "name": "stdout",
     "output_type": "stream",
     "text": [
      "INFO:tensorflow:Assets written to: c:/data/creditcard/model\\assets\n"
     ]
    }
   ],
   "source": [
    "model.save('c:/data/creditcard/model')"
   ]
  }
 ],
 "metadata": {
  "kernelspec": {
   "display_name": "base",
   "language": "python",
   "name": "python3"
  },
  "language_info": {
   "codemirror_mode": {
    "name": "ipython",
    "version": 3
   },
   "file_extension": ".py",
   "mimetype": "text/x-python",
   "name": "python",
   "nbconvert_exporter": "python",
   "pygments_lexer": "ipython3",
   "version": "3.9.13"
  },
  "orig_nbformat": 4
 },
 "nbformat": 4,
 "nbformat_minor": 2
}
