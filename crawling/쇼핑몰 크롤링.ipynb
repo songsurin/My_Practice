{
 "cells": [
  {
   "cell_type": "code",
   "execution_count": 102,
   "id": "59c0e6e4",
   "metadata": {},
   "outputs": [
    {
     "name": "stderr",
     "output_type": "stream",
     "text": [
      "지정된 경로를 찾을 수 없습니다.\n",
      "지정된 경로를 찾을 수 없습니다.\n",
      "지정된 경로를 찾을 수 없습니다.\n"
     ]
    }
   ],
   "source": [
    "!apt-get update > /dev/null 2>&1\n",
    "!pip install selenium > /dev/null 2>&1\n",
    "!apt install chromeium-chromedriver > /dev/null 2>&1"
   ]
  },
  {
   "cell_type": "code",
   "execution_count": 103,
   "id": "3e15e6e3",
   "metadata": {},
   "outputs": [],
   "source": [
    "import requests\n",
    "import pandas as pd\n",
    "from bs4 import BeautifulSoup\n",
    "import time\n",
    "from selenium import webdriver\n",
    "from selenium.webdriver.common.keys import Keys\n",
    "from selenium.webdriver.common.by import By"
   ]
  },
  {
   "cell_type": "code",
   "execution_count": 106,
   "id": "8c85bbe4",
   "metadata": {},
   "outputs": [
    {
     "ename": "AttributeError",
     "evalue": "'Options' object has no attribute 'add'",
     "output_type": "error",
     "traceback": [
      "\u001b[1;31m---------------------------------------------------------------------------\u001b[0m",
      "\u001b[1;31mAttributeError\u001b[0m                            Traceback (most recent call last)",
      "\u001b[1;32m~\\AppData\\Local\\Temp\\ipykernel_11060\\1071778220.py\u001b[0m in \u001b[0;36m<module>\u001b[1;34m\u001b[0m\n\u001b[0;32m      1\u001b[0m \u001b[0moptions\u001b[0m\u001b[1;33m=\u001b[0m\u001b[0mwebdriver\u001b[0m\u001b[1;33m.\u001b[0m\u001b[0mChromeOptions\u001b[0m\u001b[1;33m(\u001b[0m\u001b[1;33m)\u001b[0m\u001b[1;33m\u001b[0m\u001b[1;33m\u001b[0m\u001b[0m\n\u001b[1;32m----> 2\u001b[1;33m \u001b[0moptions\u001b[0m\u001b[1;33m.\u001b[0m\u001b[0madd\u001b[0m\u001b[1;33m.\u001b[0m\u001b[0margument\u001b[0m\u001b[1;33m(\u001b[0m\u001b[1;34m'--headless'\u001b[0m\u001b[1;33m)\u001b[0m\u001b[1;33m\u001b[0m\u001b[1;33m\u001b[0m\u001b[0m\n\u001b[0m\u001b[0;32m      3\u001b[0m \u001b[0moptions\u001b[0m\u001b[1;33m.\u001b[0m\u001b[0madd\u001b[0m\u001b[1;33m.\u001b[0m\u001b[0margument\u001b[0m\u001b[1;33m(\u001b[0m\u001b[1;34m'--no-sandbox'\u001b[0m\u001b[1;33m)\u001b[0m\u001b[1;33m\u001b[0m\u001b[1;33m\u001b[0m\u001b[0m\n\u001b[0;32m      4\u001b[0m \u001b[0moptions\u001b[0m\u001b[1;33m.\u001b[0m\u001b[0madd\u001b[0m\u001b[1;33m.\u001b[0m\u001b[0margument\u001b[0m\u001b[1;33m(\u001b[0m\u001b[1;34m'--single-process'\u001b[0m\u001b[1;33m)\u001b[0m\u001b[1;33m\u001b[0m\u001b[1;33m\u001b[0m\u001b[0m\n\u001b[0;32m      5\u001b[0m \u001b[0moptions\u001b[0m\u001b[1;33m.\u001b[0m\u001b[0madd\u001b[0m\u001b[1;33m.\u001b[0m\u001b[0margument\u001b[0m\u001b[1;33m(\u001b[0m\u001b[1;34m'--disable-dev-shm-usage'\u001b[0m\u001b[1;33m)\u001b[0m\u001b[1;33m\u001b[0m\u001b[1;33m\u001b[0m\u001b[0m\n",
      "\u001b[1;31mAttributeError\u001b[0m: 'Options' object has no attribute 'add'"
     ]
    }
   ],
   "source": [
    "options=webdriver.ChromeOptions()\n",
    "options.add.argument('--headless')\n",
    "options.add.argument('--no-sandbox')\n",
    "options.add.argument('--single-process')\n",
    "options.add.argument('--disable-dev-shm-usage')\n",
    "driver=webdriver.Chrome('chromedriver', options=options)"
   ]
  },
  {
   "cell_type": "code",
   "execution_count": 139,
   "id": "9f6c2961",
   "metadata": {},
   "outputs": [],
   "source": [
    "url='https://www.danawa.com/?src=adwords&kw=GA0000020&gclid=CjwKCAiA5Y6eBhAbEiwA_2ZWIXM_kikDInXiiPvVBC3x2iTJupVnh2KJ_dtFgHGbGuo0cINq0VxykBoCUEkQAvD_BwE'\n",
    "driver=webdriver.Chrome()\n",
    "driver.get(url)"
   ]
  },
  {
   "cell_type": "code",
   "execution_count": 140,
   "id": "e06766db",
   "metadata": {},
   "outputs": [],
   "source": [
    "driver.find_element(By.ID, value='AKCSearch').send_keys('무선청소기')\n",
    "driver.find_element(By.CSS_SELECTOR, value='.search__submit').click()"
   ]
  },
  {
   "cell_type": "code",
   "execution_count": 141,
   "id": "74f95fdf",
   "metadata": {},
   "outputs": [
    {
     "data": {
      "text/plain": [
       "44"
      ]
     },
     "execution_count": 141,
     "metadata": {},
     "output_type": "execute_result"
    }
   ],
   "source": [
    "soup = BeautifulSoup(driver.page_source, 'html.parser')\n",
    "lis = soup.select('ul.product_list > li.prod_item')\n",
    "len(lis)"
   ]
  },
  {
   "cell_type": "markdown",
   "id": "a94e3c7c",
   "metadata": {},
   "source": [
    "### 1. 다나와 데이터 수집(1페이지 크롤링)"
   ]
  },
  {
   "cell_type": "code",
   "execution_count": 142,
   "id": "92f65e65",
   "metadata": {},
   "outputs": [
    {
     "data": {
      "text/plain": [
       "<li class=\"prod_item\" id=\"productItem15170318\">\n",
       "<input id=\"productItem_categoryInfo_15170318\" type=\"hidden\" value=\"생활가전_청소기\"/>\n",
       "<input id=\"min_price_15170318\" type=\"hidden\" value=\"458920\"/>\n",
       "<div class=\"prod_main_info\">\n",
       "<div class=\"thumb_image\">\n",
       "<a class=\"thumb_link click_log_product_standard_img_\" href=\"https://prod.danawa.com/info/?pcode=15170318&amp;keyword=%EB%AC%B4%EC%84%A0%EC%B2%AD%EC%86%8C%EA%B8%B0&amp;cate=10325109\" id=\"thumbLink_15170318\" onmousedown=\"_trkEventLog('통합검색_상품블로그_유입');\" target=\"_blank\">\n",
       "<img alt=\"제트 VS20A956A3\" onerror=\"this.onerror=null; this.src='//img.danawa.com/new/noData/img/noImg_160.gif';\" src=\"//img.danawa.com/prod_img/500000/318/170/img/15170318_1.jpg?shrink=130:130&amp;_v=20210906145334\"/>\n",
       "</a>\n",
       "<a class=\"btn_view_zoom\" data-assemblygallerycategory=\"N\" href=\"#\" id=\"imageZoom_15170318\" onclick=\"return false;\">\n",
       "<span class=\"ico i_zoom_vw\"></span>이미지보기\n",
       "\t\t\t\t\t\t\t\t\t\t</a>\n",
       "<input id=\"hidden_cate_sub_c1\" type=\"hidden\" value=\"72\"/>\n",
       "<input id=\"hidden_cate_sub_c2\" type=\"hidden\" value=\"80\"/>\n",
       "<input id=\"hidden_cate_sub_c3\" type=\"hidden\" value=\"81\"/>\n",
       "<div class=\"img_selector\">\n",
       "<a class=\"sel_item\" href=\"#\" onclick=\"return false;\" title=\"상품 색상\">\n",
       "<span class=\"hide_indent sub_color_w100\" style=\"background-color:#1C4587;\">상품 색상</span>\n",
       "</a>\n",
       "<a class=\"sel_item\" href=\"#\" onclick=\"return false;\" title=\"상품 색상\">\n",
       "<span class=\"hide_indent sub_color_w100\" style=\"background-color:#FFFFFF;\">상품 색상</span>\n",
       "</a>\n",
       "<a class=\"sel_item\" href=\"#\" onclick=\"return false;\" title=\"상품 색상\">\n",
       "<span class=\"hide_indent sub_color_w100\" style=\"background-color:#6AA84F;\">상품 색상</span>\n",
       "</a>\n",
       "</div>\n",
       "</div>\n",
       "<div class=\"prod_info\">\n",
       "<p class=\"prod_name\">\n",
       "<a class=\"click_log_product_standard_title_\" href=\"https://prod.danawa.com/info/?pcode=15170318&amp;keyword=%EB%AC%B4%EC%84%A0%EC%B2%AD%EC%86%8C%EA%B8%B0&amp;cate=10325109\" onmousedown=\"_trkEventLog('통합검색_상품블로그_유입'); doCTR('%EB%AC%B4%EC%84%A0%EC%B2%AD%EC%86%8C%EA%B8%B0','15170318',1);\" target=\"_blank\">삼성전자 비스포크 제트 VS20A956A3</a>\n",
       "</p>\n",
       "<div class=\"prod_intro\">\n",
       "<p class=\"intro_text\">배터리 1개+물걸레, 침구, 펫브러쉬 제외 액세서리 4종 구성 (청소기+청정스테이션 합포장)</p>\n",
       "</div>\n",
       "<dl class=\"prod_spec_set\">\n",
       "<dt class=\"screen_out\">상세 스펙</dt>\n",
       "<dd>\n",
       "<div class=\"spec_list\">\n",
       "<a class=\"view_dic\" href=\"#\" onclick=\"$.termDicViewLink(8501, 'view', this, 0, 72, 80); return false;\">핸디스틱<b>청소기</b></a>\n",
       "\t\t\t\t\t\t\t\t\t\t\t\t / \t\t\t\t\t\t\t\t\t\t\t\t\t\t\t\t\t\t\t\t\t\t\t\t\t\t\t\t\t\t<a class=\"view_dic\" href=\"#\" onclick=\"$.termDicViewLink(14900, 'view', this, 0, 72, 80); return false;\">무선형</a>\n",
       "\t\t\t\t\t\t\t\t\t\t\t\t / 흡입전용 / \t\t\t\t\t\t\t\t\t\t\t\t\t\t\t\t\t\t\t\t\t\t\t\t\t\t\t\t\t\t<a class=\"view_dic\" href=\"#\" onclick=\"$.termDicViewLink(3996, 'view', this, 0, 72, 80); return false;\">흡입력</a>\n",
       "\t\t\t\t\t\t\t\t\t\t\t\t: \t\t\t\t\t\t\t\t\t\t\t\t\t\t\t\t\t\t\t\t\t\t\t\t\t\t\t\t\t\t<a class=\"view_dic\" href=\"#\" onclick=\"$.termDicViewLink(3996, 'view', this, 0, 72, 80); return false;\">210W</a>\n",
       "\t\t\t\t\t\t\t\t\t\t\t\t / <br/><span class=\"cm_mark\">[구성]</span> <a class=\"view_dic\" href=\"#\" onclick=\"$.termDicViewLink(18333, 'view', this, 0, 72, 80); return false;\">바닥</a>\n",
       "\t\t\t\t\t\t\t\t\t\t\t\t / \t\t\t\t\t\t\t\t\t\t\t\t\t\t\t\t\t\t\t\t\t\t\t\t\t\t\t\t\t\t<a class=\"view_dic\" href=\"#\" onclick=\"$.termDicViewLink(18442, 'view', this, 0, 72, 80); return false;\">솔형</a>\n",
       "\t\t\t\t\t\t\t\t\t\t\t\t / \t\t\t\t\t\t\t\t\t\t\t\t\t\t\t\t\t\t\t\t\t\t\t\t\t\t\t\t\t\t<a class=\"view_dic\" href=\"#\" onclick=\"$.termDicViewLink(18436, 'view', this, 0, 72, 80); return false;\">틈새</a>\n",
       "\t\t\t\t\t\t\t\t\t\t\t\t / \t\t\t\t\t\t\t\t\t\t\t\t\t\t\t\t\t\t\t\t\t\t\t\t\t\t\t\t\t\t<a class=\"view_dic\" href=\"#\" onclick=\"$.termDicViewLink(27313, 'view', this, 0, 72, 80); return false;\">연장툴</a>\n",
       "\t\t\t\t\t\t\t\t\t\t\t\t / \t\t\t\t\t\t\t\t\t\t\t\t\t\t\t\t\t\t\t\t\t\t\t\t\t\t\t\t\t\t<a class=\"view_dic\" href=\"#\" onclick=\"$.termDicViewLink(218109, 'view', this, 0, 72, 80); return false;\">청정스테이션</a>\n",
       "\t\t\t\t\t\t\t\t\t\t\t\t / <br/><span class=\"cm_mark\">[배터리]</span> <a class=\"view_dic\" href=\"#\" onclick=\"$.termDicViewLink(217578, 'view', this, 0, 72, 80); return false;\">분리형 (1개)</a>\n",
       "\t\t\t\t\t\t\t\t\t\t\t\t / \t\t\t\t\t\t\t\t\t\t\t\t\t\t\t\t\t\t\t\t\t\t\t\t\t\t\t\t\t\t<a class=\"view_dic\" href=\"#\" onclick=\"$.termDicViewLink(14921, 'view', this, 0, 72, 80); return false;\">충전시간</a>\n",
       "\t\t\t\t\t\t\t\t\t\t\t\t: \t\t\t\t\t\t\t\t\t\t\t\t\t\t\t\t\t\t\t\t\t\t\t\t\t\t\t\t\t\t<a class=\"view_dic\" href=\"#\" onclick=\"$.termDicViewLink(14921, 'view', this, 0, 72, 80); return false;\">3시간30분</a>\n",
       "\t\t\t\t\t\t\t\t\t\t\t\t / \t\t\t\t\t\t\t\t\t\t\t\t\t\t\t\t\t\t\t\t\t\t\t\t\t\t\t\t\t\t<a class=\"view_dic\" href=\"#\" onclick=\"$.termDicViewLink(8515, 'view', this, 0, 72, 80); return false;\">사용시간(개당)</a>\n",
       "\t\t\t\t\t\t\t\t\t\t\t\t: \t\t\t\t\t\t\t\t\t\t\t\t\t\t\t\t\t\t\t\t\t\t\t\t\t\t\t\t\t\t<a class=\"view_dic\" href=\"#\" onclick=\"$.termDicViewLink(8515, 'view', this, 0, 72, 80); return false;\">1시간</a>\n",
       "\t\t\t\t\t\t\t\t\t\t\t\t / <br/><span class=\"cm_mark\">[성능]</span> <a class=\"view_dic\" href=\"#\" onclick=\"$.termDicViewLink(27442, 'view', this, 0, 72, 80); return false;\">디지털인버터모터</a>\n",
       "\t\t\t\t\t\t\t\t\t\t\t\t / \t\t\t\t\t\t\t\t\t\t\t\t\t\t\t\t\t\t\t\t\t\t\t\t\t\t\t\t\t\t<a class=\"view_dic\" href=\"#\" onclick=\"$.termDicViewLink(30024, 'view', this, 0, 72, 80); return false;\">5단계여과</a>\n",
       "\t\t\t\t\t\t\t\t\t\t\t\t / <br/><span class=\"cm_mark\">[기능]</span> 물걸레(별도구매) / \t\t\t\t\t\t\t\t\t\t\t\t\t\t\t\t\t\t\t\t\t\t\t\t\t\t\t\t\t\t<a class=\"view_dic\" href=\"#\" onclick=\"$.termDicViewLink(30484, 'view', this, 0, 72, 80); return false;\">디스플레이표시창</a>\n",
       "\t\t\t\t\t\t\t\t\t\t\t\t / \t\t\t\t\t\t\t\t\t\t\t\t\t\t\t\t\t\t\t\t\t\t\t\t\t\t\t\t\t\t<a class=\"view_dic\" href=\"#\" onclick=\"$.termDicViewLink(216261, 'view', this, 0, 72, 80); return false;\">자동물공급</a>\n",
       "\t\t\t\t\t\t\t\t\t\t\t\t / \t\t\t\t\t\t\t\t\t\t\t\t\t\t\t\t\t\t\t\t\t\t\t\t\t\t\t\t\t\t<a class=\"view_dic\" href=\"#\" onclick=\"$.termDicViewLink(27321, 'view', this, 0, 72, 80); return false;\">배터리잔량표시</a>\n",
       "\t\t\t\t\t\t\t\t\t\t\t\t / \t\t\t\t\t\t\t\t\t\t\t\t\t\t\t\t\t\t\t\t\t\t\t\t\t\t\t\t\t\t<a class=\"view_dic\" href=\"#\" onclick=\"$.termDicViewLink(219165, 'view', this, 0, 72, 80); return false;\">자동먼지비움</a>\n",
       "\t\t\t\t\t\t\t\t\t\t\t\t / <br/><span class=\"cm_mark\">[부가]</span> <a class=\"view_dic\" href=\"#\" onclick=\"$.termDicViewLink(214653, 'view', this, 0, 72, 80); return false;\">먼지통용량</a>\n",
       "\t\t\t\t\t\t\t\t\t\t\t\t: \t\t\t\t\t\t\t\t\t\t\t\t\t\t\t\t\t\t\t\t\t\t\t\t\t\t\t\t\t\t<a class=\"view_dic\" href=\"#\" onclick=\"$.termDicViewLink(214653, 'view', this, 0, 72, 80); return false;\">0.5L</a>\n",
       "\t\t\t\t\t\t\t\t\t\t\t\t / \t\t\t\t\t\t\t\t\t\t\t\t\t\t\t\t\t\t\t\t\t\t\t\t\t\t\t\t\t\t<a class=\"view_dic\" href=\"#\" onclick=\"$.termDicViewLink(14854, 'view', this, 0, 72, 80); return false;\">물통용량</a>\n",
       "\t\t\t\t\t\t\t\t\t\t\t\t: \t\t\t\t\t\t\t\t\t\t\t\t\t\t\t\t\t\t\t\t\t\t\t\t\t\t\t\t\t\t<a class=\"view_dic\" href=\"#\" onclick=\"$.termDicViewLink(14854, 'view', this, 0, 72, 80); return false;\">0.15L</a>\n",
       "\t\t\t\t\t\t\t\t\t\t\t\t / \t\t\t\t\t\t\t\t\t\t\t\t\t\t\t\t\t\t\t\t\t\t\t\t\t\t\t\t\t\t<a class=\"view_dic\" href=\"#\" onclick=\"$.termDicViewLink(14771, 'view', this, 0, 72, 80); return false;\">색상</a>\n",
       "\t\t\t\t\t\t\t\t\t\t\t\t: \t\t\t\t\t\t\t\t\t\t\t\t\t\t\t\t\t\t\t\t\t\t\t\t\t\t\t\t\t\t<a class=\"view_dic\" href=\"#\" onclick=\"$.termDicViewLink(14771, 'view', this, 0, 72, 80); return false;\">미드나잇블루</a>\n",
       "\t\t\t\t\t\t\t\t\t\t\t\t / \t\t\t\t\t\t\t\t\t\t\t\t\t\t\t\t\t\t\t\t\t\t\t\t\t\t\t\t\t\t<a class=\"view_dic\" href=\"#\" onclick=\"$.termDicViewLink(27312, 'view', this, 0, 72, 80); return false;\">무게</a>\n",
       "\t\t\t\t\t\t\t\t\t\t\t\t: \t\t\t\t\t\t\t\t\t\t\t\t\t\t\t\t\t\t\t\t\t\t\t\t\t\t\t\t\t\t<a class=\"view_dic\" href=\"#\" onclick=\"$.termDicViewLink(27312, 'view', this, 0, 72, 80); return false;\">2.5kg</a>\n",
       "\t\t\t\t\t\t\t\t\t\t\t\t / 액세서리크래들  / 크기(가로x세로x깊이): 250x930x202mm\t\t\t\t\t\t\t\t\t\t\t</div>\n",
       "</dd>\n",
       "</dl>\n",
       "<div class=\"relation_goods_unit\" id=\"relation_goods_unit_15170318\"><dl class=\"unit_goods_list\"><dt class=\"title_unit\">관련용품▶</dt><dd class=\"unit_lists\"><a class=\"unit_link view_dic\" data-relationcode=\"14407868\" href=\"#\" onclick=\"return false;\">리튬이온배터리</a><span class=\"ucomma\">,</span><a class=\"unit_link view_dic\" data-relationcode=\"14407970\" href=\"#\" onclick=\"return false;\">물걸레브러쉬</a><span class=\"ucomma\">,</span><a class=\"unit_link view_dic\" data-relationcode=\"14415326\" href=\"#\" onclick=\"return false;\">펫브러쉬</a><span class=\"ucomma\">,</span><a class=\"unit_link view_dic\" data-relationcode=\"15103583\" href=\"#\" onclick=\"return false;\">청정스테이션먼지봉투</a></dd></dl></div>\n",
       "<div class=\"prod_rel_content\">\n",
       "<dl class=\"rel_item rel_event\">\n",
       "<dt>기획전</dt>\n",
       "<dd><a href=\"https://plan.danawa.com/info/?nPlanSeq=5574\" rel=\"noopener\" target=\"_blank\">삼성전자 무선청소기\n",
       "모델명 풀어보기</a></dd>\n",
       "</dl>\n",
       "</div>\n",
       "<div class=\"prod_sub_info\">\n",
       "<div class=\"prod_sub_meta\">\n",
       "<dl class=\"meta_item mt_date\">\n",
       "<dt>등록월</dt>\n",
       "<dd>2021.09.</dd>\n",
       "</dl>\n",
       "<dl class=\"meta_item mt_comment\">\n",
       "<dt><span class=\"dt_behind\">상품의견</span></dt>\n",
       "<dd>\n",
       "<div class=\"cnt_star\">\n",
       "<div class=\"point_type_list\">\n",
       "<div class=\"mask\" style=\"width:97%\">\n",
       "</div>\n",
       "</div>\n",
       "<div class=\"point_num\">\n",
       "<strong>4.8</strong>점\n",
       "\t\t\t\t\t\t\t\t\t\t\t\t\t\t\t\t\t</div>\n",
       "</div>\n",
       "<div class=\"cnt_opinion\">\n",
       "\t\t\t\t\t\t\t\t\t\t\t\t\t\t\t\t\t(<a class=\"click_log_prod_content_count\" href=\"https://prod.danawa.com/info/?pcode=15170318&amp;keyword=%EB%AC%B4%EC%84%A0%EC%B2%AD%EC%86%8C%EA%B8%B0&amp;cate=10325109&amp;bookmark=cm_opinion#bookmark_cm_opinion\" onmousedown=\"_trkEventLog('통합검색_상품블로그_유입');\" target=\"_blank\"><strong>2,257</strong></a>건)\n",
       "\t\t\t\t\t\t\t\t\t\t\t\t\t\t\t\t</div>\n",
       "</dd>\n",
       "</dl>\n",
       "<dl class=\"meta_item\">\n",
       "<dt class=\"screen_out\">관심상품</dt>\n",
       "<dd>\n",
       "<a class=\"click_wish_prod click_log_wishList btn_like\" code=\"15170318\" href=\"#\" key=\"\" listtype=\"search_bundle\" onmousedown=\"doCTR('%EB%AC%B4%EC%84%A0%EC%B2%AD%EC%86%8C%EA%B8%B0','15170318',4);\" price=\"458920\" title=\"관심상품에 담기\">관심\n",
       "\t\t\t\t\t\t\t\t\t\t\t\t        </a>\n",
       "</dd>\n",
       "<input id=\"wishListBundleVal_15170318\" type=\"hidden\" value=\"미드나잇블루, VS20A956A3B^15170318**미스티화이트, VS20A956A3W^15170459**우디그린, VS20A956A3N^15170501//삼성전자 비스포크 제트 VS20A956A3//15170318\"/>\n",
       "</dl>\n",
       "</div>\n",
       "<dl class=\"prod_category_location\">\n",
       "<dt class=\"screen_out\">상품분류</dt>\n",
       "<dd>\n",
       "<a href=\"https://prod.danawa.com/list/?cate=10325109\" onmousedown=\"doCTR('%EB%AC%B4%EC%84%A0%EC%B2%AD%EC%86%8C%EA%B8%B0','15170318',3);\" target=\"_blank\"><span>생활가전</span> &gt; <span>청소기</span> &gt; <span>무선청소기</span></a> <div class=\"more_cate_layer\" style=\"display: none; z-index: 1;\">\n",
       "<ul class=\"list_category_location\">\n",
       "</ul>\n",
       "</div>\n",
       "</dd>\n",
       "</dl>\n",
       "</div>\n",
       "</div>\n",
       "<div class=\"prod_pricelist\" data-cate=\"72|80|81|0\">\n",
       "<ul>\n",
       "<li class=\"rank_one\" id=\"productInfoDetail_15170318\" style=\"\">\n",
       "<p class=\"chk_sect\">\n",
       "\t\t\t\t\t\t\t\t\t\t\t\t\t544몰\n",
       "\t\t\t\t\t\t\t\t\t\t\t\t\t<label for=\"prodCompareCheck_15170318\">\n",
       "<input id=\"prodCompareCheck_15170318\" type=\"checkbox\"/><strong>상품비교</strong>\n",
       "</label>\n",
       "<input name=\"compareValue\" type=\"hidden\" value=\"15170318\"/>\n",
       "<input name=\"compareRepValue\" type=\"hidden\" value=\"15170318\"/>\n",
       "</p>\n",
       "<p class=\"price_sect\">\n",
       "<a class=\"click_log_product_standard_price_\" href=\"https://prod.danawa.com/info/?pcode=15170318&amp;keyword=%EB%AC%B4%EC%84%A0%EC%B2%AD%EC%86%8C%EA%B8%B0&amp;cate=10325109\" onmousedown=\"doCTR('%EB%AC%B4%EC%84%A0%EC%B2%AD%EC%86%8C%EA%B8%B0','15170318',1);\" target=\"_blank\"><strong>458,920</strong>원</a>\n",
       "<span class=\"more_btn_wrap\">\n",
       "<button class=\"ico i_more\">가격정보 더보기</button>\n",
       "<span class=\"layer_price_more\" id=\"layer_price_more_15170318\"></span>\n",
       "<span class=\"sep_line\"></span>\n",
       "</span>\n",
       "</p>\n",
       "<p class=\"memory_sect\">\n",
       "<span class=\"rank\">1위</span>\t\t\t\t\t\t\t\t\t\t\t\t\t\t\t\t\t\t\t\t\t\t\t\t\t\t\t미드나잇블루, VS20A956A3B\t\t\t\t\t\t\t\t\t\t\t\t\t\t\t\t\t\t\t\t\t\t\t\t\t\t<a href=\"https://prod.danawa.com/info/?pcode=15170318&amp;keyword=%EB%AC%B4%EC%84%A0%EC%B2%AD%EC%86%8C%EA%B8%B0&amp;cate=10325109\" onmousedown=\"doCTR('%EB%AC%B4%EC%84%A0%EC%B2%AD%EC%86%8C%EA%B8%B0','15170318',1);\" target=\"_blank\">\n",
       "</a>\n",
       "</p>\n",
       "</li>\n",
       "<li id=\"productInfoDetail_15170459\" style=\"\">\n",
       "<p class=\"chk_sect\">\n",
       "\t\t\t\t\t\t\t\t\t\t\t\t\t524몰\n",
       "\t\t\t\t\t\t\t\t\t\t\t\t\t<label for=\"prodCompareCheck_15170459\">\n",
       "<input id=\"prodCompareCheck_15170459\" type=\"checkbox\"/><strong>상품비교</strong>\n",
       "</label>\n",
       "<input name=\"compareValue\" type=\"hidden\" value=\"15170459\"/>\n",
       "<input name=\"compareRepValue\" type=\"hidden\" value=\"15170318\"/>\n",
       "</p>\n",
       "<p class=\"price_sect\">\n",
       "<a class=\"click_log_product_standard_price_\" href=\"https://prod.danawa.com/info/?pcode=15170459&amp;keyword=%EB%AC%B4%EC%84%A0%EC%B2%AD%EC%86%8C%EA%B8%B0&amp;cate=10325109\" onmousedown=\"doCTR('%EB%AC%B4%EC%84%A0%EC%B2%AD%EC%86%8C%EA%B8%B0','15170459',1);\" target=\"_blank\"><strong>459,110</strong>원</a>\n",
       "<span class=\"more_btn_wrap\">\n",
       "<button class=\"ico i_more\">가격정보 더보기</button>\n",
       "<span class=\"layer_price_more\" id=\"layer_price_more_15170459\"></span>\n",
       "<span class=\"sep_line\"></span>\n",
       "</span>\n",
       "</p>\n",
       "<p class=\"memory_sect\">\n",
       "<span class=\"rank\">2위</span>\t\t\t\t\t\t\t\t\t\t\t\t\t\t\t\t\t\t\t\t\t\t\t\t\t\t\t미스티화이트, VS20A956A3W\t\t\t\t\t\t\t\t\t\t\t\t\t\t\t\t\t\t\t\t\t\t\t\t\t\t<a href=\"https://prod.danawa.com/info/?pcode=15170459&amp;keyword=%EB%AC%B4%EC%84%A0%EC%B2%AD%EC%86%8C%EA%B8%B0&amp;cate=10325109\" onmousedown=\"doCTR('%EB%AC%B4%EC%84%A0%EC%B2%AD%EC%86%8C%EA%B8%B0','15170459',1);\" target=\"_blank\">\n",
       "</a>\n",
       "</p>\n",
       "</li>\n",
       "<li id=\"productInfoDetail_15170501\" style=\"\">\n",
       "<p class=\"chk_sect\">\n",
       "\t\t\t\t\t\t\t\t\t\t\t\t\t334몰\n",
       "\t\t\t\t\t\t\t\t\t\t\t\t\t<label for=\"prodCompareCheck_15170501\">\n",
       "<input id=\"prodCompareCheck_15170501\" type=\"checkbox\"/><strong>상품비교</strong>\n",
       "</label>\n",
       "<input name=\"compareValue\" type=\"hidden\" value=\"15170501\"/>\n",
       "<input name=\"compareRepValue\" type=\"hidden\" value=\"15170318\"/>\n",
       "</p>\n",
       "<p class=\"price_sect\">\n",
       "<a class=\"click_log_product_standard_price_\" href=\"https://prod.danawa.com/info/?pcode=15170501&amp;keyword=%EB%AC%B4%EC%84%A0%EC%B2%AD%EC%86%8C%EA%B8%B0&amp;cate=10325109\" onmousedown=\"doCTR('%EB%AC%B4%EC%84%A0%EC%B2%AD%EC%86%8C%EA%B8%B0','15170501',1);\" target=\"_blank\"><strong>480,310</strong>원</a>\n",
       "<span class=\"more_btn_wrap\">\n",
       "<button class=\"ico i_more\">가격정보 더보기</button>\n",
       "<span class=\"layer_price_more\" id=\"layer_price_more_15170501\"></span>\n",
       "<span class=\"sep_line\"></span>\n",
       "</span>\n",
       "</p>\n",
       "<p class=\"memory_sect\">\n",
       "\t\t\t\t\t\t\t\t\t\t\t\t\t\t\t\t\t\t\t\t\t\t\t\t\t\t\t\t\t\t\t\t\t\t\t\t\t\t\t\t우디그린, VS20A956A3N\t\t\t\t\t\t\t\t\t\t\t\t\t\t\t\t\t\t\t\t\t\t\t\t\t\t<a href=\"https://prod.danawa.com/info/?pcode=15170501&amp;keyword=%EB%AC%B4%EC%84%A0%EC%B2%AD%EC%86%8C%EA%B8%B0&amp;cate=10325109\" onmousedown=\"doCTR('%EB%AC%B4%EC%84%A0%EC%B2%AD%EC%86%8C%EA%B8%B0','15170501',1);\" target=\"_blank\">\n",
       "</a>\n",
       "</p>\n",
       "</li>\n",
       "</ul>\n",
       "</div>\n",
       "</div>\n",
       "</li>"
      ]
     },
     "execution_count": 142,
     "metadata": {},
     "output_type": "execute_result"
    }
   ],
   "source": [
    "li=lis[0]\n",
    "li"
   ]
  },
  {
   "cell_type": "code",
   "execution_count": 143,
   "id": "4b39dcb8",
   "metadata": {},
   "outputs": [
    {
     "data": {
      "text/plain": [
       "'삼성전자 비스포크 제트 VS20A956A3'"
      ]
     },
     "execution_count": 143,
     "metadata": {},
     "output_type": "execute_result"
    }
   ],
   "source": [
    "name=li.select_one('p.prod_name > a').get_text().strip()\n",
    "name"
   ]
  },
  {
   "cell_type": "code",
   "execution_count": 146,
   "id": "ed6e7eca",
   "metadata": {},
   "outputs": [
    {
     "data": {
      "text/plain": [
       "'핸디스틱청소기 / 무선형 / 흡입전용 / 흡입력: 210W / [구성] 바닥 / 솔형 / 틈새 / 연장툴 / 청정스테이션 / [배터리] 분리형 (1개) / 충전시간: 3시간30분 / 사용시간(개당): 1시간 / [성능] 디지털인버터모터 / 5단계여과 / [기능] 물걸레(별도구매) / 디스플레이표시창 / 자동물공급 / 배터리잔량표시 / 자동먼지비움 / [부가] 먼지통용량: 0.5L / 물통용량: 0.15L / 색상: 미드나잇블루 / 무게: 2.5kg / 액세서리크래들  / 크기(가로x세로x깊이): 250x930x202mm'"
      ]
     },
     "execution_count": 146,
     "metadata": {},
     "output_type": "execute_result"
    }
   ],
   "source": [
    "info=li.select_one('div.spec_list').get_text().replace('\\t','').replace('\\n','')\n",
    "info"
   ]
  },
  {
   "cell_type": "code",
   "execution_count": 147,
   "id": "fde9b41b",
   "metadata": {},
   "outputs": [
    {
     "data": {
      "text/plain": [
       "'458920'"
      ]
     },
     "execution_count": 147,
     "metadata": {},
     "output_type": "execute_result"
    }
   ],
   "source": [
    "price=li.select_one('p.price_sect > a > strong').text.replace(',','')\n",
    "price"
   ]
  },
  {
   "cell_type": "code",
   "execution_count": 156,
   "id": "9b6bd784",
   "metadata": {},
   "outputs": [
    {
     "name": "stdout",
     "output_type": "stream",
     "text": [
      "40\n",
      "[['삼성전자 비스포크 제트 VS20A956A3', '핸디스틱청소기 / 무선형 / 흡입전용 / 흡입력: 210W / [구성] 바닥 / 솔형 / 틈새 / 연장툴 / 청정스테이션 / [배터리] 분리형 (1개) / 충전시간: 3시간30분 / 사용시간(개당): 1시간 / [성능] 디지털인버터모터 / 5단계여과 / [기능] 물걸레(별도구매) / 디스플레이표시창 / 자동물공급 / 배터리잔량표시 / 자동먼지비움 / [부가] 먼지통용량: 0.5L / 물통용량: 0.15L / 색상: 미드나잇블루 / 무게: 2.5kg / 액세서리크래들  / 크기(가로x세로x깊이): 250x930x202mm', '458920'], ['베이스어스 차량용 청소기 A3 (해외구매)', '차량용청소기 / 무선 / 흡입력: 15,000Pa / 최대출력: 135W / 헤파필터 / 추가노즐: 틈새, 솔브러쉬 / LED라이트 / 사용시간: 45분 / 배터리 잔량표시 / 소음: 75dB / 충전방식: USB C타입 / 충전시간: 3~5시간 / 색상: 블랙, 실버 / 크기: 296x56.5mm', '48360'], ['LG전자 오브제컬렉션 코드제로 A9S AU9982', '핸디스틱청소기 / 무선형 / 흡입+물걸레겸용 / 흡입력: 220W / [구성] 와이드바닥 / 스팀물걸레 / 침구 / 솔형 / 틈새 / 올인원타워 / [배터리] 분리형 (2개) / 충전시간: 4시간 / 사용시간(개당): 1시간 / [성능] 스마트인버터모터 / 헤파필터 / 5단계여과 / [기능] IoT기능 / 디스플레이표시창 / 자동물공급 / LED라이트 / 자동먼지비움 / [부가] 색상: 카밍베이지 / 무게: 2.7kg / 크기(가로x세로x깊이): 300x1120x260mm', '1047800'], ['삼성전자 비스포크 제트 VS20B956AX', '핸디스틱청소기 / 무선형 / 흡입전용 / 흡입력: 220W / [구성] 바닥 / 솔형 / 틈새 / 연장툴 / 청정스테이션 / [배터리] 분리형 (1개) / 충전시간: 3시간30분 / 사용시간(개당): 1시간 / [성능] 디지털인버터모터 / 5단계여과 / [기능] 물걸레(별도구매) / IoT기능 / 디스플레이표시창 / 자동물공급 / LED라이트 / 배터리잔량표시 / 자동먼지비움 / [부가] 먼지통용량: 0.5L / 색상: 산토리니베이지 / 크기(가로x세로x깊이): 250x930x202mm', '539990'], ['샤오미 CLEANFLY 차량용 무선 청소기 4세대 H2 (해외구매)', '차량용청소기 / 무선 / 흡입력: 16,800Pa / 최대출력: 120W / 헤파필터 / 스테인리스 필터 / 추가노즐: 틈새, 솔브러쉬, 연장호스 / 사용시간: 30분 / 소음: 73.8dB / 충전방식: USB C타입 / 배터리용량: 2,000mAh / 색상: 블랙, 화이트 / 크기: 369x72mm / 무게: 560g', '63330'], ['일렉트로룩스 에르고라피도 ZB3512IG', '핸디스틱청소기 / 무선형 / 흡입전용 / [구성] 바닥 / 솔형 / 틈새 / 긴틈새 / [배터리] 내장형 / 충전시간: 4시간 / 사용시간(개당): 35분 / [성능] 4단계여과 / [기능] 셀프스탠딩 / LED라이트 / 배터리잔량표시 / [부가] 먼지통용량: 0.42L / 색상: 아이언그레이 / 무게: 2.5kg / 크기(가로x세로x깊이): 299x689x165mm', '160080'], ['LG전자 코드제로 A9S AT9200BA', '핸디스틱청소기 / 무선형 / 흡입전용 / 흡입력: 200W / [구성] 바닥 / 솔형 / 틈새 / 올인원타워 / [배터리] 분리형 (1개) / 충전시간: 4시간 / 사용시간(개당): 1시간 / [성능] 스마트인버터모터 / 분리형배기필터 / 헤파필터 / 5단계여과 / [기능] 물걸레(별도구매) / IoT기능 / 자동물공급 / 배터리잔량표시 / 자동먼지비움 / [부가] 색상: 블랙+딥그레이 / 무게: 2.6kg / 크기(가로x세로x깊이): 250x1120x260mm', '576860'], ['삼성전자 제트 VS20T92K3QD', '핸디스틱청소기 / 무선형 / 흡입전용 / 흡입력: 200W / [구성] 바닥 / 솔형 / 틈새 / 거치대 / 청정스테이션 / [배터리] 분리형 (1개) / 충전시간: 3시간30분 / 사용시간(개당): 1시간 / [성능] 인버터모터 / 헤파필터 / 5단계여과 / [기능] 물걸레(별도구매) / 디스플레이표시창 / 프리볼트 / [부가] 먼지통용량: 0.6L / 색상: 티탄/그레이 / 무게: 2.64kg / 크기(가로x세로x깊이): 250x1123x215mm', '359980'], ['삼성전자 비스포크 제트 VS20A956AVW', '핸디스틱청소기 / 무선형 / 흡입전용 / 흡입력: 210W / [구성] 바닥 / 솔형 / 틈새 / 청정스테이션 / [배터리] 분리형 (1개) / 충전시간: 3시간30분 / 사용시간(개당): 1시간 / [성능] 디지털인버터모터 / 5단계여과 / [기능] 물걸레(별도구매) / 디스플레이표시창 / 자동물공급 / 배터리잔량표시 / 자동먼지비움 / [부가] 먼지통용량: 0.5L / 색상: 미스티화이트 / 무게: 2.5kg / 크기(가로x세로x깊이): 250x930x202mm', '439060'], ['오아 클린듀얼 차량용 청소기 OCL-028BK', '차량용청소기 / 무선 / 흡입력: 15,000~Pa / 2중필터 / 헤파필터 / 추가노즐: 틈새, 솔브러쉬, 연장호스 / 사용시간: 25분 / 충전시간: 3.5시간 / 크기: 70x54x330mm / 무게 : 520g', '79000'], ['다이슨 V10 앱솔루트', '핸디스틱청소기 / 무선형 / 흡입전용 / [구성] 소프트롤러 / 다이렉트드라이브 / 미니모터 / 솔형 / 더스팅 / 틈새 / 도킹스테이션 / [배터리] 충전시간: 3시간30분 / 사용시간(개당): 1시간 / [기능] 프리볼트 / [부가] 색상: 블루, 코퍼, 블랙 / 무게: 2.5kg / 크기(가로x세로x깊이): 250x1241x256mm', '468880'], ['샤오미 드리미 V10', '핸디스틱청소기 / 무선형 / 흡입전용 / 흡입력: 140AW / 흡입력: 22000Pa / [구성] 바닥 / 침구 / 솔형 / 틈새 / 연장툴 / 거치대 / [배터리] 충전시간: 3시간30분 / 사용시간(개당): 1시간 / [성능] BLDC모터 / 헤파필터 / 5단계여과 / [부가] 먼지통용량: 0.5L / 색상: 화이트 / 무게: 1.5kg', '157730'], ['벤딕트 차량용 핸디 무선 청소기 VDT-031', '차량용청소기 / 무선 / 흡입력: 6,000~15,000Pa / 최대출력: 120W / 헤파필터 / 스테인리스 필터 / 추가노즐: 틈새, 솔브러쉬 / 사용시간: 18~50분 / 충전방식: USB C타입 / 배터리용량: 7,500mAh / 크기: 294x55x55mm / 무게: 500g', '87000'], ['LG전자 오브제컬렉션 코드제로 A9S AU9882', '핸디스틱청소기 / 무선형 / 흡입+물걸레겸용 / 흡입력: 220W / [구성] 와이드바닥 / 스팀물걸레 / 솔형 / 틈새 / 올인원타워 / [배터리] 분리형 (2개) / 충전시간: 4시간 / 사용시간(개당): 1시간 / [성능] 스마트인버터모터 / 헤파필터 / 5단계여과 / [기능] IoT기능 / 디스플레이표시창 / 자동물공급 / LED라이트 / 자동먼지비움 / [부가] 색상: 카밍베이지 / 무게: 2.7kg / 크기(가로x세로x깊이): 300x1120x260mm', '1035470'], ['삼성전자 비스포크 제트 VS20B957D4', '핸디스틱청소기 / 무선형 / 흡입+물걸레겸용 / 흡입력: 220W / [구성] 바닥 / 물걸레 / 솔형 / 틈새 / 청정스테이션 / [배터리] 분리형 (2개) / 충전시간: 3시간30분 / 사용시간(개당): 1시간 / [성능] 디지털인버터모터 / 5단계여과 / [기능] IoT기능 / 디스플레이표시창 / 자동물공급 / LED라이트 / 배터리잔량표시 / 자동먼지비움 / [부가] 먼지통용량: 0.5L / 색상: 페블그레이 / 크기(가로x세로x깊이): 250x930x202mm', '750000'], ['지엔앰주식회사 콜튼 차량용 무선 청소기 에어건 3세대 CT30', '차량용청소기 / 무선 / 흡입력: ~12,000Pa / 헤파필터 / 추가노즐: 틈새 / LED라이트 / 배터리: 7,200mAh /  충전시간: 2.5시간 / 배터리 잔량 표시 / BLDC모터 / 90,000RPM', '98000'], ['아이닉 NEW i20', '핸디스틱청소기 / 무선형 / 흡입전용 / 흡입력: 30000Pa / [구성] 바닥 / 침구 / 솔형 / 틈새 / [배터리] 분리형 (1개) / 충전시간: 5시간 / 사용시간(개당): 50분 / [성능] BLDC모터 / 헤파필터 / 5단계여과 / [기능] 물걸레(별도구매) / 배터리잔량표시 / [부가] 먼지통용량: 0.5L / 색상: 블랙 / 무게: 2.5kg / 크기(가로x세로x깊이): 241x1144x211mm', '179000'], ['다이슨 V10 플러피 오리진', '핸디스틱청소기 / 무선형 / 흡입전용 / 흡입력: 151AW / [구성] 소프트롤러 / 미니모터 / 솔형 / 더스팅 / 틈새 / 도킹스테이션 / [배터리] 충전시간: 3시간30분 / 사용시간(개당): 1시간 / [부가] 먼지통용량: 0.5L / 색상: 레드 / 무게: 2.5kg / 크기(가로x세로x깊이): 256x1241x250mm', '484930'], ['삼성전자 비스포크 제트 VS20B956D5', '핸디스틱청소기 / 무선형 / 흡입+물걸레겸용 / 흡입력: 220W / [구성] 바닥 / 물걸레 / 솔형 / 틈새 / 연장툴 / 청정스테이션 / [배터리] 분리형 (1개) / 충전시간: 3시간30분 / 사용시간(개당): 1시간 / [성능] 디지털인버터모터 / 5단계여과 / [기능] IoT기능 / 디스플레이표시창 / 자동물공급 / LED라이트 / 배터리잔량표시 / 자동먼지비움 / [부가] 먼지통용량: 0.5L / 색상: 산토리니베이지 / 크기(가로x세로x깊이): 250x930x202mm', '610880'], ['샤오미 LYDSTO 차량용 무선 청소기 H2 (해외구매)', '차량용청소기 / 무선 / 흡입력: 16,000Pa / 최대출력: 120W / 헤파필터 / 추가노즐: 틈새, 솔브러쉬 / 사용시간: 32분 / 소음: 85dB 미만 / 충전방식: USB C타입 / 색상: 블랙, 화이트 / 크기: 56x265mm', '38190'], ['삼성전자 비스포크 제트 VS20A957D2', '핸디스틱청소기 / 무선형 / 흡입+물걸레겸용 / 흡입력: 210W / [구성] 바닥 / 물걸레 / 솔형 / 틈새 / 청정스테이션 / [배터리] 분리형 (2개) / 충전시간: 3시간30분 / 사용시간(개당): 1시간 / [성능] 디지털인버터모터 / 5단계여과 / [기능] 디스플레이표시창 / 자동물공급 / 배터리잔량표시 / 자동먼지비움 / [부가] 먼지통용량: 0.5L / 색상: 미드나잇블루 / 무게: 2.5kg / 액세서리크래들  / 크기(가로x세로x깊이): 250x930x202mm', '607990'], ['샤오미 미지아 차량용 핸디 무선 청소기 (해외구매)', '차량용청소기 / 무선 / 흡입력: 13,000Pa / 최대출력: 120W / 헤파필터 / 추가노즐: 틈새, 솔브러쉬 / 사용시간: 9~30분 / 버튼 잠금 장치 / 2단 세기 조절 / 크기: 55x267mm / 무게: 500g', '36800'], ['LG전자 오브제컬렉션 코드제로 A9S AT9201WB', '핸디스틱청소기 / 무선형 / 흡입전용 / 흡입력: 210W / [구성] 바닥 / 솔형 / 틈새 / 올인원타워 / [배터리] 분리형 (1개) / 충전시간: 4시간 / 사용시간(개당): 1시간 / [성능] 스마트인버터모터 / 타공/분리형배기필터 / 헤파필터 / 5단계여과 / [기능] 물걸레(별도구매) / IoT기능 / 자동물공급 / 배터리잔량표시 / 자동먼지비움 / [부가] 색상: 카밍베이지 / 무게: 2.6kg / 크기(가로x세로x깊이): 250x1120x260mm', '664210'], ['LG전자 오브제컬렉션 코드제로 A9S AU9602WD', '핸디스틱청소기 / 무선형 / 흡입전용 / 흡입력: 220W / [구성] 와이드바닥 / 솔형 / 틈새 / 올인원타워 / [배터리] 분리형 (1개) / 충전시간: 4시간 / 사용시간(개당): 1시간 / [성능] 스마트인버터모터 / 헤파필터 / 5단계여과 / [기능] 물걸레(별도구매) / IoT기능 / 디스플레이표시창 / 자동물공급 / LED라이트 / 자동먼지비움 / [부가] 색상: 카밍베이지 / 무게: 2.7kg / 크기(가로x세로x깊이): 300x1120x260mm', '840960'], ['리하스 차량용 미니 무선 청소기 TEB-4120', '차량용청소기 / 무선 / 흡입력: 15,000Pa / 최대출력: 120W / 헤파필터 / 스테인리스 필터 / 추가노즐: 틈새, 솔브러쉬, 연장호스 / 사용시간: 15~28분 / 충전시간: 4~5시간 / 색상: 블랙, 스카이블루, 화이트 / 크기: 415mm / 무게: 520g', '78000'], ['로엘 듀스핀3 PRO', '물걸레청소기 / 회전식 / 물걸레전용 / 무선형 / [배터리] 충전시간: 4시간 / 사용시간(개당): 3시간 / [기능] 물분사 / 각도조절 / 셀프스탠딩 / [부가] 먼지통용량: 0.24L / 색상: 화이트 / 무게: 1.99kg / 자동세척탈수 / 크기(가로x세로x깊이): 360x1160x170mm', '163710'], ['삼성전자 비스포크 제트 VS20B957E5', '핸디스틱청소기 / 무선형 / 흡입+물걸레겸용 / 흡입력: 220W / [구성] 바닥 / 물걸레 / 침구 / 솔형 / 틈새 / 연장툴 / 청정스테이션 / [배터리] 분리형 (1개) / 충전시간: 3시간30분 / 사용시간(개당): 1시간 / [성능] 디지털인버터모터 / 5단계여과 / [기능] IoT기능 / 디스플레이표시창 / 자동물공급 / LED라이트 / 배터리잔량표시 / 자동먼지비움 / [부가] 먼지통용량: 0.5L / 색상: 산토리니베이지 / 크기(가로x세로x깊이): 250x930x202mm', '904800'], ['샤오미 미지아 차량용 핸디 무선 청소기', '차량용청소기 / 무선 / 흡입력: 13,000Pa / 최대출력: 120W / 헤파필터 / 추가노즐: 틈새, 솔브러쉬 / 사용시간: 9~30분 / 버튼 잠금 장치 / 2단 세기 조절 / 크기: 55x267mm / 무게: 500g', '48000'], ['삼성전자 비스포크 제트 VS20B956BUE', '핸디스틱청소기 / 무선형 / 흡입전용 / 흡입력: 220W / [구성] 바닥 / 침구 / 솔형 / 틈새 / 연장툴 / 청정스테이션 / [배터리] 분리형 (1개) / 충전시간: 3시간30분 / 사용시간(개당): 1시간 / [성능] 디지털인버터모터 / 5단계여과 / [기능] 물걸레(별도구매) / IoT기능 / 디스플레이표시창 / 자동물공급 / LED라이트 / 배터리잔량표시 / 자동먼지비움 / [부가] 먼지통용량: 0.5L / 색상: 산토리니베이지 / 크기(가로x세로x깊이): 250x930x202mm', '565910'], ['LG전자 오브제컬렉션 코드제로 A9S AO9571', '핸디스틱청소기 / 무선형 / 흡입+물걸레겸용 / 흡입력: 210W / [구성] 바닥 / 물걸레 / 침구 / 솔형 / 틈새 / 올인원타워 / [배터리] 분리형 (2개) / 충전시간: 4시간 / 사용시간(개당): 1시간 / [성능] 스마트인버터모터 / 분리형배기필터 / 헤파필터 / 5단계여과 / [기능] IoT기능 / 자동물공급 / 배터리잔량표시 / 자동먼지비움 / [부가] 색상: 카밍베이지 / 무게: 2.6kg / 크기(가로x세로x깊이): 250x1120x260mm / 출시가: 1,650,000원', '928790'], ['다이슨 Gen5 디텍트™ 컴플리트', '핸디스틱청소기 / 무선형 / 흡입전용 / 흡입력: 262AW / [구성] 플러피옵틱클리너 / 헤어스크류 / 미니모터 / 긴틈새 / 거치대 / [배터리] 분리형 (1개) / 충전시간: 4시간30 / 사용시간(개당): 1시간10분 / [성능] 헤파필터 / [기능] 디스플레이표시창 / 먼지감지센서 / [부가] 먼지통용량: 0.77L / 색상: 퍼플/퍼플 / 무게: 3.5kg / 크기(가로x세로x깊이): 276x1276x250mm', '1320150'], ['LG전자 코드제로 A9S AS9271', '핸디스틱청소기 / 무선형 / 흡입+물걸레겸용 / 흡입력: 210W / [구성] 바닥 / 물걸레 / 솔형 / 틈새 / 거치대 / [배터리] 분리형 (1개) / 충전시간: 4시간 / 사용시간(개당): 1시간 / [성능] 스마트인버터모터 / 분리형배기필터 / 헤파필터 / 5단계여과 / [기능] IoT기능 / 자동물공급 / 배터리잔량표시 / 자동먼지비움 / [부가] 색상: 아이언그레이 / 무게: 2.6kg / 크기(가로x세로x깊이): 250x1120x260mm', '573130'], ['오토코스 차량용 프리미엄 무선 청소기 H2', '차량용청소기 / 무선 / 12V / 흡입력: 20,000Pa / 최대출력: 150W / 2중필터 / 추가노즐: 틈새, 솔브러쉬 / LED라이트 / 사용시간: 30분 / 무게: 530g', '88170'], ['LG전자 코드제로 A9S AT9271', '핸디스틱청소기 / 무선형 / 흡입+물걸레겸용 / 흡입력: 210W / [구성] 바닥 / 물걸레 / 솔형 / 틈새 / 올인원타워 / [배터리] 분리형 (1개) / 충전시간: 4시간 / 사용시간(개당): 1시간 / [성능] 스마트인버터모터 / 분리형배기필터 / 헤파필터 / 5단계여과 / [기능] IoT기능 / 자동물공급 / 배터리잔량표시 / 자동먼지비움 / [부가] 색상: 아이언그레+딥그레이 / 무게: 2.6kg / 크기(가로x세로x깊이): 250x1120x260mm', '669000'], ['샤오미 SHUNZAO 차량용 무선청소기 2세대 Z1 (해외구매)', '차량용청소기 / 무선 / 흡입력: 7,000Pa / 최대출력: 90W / 2중필터 / 추가노즐: 틈새, 솔브러쉬 / LED라이트 / 사용시간: 30분 / 충전방식: USB C타입 / 충전시간: 2시간30분 / 크기: 73x76x336mm / 무게: 700g', '25900'], ['시프이컴 핸디형 차량용 무선 청소기 DK-X112', '차량용청소기 / 무선 / 흡입력: 5200Pa / 추가노즐: 솔브러쉬, 연장호스 / 사용시간: 22분 / 크기: 277x72mm / 무게: 560g', '39900'], ['다이슨 V12 디텍트 슬림 컴플리트', '핸디스틱청소기 / 무선형 / 흡입전용 / 흡입력: 150AW / [구성] 레이저슬림플러피 / 다이렉트드라이브 / 헤어스크류 / 솔형 / 더스팅 / 스터번더트 / 틈새 / 거치대 / 도킹스테이션 / [배터리] 분리형 (1개) / 충전시간: 3시간30분 / 사용시간(개당): 1시간 / [성능] 헤파필터 / [기능] 디스플레이표시창 / 먼지감지센서 / [부가] 먼지통용량: 0.35L / 색상: 옐로우/아이언/니켈, 골드/골드 / 무게: 2.2kg / 크기(가로x세로x깊이): 250x1095x251mm', '870290'], ['LG전자 오브제컬렉션 코드제로 A9S AU9972', '핸디스틱청소기 / 무선형 / 흡입+물걸레겸용 / 흡입력: 220W / [구성] 와이드바닥 / 물걸레 / 침구 / 솔형 / 틈새 / 올인원타워 / [배터리] 분리형 (2개) / 충전시간: 4시간 / 사용시간(개당): 1시간 / [성능] 스마트인버터모터 / 헤파필터 / 5단계여과 / [기능] IoT기능 / 디스플레이표시창 / 자동물공급 / LED라이트 / 자동먼지비움 / [부가] 색상: 카밍베이지 / 무게: 2.7kg / 크기(가로x세로x깊이): 300x1120x260mm', '1108360'], ['LG전자 코드제로 A9S AS9200BA', '핸디스틱청소기 / 무선형 / 흡입전용 / 흡입력: 200W / [구성] 바닥 / 솔형 / 틈새 / 거치대 / [배터리] 분리형 (1개) / 충전시간: 4시간 / 사용시간(개당): 1시간 / [성능] 스마트인버터모터 / 5단계여과 / [기능] 물걸레(별도구매) / IoT기능 / 디스플레이표시창 / 배터리잔량표시 / [부가] 색상: 블랙 / 무게: 2.6kg / 크기(가로x세로x깊이): 250x1120x260mm', '521320'], ['일렉트로룩스 WELL Q6 WQ61-1EDB', '핸디스틱청소기 / 무선형 / 흡입전용 / [구성] 바닥 / 솔형 / 더스팅 / 긴틈새 / 거치대 / [배터리] 내장형 / 충전시간: 4시간30분 / 사용시간(개당): 45분 / [성능] 5단계여과 / [기능] 브러쉬자동청소 / 셀프스탠딩 / LED라이트 / 배터리잔량표시 / [부가] 먼지통용량: 0.3L / 색상: 데님블루 / 무게: 2.65kg / 크기(가로x세로x깊이): 258x1105x140mm', '179200']]\n"
     ]
    }
   ],
   "source": [
    "# 1페이지에 대한 상품정보 추출\n",
    "prod_data = []\n",
    "for li in lis:\n",
    "    # 공백 ('li.prod_itme.product-pot') 제외\n",
    "    if 'product-pot' in li['class']:\n",
    "        continue\n",
    "    try:\n",
    "        name = li.select_one('p.prod_name > a').text.strip()\n",
    "        info = li.select_one('div.spec_list').text.replace('\\t', '').replace('\\n', '')\n",
    "        price = li.select_one('p.price_sect > a > strong').text.strip().replace(',', '')\n",
    "        prod_data.append([name, info, price])\n",
    "    except:\n",
    "        pass\n",
    "print(len(prod_data))\n",
    "print(prod_data)"
   ]
  },
  {
   "cell_type": "code",
   "execution_count": 161,
   "id": "499677a9",
   "metadata": {},
   "outputs": [],
   "source": [
    "# 성품 정보 태그에서 원하는 정보를 추출하는 함수\n",
    "def get_prod_items(prod_items):\n",
    "    prod_data = []\n",
    "    for li in lis:\n",
    "        # 공백 ('li.prod_itme.product-pot') 제외\n",
    "        if 'product-pot' in li['class']:\n",
    "            continue\n",
    "        try:\n",
    "            name = li.select_one('p.prod_name > a').text.strip()\n",
    "            info = li.select_one('div.spec_list').text.replace('\\t', '').replace('\\n', '')\n",
    "            price = li.select_one('li.rank_one > p.price_sect > a > strong').text.strip().replace(',', '')\n",
    "            prod_data.append([name, info, price])\n",
    "        except:\n",
    "            pass\n",
    "    return prod_data"
   ]
  },
  {
   "cell_type": "code",
   "execution_count": 162,
   "id": "770655d9",
   "metadata": {},
   "outputs": [
    {
     "name": "stdout",
     "output_type": "stream",
     "text": [
      "40\n"
     ]
    }
   ],
   "source": [
    "# 상품 정보를 가져오는 함수 테스트\n",
    "prod_items=soup.select('div.main_prodlist > ul.product_list > li.prod_item')\n",
    "prod_data=get_prod_items(prod_items)\n",
    "print(len(prod_data))"
   ]
  },
  {
   "cell_type": "markdown",
   "id": "fd54b5cf",
   "metadata": {},
   "source": [
    "### 2. 여러페이지에 걸친 다나와 검색 페이지 크롤링"
   ]
  },
  {
   "cell_type": "code",
   "execution_count": 163,
   "id": "7cf8b5f2",
   "metadata": {},
   "outputs": [
    {
     "name": "stdout",
     "output_type": "stream",
     "text": [
      "https://search.danawa.com/dsearch.php?query=무선청소기&originalQuery=무선청소기&previousKeyword=무선청소기&volumeType=allvs&page=1&limit=40&sort=saveDESC&list=list&boost=true&addDelivery=N&recommendedSort=Y&defaultUICategoryCode=10325109&defaultPhysicsCategoryCode=72%7C80%7C81%7C0&defaultVmTab=2942&defaultVaTab=719648&tab=main\n"
     ]
    }
   ],
   "source": [
    "# 다나와 검색 URL을 만들어주는 함수\n",
    "def get_search_page_url(keyword, page):\n",
    "    return f'https://search.danawa.com/dsearch.php?query={keyword}&originalQuery={keyword}&previousKeyword={keyword}&volumeType=allvs&page={page}&limit=40&sort=saveDESC&list=list&boost=true&addDelivery=N&recommendedSort=Y&defaultUICategoryCode=10325109&defaultPhysicsCategoryCode=72%7C80%7C81%7C0&defaultVmTab=2942&defaultVaTab=719648&tab=main'\n",
    "\n",
    "keyword='무선청소기'\n",
    "page=1\n",
    "url=get_search_page_url(keyword, page)\n",
    "print(url)"
   ]
  },
  {
   "cell_type": "code",
   "execution_count": 164,
   "id": "dbe07a00",
   "metadata": {},
   "outputs": [],
   "source": [
    "from tqdm.notebook import tqdm"
   ]
  },
  {
   "cell_type": "code",
   "execution_count": 165,
   "id": "09cefb75",
   "metadata": {},
   "outputs": [
    {
     "data": {
      "application/vnd.jupyter.widget-view+json": {
       "model_id": "3daee8c34f0d4965873e2740abbdf01a",
       "version_major": 2,
       "version_minor": 0
      },
      "text/plain": [
       "  0%|          | 0/10 [00:00<?, ?it/s]"
      ]
     },
     "metadata": {},
     "output_type": "display_data"
    }
   ],
   "source": [
    "keyword='무선청소기'\n",
    "total_page=10\n",
    "prod_data_total=[]\n",
    "for page in tqdm(range(1, total_page+1)):\n",
    "    url=get_search_page_url(keyword, page)\n",
    "    driver.get(url)\n",
    "    time.sleep(5)\n",
    "    \n",
    "    html=driver.page_source\n",
    "    soup=BeautifulSoup(html, 'html.parser')\n",
    "    \n",
    "    #상품정보 추출\n",
    "    prod_items=soup.select('div#productListArea > div.main_prodlist > ul.product > li.prod_item')\n",
    "    prod_item_list=get_prod_items(prod_items)\n",
    "    \n",
    "    #추출한 데이터 저장\n",
    "    prod_data_total=prod_data_total+prod_item_list"
   ]
  },
  {
   "cell_type": "code",
   "execution_count": 166,
   "id": "a110dd95",
   "metadata": {},
   "outputs": [
    {
     "data": {
      "text/plain": [
       "400"
      ]
     },
     "execution_count": 166,
     "metadata": {},
     "output_type": "execute_result"
    }
   ],
   "source": [
    "len(prod_data_total)"
   ]
  },
  {
   "cell_type": "markdown",
   "id": "a09429b8",
   "metadata": {},
   "source": [
    "### 3. 수집한 데이터 저장"
   ]
  },
  {
   "cell_type": "code",
   "execution_count": 167,
   "id": "ad6db44d",
   "metadata": {},
   "outputs": [],
   "source": [
    "import pandas as pd\n",
    "df=pd.DataFrame(prod_data_total)\n",
    "df.columns=['상품명','스펙 목록','가격']\n",
    "df.to_csv('danawa_crawling_result.csv', index=False)"
   ]
  },
  {
   "cell_type": "code",
   "execution_count": null,
   "id": "dc5e0e04",
   "metadata": {},
   "outputs": [],
   "source": []
  }
 ],
 "metadata": {
  "kernelspec": {
   "display_name": "Python 3 (ipykernel)",
   "language": "python",
   "name": "python3"
  },
  "language_info": {
   "codemirror_mode": {
    "name": "ipython",
    "version": 3
   },
   "file_extension": ".py",
   "mimetype": "text/x-python",
   "name": "python",
   "nbconvert_exporter": "python",
   "pygments_lexer": "ipython3",
   "version": "3.9.13"
  }
 },
 "nbformat": 4,
 "nbformat_minor": 5
}
