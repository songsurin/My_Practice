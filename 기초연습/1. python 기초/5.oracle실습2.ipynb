{
 "cells": [
  {
   "cell_type": "code",
   "execution_count": 1,
   "metadata": {},
   "outputs": [
    {
     "data": {
      "text/html": [
       "<div>\n",
       "<style scoped>\n",
       "    .dataframe tbody tr th:only-of-type {\n",
       "        vertical-align: middle;\n",
       "    }\n",
       "\n",
       "    .dataframe tbody tr th {\n",
       "        vertical-align: top;\n",
       "    }\n",
       "\n",
       "    .dataframe thead th {\n",
       "        text-align: right;\n",
       "    }\n",
       "</style>\n",
       "<table border=\"1\" class=\"dataframe\">\n",
       "  <thead>\n",
       "    <tr style=\"text-align: right;\">\n",
       "      <th></th>\n",
       "      <th>SepalLength</th>\n",
       "      <th>SepalWidth</th>\n",
       "      <th>PetalLength</th>\n",
       "      <th>PetalWidth</th>\n",
       "      <th>Name</th>\n",
       "      <th>Species</th>\n",
       "    </tr>\n",
       "  </thead>\n",
       "  <tbody>\n",
       "    <tr>\n",
       "      <th>0</th>\n",
       "      <td>5.1</td>\n",
       "      <td>3.5</td>\n",
       "      <td>1.4</td>\n",
       "      <td>0.2</td>\n",
       "      <td>setosa</td>\n",
       "      <td>0</td>\n",
       "    </tr>\n",
       "    <tr>\n",
       "      <th>1</th>\n",
       "      <td>4.9</td>\n",
       "      <td>3.0</td>\n",
       "      <td>1.4</td>\n",
       "      <td>0.2</td>\n",
       "      <td>setosa</td>\n",
       "      <td>0</td>\n",
       "    </tr>\n",
       "    <tr>\n",
       "      <th>2</th>\n",
       "      <td>4.7</td>\n",
       "      <td>3.2</td>\n",
       "      <td>1.3</td>\n",
       "      <td>0.2</td>\n",
       "      <td>setosa</td>\n",
       "      <td>0</td>\n",
       "    </tr>\n",
       "    <tr>\n",
       "      <th>3</th>\n",
       "      <td>4.6</td>\n",
       "      <td>3.1</td>\n",
       "      <td>1.5</td>\n",
       "      <td>0.2</td>\n",
       "      <td>setosa</td>\n",
       "      <td>0</td>\n",
       "    </tr>\n",
       "    <tr>\n",
       "      <th>4</th>\n",
       "      <td>5.0</td>\n",
       "      <td>3.6</td>\n",
       "      <td>1.4</td>\n",
       "      <td>0.2</td>\n",
       "      <td>setosa</td>\n",
       "      <td>0</td>\n",
       "    </tr>\n",
       "  </tbody>\n",
       "</table>\n",
       "</div>"
      ],
      "text/plain": [
       "   SepalLength  SepalWidth  PetalLength  PetalWidth    Name  Species\n",
       "0          5.1         3.5          1.4         0.2  setosa        0\n",
       "1          4.9         3.0          1.4         0.2  setosa        0\n",
       "2          4.7         3.2          1.3         0.2  setosa        0\n",
       "3          4.6         3.1          1.5         0.2  setosa        0\n",
       "4          5.0         3.6          1.4         0.2  setosa        0"
      ]
     },
     "execution_count": 1,
     "metadata": {},
     "output_type": "execute_result"
    }
   ],
   "source": [
    "import pandas as pd\n",
    "df=pd.read_csv('c:/data/iris/iris.csv')\n",
    "df.head()"
   ]
  },
  {
   "cell_type": "code",
   "execution_count": 2,
   "metadata": {},
   "outputs": [
    {
     "data": {
      "text/plain": [
       "150"
      ]
     },
     "execution_count": 2,
     "metadata": {},
     "output_type": "execute_result"
    }
   ],
   "source": [
    "from sqlalchemy import create_engine\n",
    "import cx_Oracle\n",
    "#오라클 서버에 접속하기 위한 엔진 생성\n",
    "engine=create_engine('oracle+cx_oracle://python:0000@xe')\n",
    "conn=engine.connect()\n",
    "# 데이터프레임의 내용을 테아블로 export\n",
    "df.to_sql(name='iris', con=engine, if_exists='replace', index=False)"
   ]
  },
  {
   "cell_type": "code",
   "execution_count": 3,
   "metadata": {},
   "outputs": [
    {
     "name": "stdout",
     "output_type": "stream",
     "text": [
      "(2007, 1, 1, 1, '1939', 1920, '2146', 2135, 'WN', '998', 'N746SW', '127', '135', '107', '11', '19', 'TPA', 'BWI', '842', '3', '17', '0', None, '0', '0', '0', '0', '0', '0')\n",
      "(2007, 1, 1, 1, '731', 730, '940', 940, 'WN', '2157', 'N689SW', '129', '130', '110', '0', '1', 'TPA', 'BWI', '842', '7', '12', '0', None, '0', '0', '0', '0', '0', '0')\n",
      "(2007, 1, 1, 1, '1931', 1910, '2132', 2125, 'WN', '1806', 'N650SW', '121', '135', '108', '7', '21', 'TPA', 'CMH', '829', '2', '11', '0', None, '0', '0', '0', '0', '0', '0')\n",
      "(2007, 1, 1, 1, '1120', 1110, '1314', 1325, 'WN', '2503', 'N744SW', '114', '135', '101', '-11', '10', 'TPA', 'CMH', '829', '3', '10', '0', None, '0', '0', '0', '0', '0', '0')\n"
     ]
    }
   ],
   "source": [
    "import cx_Oracle\n",
    "conn = cx_Oracle.connect(\"python/0000@localhost:1521/xe\")\n",
    "cursor = conn.cursor()                      \n",
    "cursor.execute('select * from ontime where rownum < 5')\n",
    "rows = cursor.fetchall()         \n",
    "for row in rows:\n",
    "    print(row)\n",
    "cursor.close()  \n",
    "conn.close()"
   ]
  },
  {
   "cell_type": "code",
   "execution_count": 6,
   "metadata": {},
   "outputs": [
    {
     "name": "stdout",
     "output_type": "stream",
     "text": [
      "NW\t8.76\n",
      "XE\t11.58\n",
      "UA\t13.57\n",
      "F9\t7.38\n",
      "AA\t14.3\n",
      "FL\t8.95\n",
      "AQ\t0.44\n",
      "AS\t10.56\n",
      "OO\t8.11\n",
      "OH\t12.13\n",
      "CO\t11.68\n",
      "YV\t11.86\n",
      "HA\t-0.88\n",
      "WN\t10.35\n",
      "US\t11.92\n",
      "9E\t8.83\n",
      "MQ\t12.64\n",
      "EV\t19.59\n",
      "DL\t7.75\n",
      "B6\t14.45\n"
     ]
    }
   ],
   "source": [
    "#항공사별 출발 지연 시간 평균(실행시간이 오래 걸림)\n",
    "import cx_Oracle\n",
    "conn = cx_Oracle.connect(\"python/0000@localhost:1521/xe\")\n",
    "cursor = conn.cursor()                      \n",
    "cursor.execute('''\n",
    "select uniquecarrier, round(avg(depdelay),2)\n",
    "from ontime\n",
    "group by uniquecarrier\n",
    "''')    \n",
    "rows=cursor.fetchall()         \n",
    "for row in rows:\n",
    "    print('{}\\t{}'.format(row[0],row[1]))\n",
    "\n",
    "cursor.close()\n",
    "conn.close()"
   ]
  },
  {
   "cell_type": "code",
   "execution_count": 7,
   "metadata": {},
   "outputs": [
    {
     "name": "stdout",
     "output_type": "stream",
     "text": [
      "(1, 1924, -47)\n",
      "(2, 2257, -32)\n",
      "(3, 300, -29.4)\n",
      "(4, 2244, -20)\n",
      "(5, 1801, -18.6)\n"
     ]
    }
   ],
   "source": [
    "#시간대별( 10월, 월요일에 출발할 때 가장 좋은 시간대는? )\n",
    "import cx_Oracle\n",
    "conn=cx_Oracle.connect(\"python/0000@localhost:1521/xe\")\n",
    "cursor=conn.cursor()                      \n",
    "cursor.execute('''\n",
    "select *\n",
    "from (\n",
    "    select rownum as rn, A.*\n",
    "    from (\n",
    "        select CRSDepTime, avg(arrdelay) arrdelay\n",
    "        from ontime\n",
    "        where month=10 and dayofweek=1\n",
    "        group by CRSDepTime\n",
    "        order by arrdelay\n",
    "    ) A\n",
    ") where rn between 1 and 5\n",
    "''')    \n",
    "rows=cursor.fetchall()         \n",
    "for row in rows:\n",
    "    print(row)\n",
    "\n",
    "cursor.close()\n",
    "conn.close()"
   ]
  },
  {
   "cell_type": "code",
   "execution_count": null,
   "metadata": {},
   "outputs": [],
   "source": []
  }
 ],
 "metadata": {
  "kernelspec": {
   "display_name": "base",
   "language": "python",
   "name": "python3"
  },
  "language_info": {
   "codemirror_mode": {
    "name": "ipython",
    "version": 3
   },
   "file_extension": ".py",
   "mimetype": "text/x-python",
   "name": "python",
   "nbconvert_exporter": "python",
   "pygments_lexer": "ipython3",
   "version": "3.9.13"
  },
  "orig_nbformat": 4
 },
 "nbformat": 4,
 "nbformat_minor": 2
}
