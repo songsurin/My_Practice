{
 "cells": [
  {
   "cell_type": "code",
   "execution_count": 3,
   "metadata": {},
   "outputs": [
    {
     "name": "stdout",
     "output_type": "stream",
     "text": [
      "5050\n"
     ]
    }
   ],
   "source": [
    "j=0\n",
    "for i in range(1,101):\n",
    "    j=j+i\n",
    "print(j)"
   ]
  },
  {
   "cell_type": "code",
   "execution_count": 4,
   "metadata": {},
   "outputs": [],
   "source": [
    "def mysum(a):\n",
    "    j=0\n",
    "    for i in range(1,a+1):\n",
    "        j=j+i\n",
    "    return(j)"
   ]
  },
  {
   "cell_type": "code",
   "execution_count": 5,
   "metadata": {},
   "outputs": [
    {
     "data": {
      "text/plain": [
       "5050"
      ]
     },
     "execution_count": 5,
     "metadata": {},
     "output_type": "execute_result"
    }
   ],
   "source": [
    "mysum(100)"
   ]
  },
  {
   "cell_type": "code",
   "execution_count": 9,
   "metadata": {},
   "outputs": [],
   "source": [
    "class My:\n",
    "    def mysum(self, n):\n",
    "        result=0\n",
    "        for i in range(1,n+1):\n",
    "            result=result+i\n",
    "        return result"
   ]
  },
  {
   "cell_type": "code",
   "execution_count": 10,
   "metadata": {},
   "outputs": [
    {
     "data": {
      "text/plain": [
       "5050"
      ]
     },
     "execution_count": 10,
     "metadata": {},
     "output_type": "execute_result"
    }
   ],
   "source": [
    "m=My()  # 인스턴스 생성\n",
    "m.mysum(100) # 함수 호출"
   ]
  },
  {
   "cell_type": "code",
   "execution_count": 1,
   "metadata": {},
   "outputs": [
    {
     "name": "stdout",
     "output_type": "stream",
     "text": [
      "12\n",
      "[ 6  7  8  9 10]\n"
     ]
    }
   ],
   "source": [
    "import numpy as np\n",
    "\n",
    "def plus(x):\n",
    "    return x+5\n",
    "\n",
    "print(plus(7))\n",
    "print(plus(np.array([1,2,3,4,5]))) # np.array 빼면 error"
   ]
  },
  {
   "cell_type": "code",
   "execution_count": 2,
   "metadata": {},
   "outputs": [
    {
     "name": "stdout",
     "output_type": "stream",
     "text": [
      "12\n",
      "8\n"
     ]
    }
   ],
   "source": [
    "plus=lambda x: x+5\n",
    "print(plus(7))\n",
    "\n",
    "a= lambda x, y: x+y\n",
    "print(a(2,6))"
   ]
  },
  {
   "cell_type": "code",
   "execution_count": 3,
   "metadata": {},
   "outputs": [
    {
     "data": {
      "text/plain": [
       "array([False,  True, False,  True, False,  True, False,  True, False,\n",
       "        True])"
      ]
     },
     "execution_count": 3,
     "metadata": {},
     "output_type": "execute_result"
    }
   ],
   "source": [
    "even=lambda x : x%2 == 0\n",
    "even(np.array(range(1,11)))"
   ]
  },
  {
   "cell_type": "code",
   "execution_count": 4,
   "metadata": {},
   "outputs": [
    {
     "data": {
      "text/plain": [
       "[2, 4, 6, 8, 10]"
      ]
     },
     "execution_count": 4,
     "metadata": {},
     "output_type": "execute_result"
    }
   ],
   "source": [
    "list(filter(even, range(1,11))) # True만 선택"
   ]
  },
  {
   "cell_type": "code",
   "execution_count": 17,
   "metadata": {},
   "outputs": [
    {
     "name": "stdout",
     "output_type": "stream",
     "text": [
      "요금:6,228.571428571428원\n"
     ]
    }
   ],
   "source": [
    "# 택시요금 계산\n",
    "# 2km까지는 기본요금 4800원\n",
    "# 2km 넘으면 140m마다 200원씩\n",
    "# 운행 거리 입력(km): 20\n",
    "km=float(input('운행거리를 입력하시오(km)'))\n",
    "if km<=2:\n",
    "    fee=4800\n",
    "    print(f'요금:{fee:,}원')\n",
    "else:\n",
    "    fee=4800+((km-2)/0.14)*200\n",
    "    print(f'요금:{fee:,}원')"
   ]
  },
  {
   "cell_type": "code",
   "execution_count": 16,
   "metadata": {},
   "outputs": [
    {
     "name": "stdout",
     "output_type": "stream",
     "text": [
      "요금:6,229원\n"
     ]
    }
   ],
   "source": [
    "import math\n",
    "km=float(input('운행 거리를 입력하세요'))\n",
    "fee=4800+math.ceil((km-2)*1000/140*200)\n",
    "print(f'요금:{fee:,}원')"
   ]
  },
  {
   "cell_type": "code",
   "execution_count": 18,
   "metadata": {},
   "outputs": [],
   "source": [
    "# 화씨 온도 = (섭씨 온도 *1.8) +32\n",
    "\n",
    "def fahrenheit(a):\n",
    "    return (a*1.8)+32"
   ]
  },
  {
   "cell_type": "code",
   "execution_count": 20,
   "metadata": {},
   "outputs": [
    {
     "data": {
      "text/plain": [
       "212.0"
      ]
     },
     "execution_count": 20,
     "metadata": {},
     "output_type": "execute_result"
    }
   ],
   "source": [
    "fahrenheit(100)"
   ]
  },
  {
   "cell_type": "code",
   "execution_count": 21,
   "metadata": {},
   "outputs": [],
   "source": [
    "# 섭씨 온도 = (화씨 온도-32)/1.8\n",
    "\n",
    "def celsius(b):\n",
    "    return (b-32)/1.8"
   ]
  },
  {
   "cell_type": "code",
   "execution_count": 23,
   "metadata": {},
   "outputs": [
    {
     "data": {
      "text/plain": [
       "100.0"
      ]
     },
     "execution_count": 23,
     "metadata": {},
     "output_type": "execute_result"
    }
   ],
   "source": [
    "celsius(212)"
   ]
  },
  {
   "cell_type": "code",
   "execution_count": 25,
   "metadata": {},
   "outputs": [
    {
     "data": {
      "text/plain": [
       "[(1, 'a', '딸기'), (2, 'b', '복숭아'), (3, 'c', '참외')]"
      ]
     },
     "execution_count": 25,
     "metadata": {},
     "output_type": "execute_result"
    }
   ],
   "source": [
    "a=[1,2,3]\n",
    "b=['a','b','c']\n",
    "c=['딸기','복숭아','참외']\n",
    "d=list(zip(a,b,c))\n",
    "d"
   ]
  },
  {
   "cell_type": "code",
   "execution_count": 26,
   "metadata": {},
   "outputs": [
    {
     "data": {
      "text/plain": [
       "[(1, 'a'), (2, 'b'), (3, 'c')]"
      ]
     },
     "execution_count": 26,
     "metadata": {},
     "output_type": "execute_result"
    }
   ],
   "source": [
    "def my_zip(a,b):\n",
    "    if len(a) != len(b):\n",
    "        print('두 입력값의 길이가 다릅니다.')\n",
    "    else:\n",
    "        n=len(a)\n",
    "        c=[]\n",
    "        for i in range(n):\n",
    "            c.append((a[i],b[i]))\n",
    "        return c\n",
    "    \n",
    "a=[1,2,3]\n",
    "b=['a','b','c']\n",
    "my_zip(a,b)"
   ]
  },
  {
   "cell_type": "code",
   "execution_count": null,
   "metadata": {},
   "outputs": [],
   "source": []
  }
 ],
 "metadata": {
  "kernelspec": {
   "display_name": "Python 3",
   "language": "python",
   "name": "python3"
  },
  "language_info": {
   "codemirror_mode": {
    "name": "ipython",
    "version": 3
   },
   "file_extension": ".py",
   "mimetype": "text/x-python",
   "name": "python",
   "nbconvert_exporter": "python",
   "pygments_lexer": "ipython3",
   "version": "3.8.7"
  },
  "orig_nbformat": 4
 },
 "nbformat": 4,
 "nbformat_minor": 2
}
