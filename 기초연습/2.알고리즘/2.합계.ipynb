{
 "cells": [
  {
   "cell_type": "code",
   "execution_count": 1,
   "metadata": {},
   "outputs": [
    {
     "name": "stdout",
     "output_type": "stream",
     "text": [
      "55\n",
      "5050\n"
     ]
    }
   ],
   "source": [
    "def mysum(n):\n",
    "   s=0\n",
    "   for i in range(1, n + 1):\n",
    "     s=s+i\n",
    "   return s\n",
    "\n",
    "print(mysum(10)) # 1 10 ( :10, :55) 부터 까지의 합 입력 출력\n",
    "print(mysum(100)) # 1 100 ( :100, :5050) "
   ]
  },
  {
   "cell_type": "code",
   "execution_count": 2,
   "metadata": {},
   "outputs": [
    {
     "name": "stdout",
     "output_type": "stream",
     "text": [
      "55\n",
      "5050\n"
     ]
    }
   ],
   "source": [
    "def sum_n(n):\n",
    "    return n*(n+1)//2 #정수몫\n",
    "\n",
    "print(sum_n(10)) # 1 10 ( :10, :55) 부터 까지 합 입력 출력\n",
    "print(sum_n(100)) # 1 100 ( :100, :5050) "
   ]
  },
  {
   "cell_type": "code",
   "execution_count": null,
   "metadata": {},
   "outputs": [],
   "source": []
  }
 ],
 "metadata": {
  "kernelspec": {
   "display_name": "base",
   "language": "python",
   "name": "python3"
  },
  "language_info": {
   "codemirror_mode": {
    "name": "ipython",
    "version": 3
   },
   "file_extension": ".py",
   "mimetype": "text/x-python",
   "name": "python",
   "nbconvert_exporter": "python",
   "pygments_lexer": "ipython3",
   "version": "3.9.13"
  },
  "orig_nbformat": 4
 },
 "nbformat": 4,
 "nbformat_minor": 2
}
