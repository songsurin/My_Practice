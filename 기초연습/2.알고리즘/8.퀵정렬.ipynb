{
 "cells": [
  {
   "cell_type": "code",
   "execution_count": null,
   "metadata": {},
   "outputs": [],
   "source": [
    "def quicksort(array):\n",
    " # 배열의 사이즈가 0또는 1인 경우는 그대로 리턴함\n",
    " if len(array)<2:\n",
    "   return array\n",
    " else: # 배열의 사이즈가 2보다 큰 경우\n",
    "   pivot=array[0] # 배열의 기준원소를 0번으로 선택\n",
    "   # 기준원소보다 작은 값들\n",
    "   less=[i for i in array[1:] if i <= pivot]\n",
    "   # 기준원소보다 큰 값들\n",
    "   greater=[i for i in array[1:] if i > pivot]\n",
    "   return quicksort(less)+[pivot]+quicksort(greater)\n",
    " print(array)\n",
    "\n",
    "quicksort([-10, -15, 2, 3, 0, 9, 11, 16, 1])"
   ]
  },
  {
   "cell_type": "code",
   "execution_count": null,
   "metadata": {},
   "outputs": [],
   "source": []
  }
 ],
 "metadata": {
  "kernelspec": {
   "display_name": "base",
   "language": "python",
   "name": "python3"
  },
  "language_info": {
   "name": "python",
   "version": "3.9.13"
  },
  "orig_nbformat": 4
 },
 "nbformat": 4,
 "nbformat_minor": 2
}
