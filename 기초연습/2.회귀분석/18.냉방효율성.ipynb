{
 "cells": [
  {
   "cell_type": "code",
   "execution_count": 1,
   "metadata": {},
   "outputs": [],
   "source": [
    "import pandas as pd\n",
    "import matplotlib.pyplot as plt\n",
    "import seaborn as sns\n",
    "from scipy import stats"
   ]
  },
  {
   "cell_type": "code",
   "execution_count": 10,
   "metadata": {},
   "outputs": [
    {
     "data": {
      "text/html": [
       "<div>\n",
       "<style scoped>\n",
       "    .dataframe tbody tr th:only-of-type {\n",
       "        vertical-align: middle;\n",
       "    }\n",
       "\n",
       "    .dataframe tbody tr th {\n",
       "        vertical-align: top;\n",
       "    }\n",
       "\n",
       "    .dataframe thead th {\n",
       "        text-align: right;\n",
       "    }\n",
       "</style>\n",
       "<table border=\"1\" class=\"dataframe\">\n",
       "  <thead>\n",
       "    <tr style=\"text-align: right;\">\n",
       "      <th></th>\n",
       "      <th>X1</th>\n",
       "      <th>X2</th>\n",
       "      <th>X3</th>\n",
       "      <th>X4</th>\n",
       "      <th>X5</th>\n",
       "      <th>X6</th>\n",
       "      <th>X7</th>\n",
       "      <th>X8</th>\n",
       "      <th>Y1</th>\n",
       "      <th>Y2</th>\n",
       "    </tr>\n",
       "  </thead>\n",
       "  <tbody>\n",
       "    <tr>\n",
       "      <th>0</th>\n",
       "      <td>0.98</td>\n",
       "      <td>514.5</td>\n",
       "      <td>294.0</td>\n",
       "      <td>110.25</td>\n",
       "      <td>7.0</td>\n",
       "      <td>2</td>\n",
       "      <td>0.0</td>\n",
       "      <td>0</td>\n",
       "      <td>15.55</td>\n",
       "      <td>21.33</td>\n",
       "    </tr>\n",
       "    <tr>\n",
       "      <th>1</th>\n",
       "      <td>0.98</td>\n",
       "      <td>514.5</td>\n",
       "      <td>294.0</td>\n",
       "      <td>110.25</td>\n",
       "      <td>7.0</td>\n",
       "      <td>3</td>\n",
       "      <td>0.0</td>\n",
       "      <td>0</td>\n",
       "      <td>15.55</td>\n",
       "      <td>21.33</td>\n",
       "    </tr>\n",
       "    <tr>\n",
       "      <th>2</th>\n",
       "      <td>0.98</td>\n",
       "      <td>514.5</td>\n",
       "      <td>294.0</td>\n",
       "      <td>110.25</td>\n",
       "      <td>7.0</td>\n",
       "      <td>4</td>\n",
       "      <td>0.0</td>\n",
       "      <td>0</td>\n",
       "      <td>15.55</td>\n",
       "      <td>21.33</td>\n",
       "    </tr>\n",
       "    <tr>\n",
       "      <th>3</th>\n",
       "      <td>0.98</td>\n",
       "      <td>514.5</td>\n",
       "      <td>294.0</td>\n",
       "      <td>110.25</td>\n",
       "      <td>7.0</td>\n",
       "      <td>5</td>\n",
       "      <td>0.0</td>\n",
       "      <td>0</td>\n",
       "      <td>15.55</td>\n",
       "      <td>21.33</td>\n",
       "    </tr>\n",
       "    <tr>\n",
       "      <th>4</th>\n",
       "      <td>0.90</td>\n",
       "      <td>563.5</td>\n",
       "      <td>318.5</td>\n",
       "      <td>122.50</td>\n",
       "      <td>7.0</td>\n",
       "      <td>2</td>\n",
       "      <td>0.0</td>\n",
       "      <td>0</td>\n",
       "      <td>20.84</td>\n",
       "      <td>28.28</td>\n",
       "    </tr>\n",
       "  </tbody>\n",
       "</table>\n",
       "</div>"
      ],
      "text/plain": [
       "     X1     X2     X3      X4   X5  X6   X7  X8     Y1     Y2\n",
       "0  0.98  514.5  294.0  110.25  7.0   2  0.0   0  15.55  21.33\n",
       "1  0.98  514.5  294.0  110.25  7.0   3  0.0   0  15.55  21.33\n",
       "2  0.98  514.5  294.0  110.25  7.0   4  0.0   0  15.55  21.33\n",
       "3  0.98  514.5  294.0  110.25  7.0   5  0.0   0  15.55  21.33\n",
       "4  0.90  563.5  318.5  122.50  7.0   2  0.0   0  20.84  28.28"
      ]
     },
     "execution_count": 10,
     "metadata": {},
     "output_type": "execute_result"
    }
   ],
   "source": [
    "df=pd.read_csv(\"c:/data/energy/ENB2012_data.csv\")\n",
    "df.head()"
   ]
  },
  {
   "cell_type": "code",
   "execution_count": 11,
   "metadata": {},
   "outputs": [
    {
     "name": "stdout",
     "output_type": "stream",
     "text": [
      "Index(['X1', 'X2', 'X3', 'X4', 'X5', 'X6', 'X7', 'X8'], dtype='object')\n",
      "     X1     X2     X3      X4   X5  X6   X7  X8\n",
      "0  0.98  514.5  294.0  110.25  7.0   2  0.0   0\n",
      "1  0.98  514.5  294.0  110.25  7.0   3  0.0   0\n",
      "2  0.98  514.5  294.0  110.25  7.0   4  0.0   0\n",
      "3  0.98  514.5  294.0  110.25  7.0   5  0.0   0\n",
      "4  0.90  563.5  318.5  122.50  7.0   2  0.0   0\n",
      "0    15.55\n",
      "1    15.55\n",
      "2    15.55\n",
      "3    15.55\n",
      "4    20.84\n",
      "Name: Y1, dtype: float64\n"
     ]
    }
   ],
   "source": [
    "train_cols = df.columns[0:8]\n",
    "print(train_cols)\n",
    "X=df[train_cols] # 독립변수\n",
    "y=df[\"Y1\"] # 난방 하중\n",
    "print(df[train_cols].head())\n",
    "print(y.head())"
   ]
  },
  {
   "cell_type": "code",
   "execution_count": 14,
   "metadata": {},
   "outputs": [
    {
     "data": {
      "text/plain": [
       "Text(0, 0.5, 'Y1')"
      ]
     },
     "execution_count": 14,
     "metadata": {},
     "output_type": "execute_result"
    },
    {
     "data": {
      "image/png": "[encoded data removed]",
      "text/plain": [
       "<Figure size 640x480 with 1 Axes>"
      ]
     },
     "metadata": {},
     "output_type": "display_data"
    }
   ],
   "source": [
    "slope, intercept, r_value, p_value, stderr = stats.linregress(x2, y2)\n",
    "#산점도 그리기\n",
    "plt.scatter(x2,y2)\n",
    "#회귀선 그리기\n",
    "plt.plot(x2, slope*x2 +intercept, c=\"red\")\n",
    "plt.xlabel(\"X1\")\n",
    "plt.ylabel(\"Y1\")"
   ]
  },
  {
   "cell_type": "code",
   "execution_count": 15,
   "metadata": {},
   "outputs": [],
   "source": [
    "from sklearn.model_selection import train_test_split\n",
    "X_train, X_test, y_train, y_test = train_test_split(X, y, test_size=0.2, random_state=10)"
   ]
  },
  {
   "cell_type": "code",
   "execution_count": 16,
   "metadata": {},
   "outputs": [
    {
     "name": "stdout",
     "output_type": "stream",
     "text": [
      "회귀계수\n",
      " X1   -21.114384\n",
      "X2    -0.003032\n",
      "X3     0.031192\n",
      "X4    -0.017112\n",
      "X5     5.385563\n",
      "X6    -0.017253\n",
      "X7    20.405945\n",
      "X8     0.213261\n",
      "dtype: float64\n",
      "R-squared\n",
      " 0.9848599675190215\n",
      "P values\n",
      " X1    3.436249e-22\n",
      "X2    4.057924e-02\n",
      "X3    1.997717e-12\n",
      "X4    1.889720e-09\n",
      "X5    1.367608e-73\n",
      "X6    8.760142e-01\n",
      "X7    1.358458e-77\n",
      "X8    9.518520e-03\n",
      "dtype: float64\n",
      "                                 OLS Regression Results                                \n",
      "=======================================================================================\n",
      "Dep. Variable:                     Y1   R-squared (uncentered):                   0.985\n",
      "Model:                            OLS   Adj. R-squared (uncentered):              0.985\n",
      "Method:                 Least Squares   F-statistic:                              5641.\n",
      "Date:                Thu, 09 Mar 2023   Prob (F-statistic):                        0.00\n",
      "Time:                        15:52:00   Log-Likelihood:                         -1550.9\n",
      "No. Observations:                 614   AIC:                                      3116.\n",
      "Df Residuals:                     607   BIC:                                      3147.\n",
      "Df Model:                           7                                                  \n",
      "Covariance Type:            nonrobust                                                  \n",
      "==============================================================================\n",
      "                 coef    std err          t      P>|t|      [0.025      0.975]\n",
      "------------------------------------------------------------------------------\n",
      "X1           -21.1144      2.095    -10.078      0.000     -25.229     -17.000\n",
      "X2            -0.0030      0.001     -2.052      0.041      -0.006      -0.000\n",
      "X3             0.0312      0.004      7.184      0.000       0.023       0.040\n",
      "X4            -0.0171      0.003     -6.100      0.000      -0.023      -0.012\n",
      "X5             5.3856      0.257     20.921      0.000       4.880       5.891\n",
      "X6            -0.0173      0.111     -0.156      0.876      -0.234       0.200\n",
      "X7            20.4059      0.941     21.675      0.000      18.557      22.255\n",
      "X8             0.2133      0.082      2.601      0.010       0.052       0.374\n",
      "==============================================================================\n",
      "Omnibus:                        7.347   Durbin-Watson:                   2.215\n",
      "Prob(Omnibus):                  0.025   Jarque-Bera (JB):               10.621\n",
      "Skew:                          -0.036   Prob(JB):                      0.00494\n",
      "Kurtosis:                       3.640   Cond. No.                     4.55e+16\n",
      "==============================================================================\n",
      "\n",
      "Notes:\n",
      "[1] R² is computed without centering (uncentered) since the model does not contain a constant.\n",
      "[2] Standard Errors assume that the covariance matrix of the errors is correctly specified.\n",
      "[3] The smallest eigenvalue is 1.76e-25. This might indicate that there are\n",
      "strong multicollinearity problems or that the design matrix is singular.\n"
     ]
    }
   ],
   "source": [
    "#다중 회귀분석\n",
    "import statsmodels.api as sm\n",
    "model=sm.OLS(y_train, X_train)\n",
    "result=model.fit()\n",
    "print(\"회귀계수\\n\",result.params)\n",
    "print(\"R-squared\\n\",result.rsquared)\n",
    "print(\"P values\\n\",result.pvalues)\n",
    "#요약 결과 출력\n",
    "print(result.summary())\n",
    "# 모델의 설명력 98.5%\n",
    "# p-value : X6(건물의 방위)은 유의하지 않음\n",
    "# 해석\n",
    "# X1(상대적 크기) : 건물이 크면 난방 비용이 감소한다.\n",
    "# X7(유리창 면적) : 유리창 면적이 크면 난방 비용이 증가한다.\n",
    "# X5(전체 높이) : 건물 높이가 높으면 난방 비용이 증가한다."
   ]
  },
  {
   "cell_type": "code",
   "execution_count": 17,
   "metadata": {},
   "outputs": [],
   "source": [
    "from sklearn.linear_model import LinearRegression\n",
    "model=LinearRegression().fit(X_train, y_train)"
   ]
  },
  {
   "cell_type": "code",
   "execution_count": 18,
   "metadata": {},
   "outputs": [
    {
     "name": "stdout",
     "output_type": "stream",
     "text": [
      "학습용: 0.9123488471973691\n",
      "검증용: 0.9313289941747572\n"
     ]
    }
   ],
   "source": [
    "print(\"학습용:\",model.score(X_train, y_train))\n",
    "print(\"검증용:\",model.score(X_test, y_test))"
   ]
  },
  {
   "cell_type": "code",
   "execution_count": 19,
   "metadata": {},
   "outputs": [
    {
     "name": "stdout",
     "output_type": "stream",
     "text": [
      "Index(['X1', 'X2', 'X3', 'X4', 'X5', 'X7', 'X8'], dtype='object')\n",
      "     X1     X2     X3      X4   X5   X7  X8\n",
      "0  0.98  514.5  294.0  110.25  7.0  0.0   0\n",
      "1  0.98  514.5  294.0  110.25  7.0  0.0   0\n",
      "2  0.98  514.5  294.0  110.25  7.0  0.0   0\n",
      "3  0.98  514.5  294.0  110.25  7.0  0.0   0\n",
      "4  0.90  563.5  318.5  122.50  7.0  0.0   0\n",
      "0    15.55\n",
      "1    15.55\n",
      "2    15.55\n",
      "3    15.55\n",
      "4    20.84\n",
      "Name: Y1, dtype: float64\n"
     ]
    }
   ],
   "source": [
    "# X6을 제외한 모델\n",
    "train_cols=df.columns[[0,1,2,3,4,6,7]]\n",
    "print(train_cols)\n",
    "X=df[train_cols] # 독립변수\n",
    "y=df[\"Y1\"] # 난방 하중\n",
    "print(df[train_cols].head())\n",
    "print(y.head())"
   ]
  },
  {
   "cell_type": "code",
   "execution_count": 20,
   "metadata": {},
   "outputs": [
    {
     "name": "stdout",
     "output_type": "stream",
     "text": [
      "회귀계수\n",
      " X1   -20.074078\n",
      "X2    -0.003728\n",
      "X3     0.032211\n",
      "X4    -0.017969\n",
      "X5     5.296006\n",
      "X7    19.960769\n",
      "X8     0.206300\n",
      "dtype: float64\n",
      "R-squared\n",
      " 0.9854172860136521\n",
      "P values\n",
      " X1    5.633124e-27\n",
      "X2    2.812092e-03\n",
      "X3    9.694136e-17\n",
      "X4    4.287014e-13\n",
      "X5    4.060134e-93\n",
      "X7    1.058102e-96\n",
      "X8    3.633760e-03\n",
      "dtype: float64\n",
      "                                 OLS Regression Results                                \n",
      "=======================================================================================\n",
      "Dep. Variable:                     Y1   R-squared (uncentered):                   0.985\n",
      "Model:                            OLS   Adj. R-squared (uncentered):              0.985\n",
      "Method:                 Least Squares   F-statistic:                              8582.\n",
      "Date:                Thu, 09 Mar 2023   Prob (F-statistic):                        0.00\n",
      "Time:                        15:52:40   Log-Likelihood:                         -1922.2\n",
      "No. Observations:                 768   AIC:                                      3856.\n",
      "Df Residuals:                     762   BIC:                                      3884.\n",
      "Df Model:                           6                                                  \n",
      "Covariance Type:            nonrobust                                                  \n",
      "==============================================================================\n",
      "                 coef    std err          t      P>|t|      [0.025      0.975]\n",
      "------------------------------------------------------------------------------\n",
      "X1           -20.0741      1.796    -11.180      0.000     -23.599     -16.549\n",
      "X2            -0.0037      0.001     -2.997      0.003      -0.006      -0.001\n",
      "X3             0.0322      0.004      8.503      0.000       0.025       0.040\n",
      "X4            -0.0180      0.002     -7.375      0.000      -0.023      -0.013\n",
      "X5             5.2960      0.224     23.643      0.000       4.856       5.736\n",
      "X7            19.9608      0.823     24.246      0.000      18.345      21.577\n",
      "X8             0.2063      0.071      2.917      0.004       0.067       0.345\n",
      "==============================================================================\n",
      "Omnibus:                       13.560   Durbin-Watson:                   0.608\n",
      "Prob(Omnibus):                  0.001   Jarque-Bera (JB):               24.003\n",
      "Skew:                          -0.005   Prob(JB):                     6.14e-06\n",
      "Kurtosis:                       3.866   Cond. No.                     4.46e+16\n",
      "==============================================================================\n",
      "\n",
      "Notes:\n",
      "[1] R² is computed without centering (uncentered) since the model does not contain a constant.\n",
      "[2] Standard Errors assume that the covariance matrix of the errors is correctly specified.\n",
      "[3] The smallest eigenvalue is 2.28e-25. This might indicate that there are\n",
      "strong multicollinearity problems or that the design matrix is singular.\n"
     ]
    }
   ],
   "source": [
    "#다중 회귀분석\n",
    "import statsmodels.api as sm\n",
    "model=sm.OLS(y, X)\n",
    "result=model.fit()\n",
    "print(\"회귀계수\\n\",result.params)\n",
    "print(\"R-squared\\n\",result.rsquared)\n",
    "print(\"P values\\n\",result.pvalues)\n",
    "#요약 결과 출력\n",
    "print(result.summary())\n",
    "# 모델의 설명력 98.5%(개선되지는 않음)\n",
    "# p-value : 모든 변수가 유의함"
   ]
  },
  {
   "cell_type": "code",
   "execution_count": 3,
   "metadata": {},
   "outputs": [
    {
     "name": "stdout",
     "output_type": "stream",
     "text": [
      "Index(['X1', 'X2', 'X3', 'X4', 'X5', 'X6', 'X7', 'X8'], dtype='object')\n",
      "     X1     X2     X3      X4   X5  X6   X7  X8\n",
      "0  0.98  514.5  294.0  110.25  7.0   2  0.0   0\n",
      "1  0.98  514.5  294.0  110.25  7.0   3  0.0   0\n",
      "2  0.98  514.5  294.0  110.25  7.0   4  0.0   0\n",
      "3  0.98  514.5  294.0  110.25  7.0   5  0.0   0\n",
      "4  0.90  563.5  318.5  122.50  7.0   2  0.0   0\n",
      "0    21.33\n",
      "1    21.33\n",
      "2    21.33\n",
      "3    21.33\n",
      "4    28.28\n",
      "Name: Y2, dtype: float64\n"
     ]
    }
   ],
   "source": [
    "train_cols=df.columns[0:8]\n",
    "print(train_cols)\n",
    "X=df[train_cols] # 독립변수\n",
    "y=df[\"Y2\"] # 냉방 하중\n",
    "print(df[train_cols].head())\n",
    "print(y.head())"
   ]
  },
  {
   "cell_type": "code",
   "execution_count": 5,
   "metadata": {},
   "outputs": [
    {
     "data": {
      "text/plain": [
       "LinregressResult(slope=57.05053290659375, intercept=-19.008355146122057, rvalue=0.6343390663353593, pvalue=1.0608759912586174e-87, stderr=2.5120843906893957, intercept_stderr=1.937931054665182)"
      ]
     },
     "execution_count": 5,
     "metadata": {},
     "output_type": "execute_result"
    }
   ],
   "source": [
    "# 단순회귀분석\n",
    "# 기울기(slope), 절편(intercept), 상관계수(rvalue), p-value(예측 불확실성의 정도를 나타내는 값)\n",
    "# 에러의 표준편차(stderr)\n",
    "# p-value는 0.05 미만일 때 통계적으로 유의함\n",
    "x2=df[\"X1\"].values\n",
    "y2=df[\"Y2\"].values\n",
    "result=stats.linregress(x2,y2)\n",
    "result"
   ]
  },
  {
   "cell_type": "code",
   "execution_count": 6,
   "metadata": {},
   "outputs": [
    {
     "data": {
      "text/plain": [
       "Text(0, 0.5, 'Y2')"
      ]
     },
     "execution_count": 6,
     "metadata": {},
     "output_type": "execute_result"
    },
    {
     "data": {
      "image/png": "[encoded data removed]",
      "text/plain": [
       "<Figure size 640x480 with 1 Axes>"
      ]
     },
     "metadata": {},
     "output_type": "display_data"
    }
   ],
   "source": [
    "slope, intercept, r_value, p_value, stderr = stats.linregress(x2, y2)\n",
    "#산점도 그리기\n",
    "plt.scatter(x2,y2)\n",
    "#회귀선 그리기\n",
    "plt.plot(x2, slope*x2 +intercept, c=\"red\")\n",
    "plt.xlabel(\"X1\")\n",
    "plt.ylabel(\"Y2\")"
   ]
  },
  {
   "cell_type": "code",
   "execution_count": 7,
   "metadata": {},
   "outputs": [
    {
     "name": "stdout",
     "output_type": "stream",
     "text": [
      "회귀계수\n",
      " X1   -19.013495\n",
      "X2     0.002107\n",
      "X3     0.017989\n",
      "X4    -0.007941\n",
      "X5     5.588124\n",
      "X6     0.129937\n",
      "X7    14.749602\n",
      "X8     0.043625\n",
      "dtype: float64\n",
      "R-squared\n",
      " 0.9849864771252053\n",
      "P values\n",
      " X1    8.097264e-21\n",
      "X2    1.283383e-01\n",
      "X3    1.593725e-05\n",
      "X4    3.001620e-03\n",
      "X5    3.534444e-88\n",
      "X6    2.150330e-01\n",
      "X7    6.492365e-52\n",
      "X8    5.727529e-01\n",
      "dtype: float64\n",
      "                                 OLS Regression Results                                \n",
      "=======================================================================================\n",
      "Dep. Variable:                     Y2   R-squared (uncentered):                   0.985\n",
      "Model:                            OLS   Adj. R-squared (uncentered):              0.985\n",
      "Method:                 Least Squares   F-statistic:                              7132.\n",
      "Date:                Thu, 09 Mar 2023   Prob (F-statistic):                        0.00\n",
      "Time:                        15:40:13   Log-Likelihood:                         -1990.2\n",
      "No. Observations:                 768   AIC:                                      3994.\n",
      "Df Residuals:                     761   BIC:                                      4027.\n",
      "Df Model:                           7                                                  \n",
      "Covariance Type:            nonrobust                                                  \n",
      "==============================================================================\n",
      "                 coef    std err          t      P>|t|      [0.025      0.975]\n",
      "------------------------------------------------------------------------------\n",
      "X1           -19.0135      1.973     -9.638      0.000     -22.886     -15.141\n",
      "X2             0.0021      0.001      1.522      0.128      -0.001       0.005\n",
      "X3             0.0180      0.004      4.343      0.000       0.010       0.026\n",
      "X4            -0.0079      0.003     -2.977      0.003      -0.013      -0.003\n",
      "X5             5.5881      0.245     22.812      0.000       5.107       6.069\n",
      "X6             0.1299      0.105      1.241      0.215      -0.076       0.335\n",
      "X7            14.7496      0.900     16.386      0.000      12.983      16.517\n",
      "X8             0.0436      0.077      0.564      0.573      -0.108       0.195\n",
      "==============================================================================\n",
      "Omnibus:                       77.438   Durbin-Watson:                   1.037\n",
      "Prob(Omnibus):                  0.000   Jarque-Bera (JB):              164.254\n",
      "Skew:                           0.596   Prob(JB):                     2.15e-36\n",
      "Kurtosis:                       4.927   Cond. No.                     4.48e+16\n",
      "==============================================================================\n",
      "\n",
      "Notes:\n",
      "[1] R² is computed without centering (uncentered) since the model does not contain a constant.\n",
      "[2] Standard Errors assume that the covariance matrix of the errors is correctly specified.\n",
      "[3] The smallest eigenvalue is 2.26e-25. This might indicate that there are\n",
      "strong multicollinearity problems or that the design matrix is singular.\n"
     ]
    }
   ],
   "source": [
    "#다중 회귀분석\n",
    "import statsmodels.api as sm\n",
    "model=sm.OLS(y, X)\n",
    "result=model.fit()\n",
    "print(\"회귀계수\\n\",result.params)\n",
    "print(\"R-squared\\n\",result.rsquared)\n",
    "print(\"P values\\n\",result.pvalues)\n",
    "#요약 결과 출력\n",
    "print(result.summary())\n",
    "# 모델의 설명력 98.5%\n",
    "# p-value : X2(건축 표면적),X6(건물의 방위),X8(유리창 면적의 분산)은 유의하지 않음\n",
    "# 해석\n",
    "# X1(상대적 크기) : 건물이 크면 냉방비용이 감소된다.\n",
    "# X7(유리창 면적) : 유리창 면적이 크면 냉방비용이 증가한다.\n",
    "# X5(전체 높이) : 건물 높이가 높으면 냉방비용이 증가한다."
   ]
  },
  {
   "cell_type": "code",
   "execution_count": 8,
   "metadata": {},
   "outputs": [],
   "source": [
    "from sklearn.model_selection import train_test_split\n",
    "from sklearn.linear_model import LinearRegression\n",
    "#데이터셋을 나눔(학습용:검증용 = 8:2)\n",
    "#random_state : 난수 발생을 위한 seed의 인자값\n",
    "X_train, X_test, y_train, y_test=train_test_split(X, y, test_size=0.2, random_state=10)\n",
    "model=LinearRegression().fit(X_train, y_train)"
   ]
  },
  {
   "cell_type": "code",
   "execution_count": 9,
   "metadata": {},
   "outputs": [
    {
     "name": "stdout",
     "output_type": "stream",
     "text": [
      "학습용: 0.882472464160759\n",
      "검증용: 0.9079786235531351\n"
     ]
    }
   ],
   "source": [
    "print(\"학습용:\",model.score(X_train, y_train))\n",
    "print(\"검증용:\",model.score(X_test, y_test))"
   ]
  },
  {
   "cell_type": "code",
   "execution_count": null,
   "metadata": {},
   "outputs": [],
   "source": [
    "# X6 제외"
   ]
  }
 ],
 "metadata": {
  "kernelspec": {
   "display_name": "base",
   "language": "python",
   "name": "python3"
  },
  "language_info": {
   "codemirror_mode": {
    "name": "ipython",
    "version": 3
   },
   "file_extension": ".py",
   "mimetype": "text/x-python",
   "name": "python",
   "nbconvert_exporter": "python",
   "pygments_lexer": "ipython3",
   "version": "3.9.13"
  },
  "orig_nbformat": 4
 },
 "nbformat": 4,
 "nbformat_minor": 2
}
